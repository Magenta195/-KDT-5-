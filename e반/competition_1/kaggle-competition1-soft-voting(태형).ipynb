{
 "cells": [
  {
   "cell_type": "code",
   "execution_count": 1,
   "id": "f044855e",
   "metadata": {
    "execution": {
     "iopub.execute_input": "2023-04-04T00:48:58.287101Z",
     "iopub.status.busy": "2023-04-04T00:48:58.286612Z",
     "iopub.status.idle": "2023-04-04T00:48:58.327701Z",
     "shell.execute_reply": "2023-04-04T00:48:58.326663Z"
    },
    "executionInfo": {
     "elapsed": 512,
     "status": "ok",
     "timestamp": 1680483609883,
     "user": {
      "displayName": "김태형",
      "userId": "09710701555131574343"
     },
     "user_tz": -540
    },
    "id": "eCqraHsjQCKg",
    "outputId": "4f812d48-bf3b-452c-9a51-e909917f5fd1",
    "papermill": {
     "duration": 0.050845,
     "end_time": "2023-04-04T00:48:58.329946",
     "exception": false,
     "start_time": "2023-04-04T00:48:58.279101",
     "status": "completed"
    },
    "tags": []
   },
   "outputs": [
    {
     "data": {
      "text/html": [
       "<div>\n",
       "<style scoped>\n",
       "    .dataframe tbody tr th:only-of-type {\n",
       "        vertical-align: middle;\n",
       "    }\n",
       "\n",
       "    .dataframe tbody tr th {\n",
       "        vertical-align: top;\n",
       "    }\n",
       "\n",
       "    .dataframe thead th {\n",
       "        text-align: right;\n",
       "    }\n",
       "</style>\n",
       "<table border=\"1\" class=\"dataframe\">\n",
       "  <thead>\n",
       "    <tr style=\"text-align: right;\">\n",
       "      <th></th>\n",
       "      <th>filename</th>\n",
       "      <th>label</th>\n",
       "    </tr>\n",
       "  </thead>\n",
       "  <tbody>\n",
       "    <tr>\n",
       "      <th>0</th>\n",
       "      <td>image_001.png</td>\n",
       "      <td>covid</td>\n",
       "    </tr>\n",
       "    <tr>\n",
       "      <th>1</th>\n",
       "      <td>image_002.png</td>\n",
       "      <td>covid</td>\n",
       "    </tr>\n",
       "    <tr>\n",
       "      <th>2</th>\n",
       "      <td>image_003.png</td>\n",
       "      <td>normal</td>\n",
       "    </tr>\n",
       "    <tr>\n",
       "      <th>3</th>\n",
       "      <td>image_004.png</td>\n",
       "      <td>normal</td>\n",
       "    </tr>\n",
       "    <tr>\n",
       "      <th>4</th>\n",
       "      <td>image_005.png</td>\n",
       "      <td>normal</td>\n",
       "    </tr>\n",
       "  </tbody>\n",
       "</table>\n",
       "</div>"
      ],
      "text/plain": [
       "        filename   label\n",
       "0  image_001.png   covid\n",
       "1  image_002.png   covid\n",
       "2  image_003.png  normal\n",
       "3  image_004.png  normal\n",
       "4  image_005.png  normal"
      ]
     },
     "execution_count": 1,
     "metadata": {},
     "output_type": "execute_result"
    }
   ],
   "source": [
    "import pandas as pd\n",
    "import numpy as np\n",
    "import os\n",
    "\n",
    "DATA_PATH = '/kaggle/input/kdtai-1/COVID_19_XRAY'\n",
    "\n",
    "TRAIN_PATH = os.path.join(DATA_PATH, \"train\")\n",
    "TEST_PATH = os.path.join(DATA_PATH, \"test\")\n",
    "TRAIN_LABEL_PATH = os.path.join(TRAIN_PATH, 'labels.csv')\n",
    "\n",
    "labels_df = pd.read_csv(TRAIN_LABEL_PATH)\n",
    "labels_df.head(5)\n"
   ]
  },
  {
   "cell_type": "code",
   "execution_count": 2,
   "id": "9a8b96e7",
   "metadata": {
    "execution": {
     "iopub.execute_input": "2023-04-04T00:48:58.338386Z",
     "iopub.status.busy": "2023-04-04T00:48:58.337430Z",
     "iopub.status.idle": "2023-04-04T00:49:12.957471Z",
     "shell.execute_reply": "2023-04-04T00:49:12.956375Z"
    },
    "id": "KhlqfqwVSp4U",
    "papermill": {
     "duration": 14.626983,
     "end_time": "2023-04-04T00:49:12.960184",
     "exception": false,
     "start_time": "2023-04-04T00:48:58.333201",
     "status": "completed"
    },
    "tags": []
   },
   "outputs": [],
   "source": [
    "import shutil\n",
    "\n",
    "label_list = [ \"covid\", \"normal\" ]\n",
    "_DATA_PATH = \"/kaggle/working\"\n",
    "\n",
    "_TRAIN_PATH = os.path.join(_DATA_PATH, \"train\")\n",
    "_TEST_PATH = os.path.join(_DATA_PATH, \"test\")\n",
    "TRAIN_LABEL_PATH = os.path.join(TRAIN_PATH, 'labels.csv')\n",
    "\n",
    "\n",
    "for label in label_list :\n",
    "  TARGET_PATH = os.path.join(_TRAIN_PATH, label)\n",
    "\n",
    "  os.makedirs(TARGET_PATH, exist_ok = True)\n",
    "  file_list = labels_df[labels_df[\"label\"] == label][\"filename\"].tolist()\n",
    "\n",
    "  for filename in file_list :\n",
    "    src = os.path.join(TRAIN_PATH, filename)\n",
    "    dst = os.path.join(TARGET_PATH, filename)\n",
    "\n",
    "    shutil.copy(src, dst)\n"
   ]
  },
  {
   "cell_type": "code",
   "execution_count": 3,
   "id": "c6768dbd",
   "metadata": {
    "execution": {
     "iopub.execute_input": "2023-04-04T00:49:12.968370Z",
     "iopub.status.busy": "2023-04-04T00:49:12.967568Z",
     "iopub.status.idle": "2023-04-04T00:49:15.075855Z",
     "shell.execute_reply": "2023-04-04T00:49:15.074773Z"
    },
    "id": "S8reW2-Wiz9E",
    "papermill": {
     "duration": 2.115117,
     "end_time": "2023-04-04T00:49:15.078475",
     "exception": false,
     "start_time": "2023-04-04T00:49:12.963358",
     "status": "completed"
    },
    "tags": []
   },
   "outputs": [],
   "source": [
    "NEW_TEST_PATH = os.path.join(_TEST_PATH, \"test\")\n",
    "test_file_list = os.listdir(TEST_PATH)\n",
    "\n",
    "os.makedirs(NEW_TEST_PATH, exist_ok = True)\n",
    "for filename in test_file_list :\n",
    "  src = os.path.join(TEST_PATH, filename)\n",
    "  dst = os.path.join(NEW_TEST_PATH, filename)\n",
    "\n",
    "  shutil.copy(src, dst)"
   ]
  },
  {
   "cell_type": "code",
   "execution_count": 4,
   "id": "417461a4",
   "metadata": {
    "execution": {
     "iopub.execute_input": "2023-04-04T00:49:15.086206Z",
     "iopub.status.busy": "2023-04-04T00:49:15.085868Z",
     "iopub.status.idle": "2023-04-04T00:49:18.612549Z",
     "shell.execute_reply": "2023-04-04T00:49:18.611405Z"
    },
    "papermill": {
     "duration": 3.53344,
     "end_time": "2023-04-04T00:49:18.615255",
     "exception": false,
     "start_time": "2023-04-04T00:49:15.081815",
     "status": "completed"
    },
    "tags": []
   },
   "outputs": [],
   "source": [
    "import numpy as np\n",
    "import random\n",
    "import os\n",
    "\n",
    "\n",
    "import torchvision\n",
    "from torchvision import transforms \n",
    "\n",
    "from torch.utils.data import DataLoader, random_split\n",
    "from torch import nn\n",
    "import torch\n",
    "\n",
    "import timm\n",
    "from tqdm import tqdm"
   ]
  },
  {
   "cell_type": "code",
   "execution_count": 5,
   "id": "2c7e71e5",
   "metadata": {
    "execution": {
     "iopub.execute_input": "2023-04-04T00:49:18.625722Z",
     "iopub.status.busy": "2023-04-04T00:49:18.625408Z",
     "iopub.status.idle": "2023-04-04T00:49:18.633928Z",
     "shell.execute_reply": "2023-04-04T00:49:18.632919Z"
    },
    "id": "ik8mWqn1cVBC",
    "papermill": {
     "duration": 0.017243,
     "end_time": "2023-04-04T00:49:18.635954",
     "exception": false,
     "start_time": "2023-04-04T00:49:18.618711",
     "status": "completed"
    },
    "tags": []
   },
   "outputs": [],
   "source": [
    "class effinet_test(nn.Module) :\n",
    "    def __init__(self, n_outputs:int, **kwargs):\n",
    "        super(effinet_test, self).__init__()\n",
    "        self.model = timm.create_model('efficientnetv2_rw_m', pretrained=True, num_classes=0)\n",
    "        self.classifier = nn.Sequential(\n",
    "            nn.Linear(in_features = 2152, out_features=512),\n",
    "            nn.ReLU(),\n",
    "            nn.Dropout(p=0.5),\n",
    "            nn.Linear(in_features=512, out_features=n_outputs)\n",
    "        )\n",
    "\n",
    "    def forward(self, x):\n",
    "        output = self.model(x)\n",
    "        output = self.classifier(output)\n",
    "        \n",
    "        return output"
   ]
  },
  {
   "cell_type": "markdown",
   "id": "50bcc8e9",
   "metadata": {
    "id": "iJKctCmrnAe3",
    "papermill": {
     "duration": 0.002778,
     "end_time": "2023-04-04T00:49:18.642031",
     "exception": false,
     "start_time": "2023-04-04T00:49:18.639253",
     "status": "completed"
    },
    "tags": []
   },
   "source": [
    "이제 이를 모듈화시켜서 앙상블 학습을 진행해보자!"
   ]
  },
  {
   "cell_type": "code",
   "execution_count": 6,
   "id": "01225ac1",
   "metadata": {
    "execution": {
     "iopub.execute_input": "2023-04-04T00:49:18.651009Z",
     "iopub.status.busy": "2023-04-04T00:49:18.650698Z",
     "iopub.status.idle": "2023-04-04T00:49:18.679504Z",
     "shell.execute_reply": "2023-04-04T00:49:18.678507Z"
    },
    "executionInfo": {
     "elapsed": 2,
     "status": "ok",
     "timestamp": 1680495311666,
     "user": {
      "displayName": "김태형",
      "userId": "09710701555131574343"
     },
     "user_tz": -540
    },
    "id": "iNrr5djIwMAh",
    "papermill": {
     "duration": 0.035799,
     "end_time": "2023-04-04T00:49:18.681698",
     "exception": false,
     "start_time": "2023-04-04T00:49:18.645899",
     "status": "completed"
    },
    "tags": []
   },
   "outputs": [],
   "source": [
    "class Full_Model() :\n",
    "  def __init__(self, seed, save_path, epoch, max_patience) :\n",
    "    self.save_path = save_path\n",
    "    self.epoch = epoch\n",
    "    self.max_patience = max_patience\n",
    "\n",
    "    self._seed_fix(seed)\n",
    "    self._get_dataloader()\n",
    "    self._set_model_env()\n",
    "\n",
    "\n",
    "  def _seed_fix(self, seed) :\n",
    "    os.environ['PYTHONHASHSEED'] = str(seed)\n",
    "    random.seed(seed)\n",
    "\n",
    "    np.random.seed(seed)\n",
    "    torch.manual_seed(seed)\n",
    "    torch.cuda.manual_seed(seed)\n",
    "    torch.cuda.manual_seed_all(seed)\n",
    "    torch.backends.cudnn.deterministic = True\n",
    "    torch.backends.cudnn.benchmark = False\n",
    "    torch.backends.cudnn.enabled = False\n",
    "\n",
    "    self.device = torch.device('cuda' if torch.cuda.is_available() else 'cpu')\n",
    "\n",
    "\n",
    "  def _get_dataloader(self) :\n",
    "    train_transform = transforms.Compose([\n",
    "    transforms.RandomHorizontalFlip(0.5), \n",
    "    transforms.RandomRotation(30),\n",
    "    transforms.ToTensor(),\n",
    "    transforms.Normalize((0.485, 0.465, 0.406),\n",
    "                         (0.229, 0.224, 0.225))\n",
    "    ])\n",
    "\n",
    "    test_transform = transforms.Compose([\n",
    "        transforms.ToTensor(),\n",
    "        transforms.Normalize((0.485, 0.465, 0.406),\n",
    "                            (0.229, 0.224, 0.225))\n",
    "        \n",
    "    ])\n",
    "\n",
    "\n",
    "    TOT_DSET = torchvision.datasets.ImageFolder(root = _TRAIN_PATH, transform = train_transform)\n",
    "\n",
    "    dataset_size = len(TOT_DSET)\n",
    "    train_size = int(dataset_size * 0.9)\n",
    "    validation_size = int(dataset_size * 0.1)\n",
    "\n",
    "    train_dset, val_dset = random_split(TOT_DSET, [train_size, validation_size])\n",
    "    test_dset = torchvision.datasets.ImageFolder(root = _TEST_PATH, transform = test_transform)\n",
    "\n",
    "    self.train_dataloader = DataLoader(dataset = train_dset, batch_size = 8, shuffle = True)\n",
    "    self.val_dataloader = DataLoader(dataset = val_dset, batch_size = 8, shuffle = True)\n",
    "    self.test_dataloader = DataLoader(dataset = test_dset, batch_size = 8)\n",
    "\n",
    "  def _set_model_env(self) :\n",
    "    self.model = effinet_test(n_outputs = 2)\n",
    "    self.model.to(self.device)\n",
    "    self.criterion = nn.CrossEntropyLoss()\n",
    "    self.optimizer = torch.optim.Adam(self.model.parameters(), lr=0.001)\n",
    "    self.scheduler = torch.optim.lr_scheduler.ExponentialLR(self.optimizer, gamma=0.8)\n",
    "\n",
    "  def _train_one_epoch(self) :\n",
    "    self.train_acc = 0.\n",
    "    self.train_loss = 0.\n",
    "    self.model.train()\n",
    "\n",
    "    tot_size = 0.\n",
    "    for img, label in tqdm(self.train_dataloader) :\n",
    "      img = img.to(self.device)\n",
    "      label = label.to(self.device)\n",
    "\n",
    "      self.optimizer.zero_grad()\n",
    "      output = self.model(img)\n",
    "\n",
    "      loss = self.criterion(output, label)\n",
    "\n",
    "      _, preds = torch.max(output.data, 1)\n",
    "      self.train_loss += loss.item()\n",
    "      self.train_acc += torch.sum( preds == label.data ).item()\n",
    "      tot_size += label.size(0)\n",
    "\n",
    "      loss.backward()\n",
    "      self.optimizer.step()\n",
    "\n",
    "    self.scheduler.step()\n",
    "\n",
    "    self.train_acc /= tot_size\n",
    "    self.train_loss /= tot_size\n",
    "\n",
    "  def _val_one_epoch(self) :\n",
    "    self.val_acc = 0.\n",
    "    self.val_loss = 0.\n",
    "\n",
    "    self.model.eval()\n",
    "    tot_size = 0.\n",
    "\n",
    "    with torch.no_grad() :\n",
    "      for img, label in tqdm(self.val_dataloader) :\n",
    "        img = img.to(self.device)\n",
    "        label = label.to(self.device)\n",
    "\n",
    "        output = self.model(img)\n",
    "        loss = self.criterion(output, label)\n",
    "\n",
    "        _, preds = torch.max(output.data, 1)\n",
    "        self.val_loss += loss.item()\n",
    "        self.val_acc += torch.sum( preds == label.data ).item()\n",
    "        tot_size += label.size(0)\n",
    "\n",
    "    self.val_acc /= tot_size\n",
    "    self.val_loss /= tot_size\n",
    "\n",
    "  def train(self) :\n",
    "    self.max_val_acc = 0.\n",
    "    self.min_val_loss = float('inf')\n",
    "    patience = 0.\n",
    "    for i in range(self.epoch) :\n",
    "      self._train_one_epoch()\n",
    "      self._val_one_epoch()\n",
    "      \n",
    "      print( \" [ epoch : {:03d} ] train_acc : {:0.03f}, train_loss : {:0.03f}, val_acc : {:0.03f}, val_loss : {:0.03f} \".format(i+1, self.train_acc, self.train_loss, self.val_acc, self.val_loss))\n",
    "      \n",
    "\n",
    "      if self.max_val_acc < self.val_acc or self.max_val_acc == self.val_acc and self.min_val_loss > self.val_loss :\n",
    "        print(\"Deteced New Best Acc, Model Save....\")\n",
    "        torch.save(self.model, self.save_path)\n",
    "        patience = 0\n",
    "        self.max_val_acc = self.val_acc\n",
    "        self.min_val_loss = self.val_loss\n",
    "\n",
    "      else :\n",
    "        patience += 1\n",
    "\n",
    "        if patience > self.max_patience :\n",
    "          print(\"early stopping\")\n",
    "          return\n",
    "\n",
    "  def predict(self) :\n",
    "    model = torch.load(self.save_path)\n",
    "    model.to(self.device)\n",
    "    self.pred_list = np.array([])\n",
    "\n",
    "    with torch.no_grad() :\n",
    "      for img, _ in tqdm(self.test_dataloader) :\n",
    "        img = img.to(self.device)\n",
    "\n",
    "        output = model(img)\n",
    "        _, preds = torch.max(output.data, 1)\n",
    "\n",
    "        self.pred_list = np.append(self.pred_list, preds.cpu().numpy(), axis = 0)\n",
    "\n",
    "  def predict_soft(self) :\n",
    "    model = torch.load(self.save_path)\n",
    "    model.to(self.device)\n",
    "    self.pred_list = list()\n",
    "    \n",
    "    with torch.no_grad() :\n",
    "      for img, _ in tqdm(self.test_dataloader) :\n",
    "        img = img.to(self.device)\n",
    "\n",
    "        output = model(img)\n",
    "\n",
    "        self.pred_list.append(output.cpu().numpy())\n",
    "    self.pred_list = np.concatenate(self.pred_list, axis = 0)\n",
    "        \n",
    "  def get_predict_list(self) :\n",
    "    return self.pred_list"
   ]
  },
  {
   "cell_type": "code",
   "execution_count": 7,
   "id": "6cff1697",
   "metadata": {
    "execution": {
     "iopub.execute_input": "2023-04-04T00:49:18.689594Z",
     "iopub.status.busy": "2023-04-04T00:49:18.689313Z",
     "iopub.status.idle": "2023-04-04T03:44:31.030289Z",
     "shell.execute_reply": "2023-04-04T03:44:31.029075Z"
    },
    "id": "gk9brMq00fEq",
    "outputId": "0e558cb8-7ee1-4f81-f03b-e61e777bf4f6",
    "papermill": {
     "duration": 10512.349571,
     "end_time": "2023-04-04T03:44:31.034513",
     "exception": false,
     "start_time": "2023-04-04T00:49:18.684942",
     "status": "completed"
    },
    "tags": []
   },
   "outputs": [
    {
     "name": "stderr",
     "output_type": "stream",
     "text": [
      "Downloading: \"https://github.com/rwightman/pytorch-image-models/releases/download/v0.1-weights/efficientnetv2_rw_m_agc-3d90cb1e.pth\" to /root/.cache/torch/hub/checkpoints/efficientnetv2_rw_m_agc-3d90cb1e.pth\n",
      "100%|██████████| 225/225 [01:42<00:00,  2.19it/s]\n",
      "100%|██████████| 25/25 [00:03<00:00,  7.98it/s]\n"
     ]
    },
    {
     "name": "stdout",
     "output_type": "stream",
     "text": [
      " [ epoch : 001 ] train_acc : 0.796, train_loss : 0.058, val_acc : 0.865, val_loss : 0.036 \n",
      "Deteced New Best Acc, Model Save....\n"
     ]
    },
    {
     "name": "stderr",
     "output_type": "stream",
     "text": [
      "100%|██████████| 225/225 [01:40<00:00,  2.23it/s]\n",
      "100%|██████████| 25/25 [00:03<00:00,  8.02it/s]\n"
     ]
    },
    {
     "name": "stdout",
     "output_type": "stream",
     "text": [
      " [ epoch : 002 ] train_acc : 0.870, train_loss : 0.043, val_acc : 0.940, val_loss : 0.020 \n",
      "Deteced New Best Acc, Model Save....\n"
     ]
    },
    {
     "name": "stderr",
     "output_type": "stream",
     "text": [
      "100%|██████████| 225/225 [01:40<00:00,  2.23it/s]\n",
      "100%|██████████| 25/25 [00:03<00:00,  8.01it/s]\n"
     ]
    },
    {
     "name": "stdout",
     "output_type": "stream",
     "text": [
      " [ epoch : 003 ] train_acc : 0.898, train_loss : 0.031, val_acc : 0.900, val_loss : 0.030 \n"
     ]
    },
    {
     "name": "stderr",
     "output_type": "stream",
     "text": [
      "100%|██████████| 225/225 [01:40<00:00,  2.23it/s]\n",
      "100%|██████████| 25/25 [00:03<00:00,  7.99it/s]\n"
     ]
    },
    {
     "name": "stdout",
     "output_type": "stream",
     "text": [
      " [ epoch : 004 ] train_acc : 0.916, train_loss : 0.028, val_acc : 0.920, val_loss : 0.021 \n"
     ]
    },
    {
     "name": "stderr",
     "output_type": "stream",
     "text": [
      "100%|██████████| 225/225 [01:40<00:00,  2.23it/s]\n",
      "100%|██████████| 25/25 [00:03<00:00,  7.99it/s]\n"
     ]
    },
    {
     "name": "stdout",
     "output_type": "stream",
     "text": [
      " [ epoch : 005 ] train_acc : 0.938, train_loss : 0.021, val_acc : 0.940, val_loss : 0.022 \n"
     ]
    },
    {
     "name": "stderr",
     "output_type": "stream",
     "text": [
      "100%|██████████| 225/225 [01:40<00:00,  2.24it/s]\n",
      "100%|██████████| 25/25 [00:03<00:00,  8.07it/s]\n"
     ]
    },
    {
     "name": "stdout",
     "output_type": "stream",
     "text": [
      " [ epoch : 006 ] train_acc : 0.967, train_loss : 0.012, val_acc : 0.950, val_loss : 0.017 \n",
      "Deteced New Best Acc, Model Save....\n"
     ]
    },
    {
     "name": "stderr",
     "output_type": "stream",
     "text": [
      "100%|██████████| 225/225 [01:40<00:00,  2.24it/s]\n",
      "100%|██████████| 25/25 [00:03<00:00,  7.72it/s]\n"
     ]
    },
    {
     "name": "stdout",
     "output_type": "stream",
     "text": [
      " [ epoch : 007 ] train_acc : 0.963, train_loss : 0.015, val_acc : 0.965, val_loss : 0.013 \n",
      "Deteced New Best Acc, Model Save....\n"
     ]
    },
    {
     "name": "stderr",
     "output_type": "stream",
     "text": [
      "100%|██████████| 225/225 [01:40<00:00,  2.23it/s]\n",
      "100%|██████████| 25/25 [00:03<00:00,  8.04it/s]\n"
     ]
    },
    {
     "name": "stdout",
     "output_type": "stream",
     "text": [
      " [ epoch : 008 ] train_acc : 0.971, train_loss : 0.011, val_acc : 0.965, val_loss : 0.010 \n",
      "Deteced New Best Acc, Model Save....\n"
     ]
    },
    {
     "name": "stderr",
     "output_type": "stream",
     "text": [
      "100%|██████████| 225/225 [01:40<00:00,  2.23it/s]\n",
      "100%|██████████| 25/25 [00:03<00:00,  7.98it/s]\n"
     ]
    },
    {
     "name": "stdout",
     "output_type": "stream",
     "text": [
      " [ epoch : 009 ] train_acc : 0.984, train_loss : 0.007, val_acc : 0.985, val_loss : 0.005 \n",
      "Deteced New Best Acc, Model Save....\n"
     ]
    },
    {
     "name": "stderr",
     "output_type": "stream",
     "text": [
      "100%|██████████| 225/225 [01:40<00:00,  2.23it/s]\n",
      "100%|██████████| 25/25 [00:03<00:00,  8.00it/s]\n"
     ]
    },
    {
     "name": "stdout",
     "output_type": "stream",
     "text": [
      " [ epoch : 010 ] train_acc : 0.989, train_loss : 0.005, val_acc : 0.980, val_loss : 0.006 \n"
     ]
    },
    {
     "name": "stderr",
     "output_type": "stream",
     "text": [
      "100%|██████████| 225/225 [01:40<00:00,  2.23it/s]\n",
      "100%|██████████| 25/25 [00:03<00:00,  7.91it/s]\n"
     ]
    },
    {
     "name": "stdout",
     "output_type": "stream",
     "text": [
      " [ epoch : 011 ] train_acc : 0.984, train_loss : 0.005, val_acc : 0.975, val_loss : 0.010 \n"
     ]
    },
    {
     "name": "stderr",
     "output_type": "stream",
     "text": [
      "100%|██████████| 225/225 [01:40<00:00,  2.23it/s]\n",
      "100%|██████████| 25/25 [00:03<00:00,  8.04it/s]\n"
     ]
    },
    {
     "name": "stdout",
     "output_type": "stream",
     "text": [
      " [ epoch : 012 ] train_acc : 0.989, train_loss : 0.004, val_acc : 0.990, val_loss : 0.003 \n",
      "Deteced New Best Acc, Model Save....\n"
     ]
    },
    {
     "name": "stderr",
     "output_type": "stream",
     "text": [
      "100%|██████████| 225/225 [01:40<00:00,  2.23it/s]\n",
      "100%|██████████| 25/25 [00:03<00:00,  8.01it/s]\n"
     ]
    },
    {
     "name": "stdout",
     "output_type": "stream",
     "text": [
      " [ epoch : 013 ] train_acc : 0.988, train_loss : 0.004, val_acc : 0.985, val_loss : 0.004 \n"
     ]
    },
    {
     "name": "stderr",
     "output_type": "stream",
     "text": [
      "100%|██████████| 225/225 [01:40<00:00,  2.23it/s]\n",
      "100%|██████████| 25/25 [00:03<00:00,  8.03it/s]\n"
     ]
    },
    {
     "name": "stdout",
     "output_type": "stream",
     "text": [
      " [ epoch : 014 ] train_acc : 0.994, train_loss : 0.003, val_acc : 0.990, val_loss : 0.005 \n"
     ]
    },
    {
     "name": "stderr",
     "output_type": "stream",
     "text": [
      "100%|██████████| 225/225 [01:40<00:00,  2.24it/s]\n",
      "100%|██████████| 25/25 [00:03<00:00,  8.08it/s]\n"
     ]
    },
    {
     "name": "stdout",
     "output_type": "stream",
     "text": [
      " [ epoch : 015 ] train_acc : 0.996, train_loss : 0.002, val_acc : 1.000, val_loss : 0.001 \n",
      "Deteced New Best Acc, Model Save....\n"
     ]
    },
    {
     "name": "stderr",
     "output_type": "stream",
     "text": [
      "100%|██████████| 225/225 [01:40<00:00,  2.23it/s]\n",
      "100%|██████████| 25/25 [00:03<00:00,  8.06it/s]\n"
     ]
    },
    {
     "name": "stdout",
     "output_type": "stream",
     "text": [
      " [ epoch : 016 ] train_acc : 0.997, train_loss : 0.003, val_acc : 0.995, val_loss : 0.004 \n"
     ]
    },
    {
     "name": "stderr",
     "output_type": "stream",
     "text": [
      "100%|██████████| 225/225 [01:40<00:00,  2.23it/s]\n",
      "100%|██████████| 25/25 [00:03<00:00,  7.80it/s]\n"
     ]
    },
    {
     "name": "stdout",
     "output_type": "stream",
     "text": [
      " [ epoch : 017 ] train_acc : 0.994, train_loss : 0.002, val_acc : 0.985, val_loss : 0.006 \n"
     ]
    },
    {
     "name": "stderr",
     "output_type": "stream",
     "text": [
      "100%|██████████| 225/225 [01:40<00:00,  2.24it/s]\n",
      "100%|██████████| 25/25 [00:03<00:00,  8.00it/s]\n"
     ]
    },
    {
     "name": "stdout",
     "output_type": "stream",
     "text": [
      " [ epoch : 018 ] train_acc : 0.994, train_loss : 0.002, val_acc : 0.985, val_loss : 0.007 \n"
     ]
    },
    {
     "name": "stderr",
     "output_type": "stream",
     "text": [
      "100%|██████████| 225/225 [01:40<00:00,  2.23it/s]\n",
      "100%|██████████| 25/25 [00:03<00:00,  8.02it/s]\n"
     ]
    },
    {
     "name": "stdout",
     "output_type": "stream",
     "text": [
      " [ epoch : 019 ] train_acc : 0.998, train_loss : 0.001, val_acc : 0.990, val_loss : 0.005 \n"
     ]
    },
    {
     "name": "stderr",
     "output_type": "stream",
     "text": [
      "100%|██████████| 225/225 [01:40<00:00,  2.23it/s]\n",
      "100%|██████████| 25/25 [00:03<00:00,  7.97it/s]\n"
     ]
    },
    {
     "name": "stdout",
     "output_type": "stream",
     "text": [
      " [ epoch : 020 ] train_acc : 0.996, train_loss : 0.002, val_acc : 0.985, val_loss : 0.003 \n"
     ]
    },
    {
     "name": "stderr",
     "output_type": "stream",
     "text": [
      "100%|██████████| 50/50 [00:06<00:00,  8.09it/s]\n",
      "100%|██████████| 225/225 [01:41<00:00,  2.23it/s]\n",
      "100%|██████████| 25/25 [00:03<00:00,  8.01it/s]\n"
     ]
    },
    {
     "name": "stdout",
     "output_type": "stream",
     "text": [
      " [ epoch : 001 ] train_acc : 0.790, train_loss : 0.058, val_acc : 0.850, val_loss : 0.039 \n",
      "Deteced New Best Acc, Model Save....\n"
     ]
    },
    {
     "name": "stderr",
     "output_type": "stream",
     "text": [
      "100%|██████████| 225/225 [01:41<00:00,  2.22it/s]\n",
      "100%|██████████| 25/25 [00:03<00:00,  7.96it/s]\n"
     ]
    },
    {
     "name": "stdout",
     "output_type": "stream",
     "text": [
      " [ epoch : 002 ] train_acc : 0.868, train_loss : 0.043, val_acc : 0.850, val_loss : 0.044 \n"
     ]
    },
    {
     "name": "stderr",
     "output_type": "stream",
     "text": [
      "100%|██████████| 225/225 [01:41<00:00,  2.21it/s]\n",
      "100%|██████████| 25/25 [00:03<00:00,  8.00it/s]\n"
     ]
    },
    {
     "name": "stdout",
     "output_type": "stream",
     "text": [
      " [ epoch : 003 ] train_acc : 0.893, train_loss : 0.035, val_acc : 0.935, val_loss : 0.019 \n",
      "Deteced New Best Acc, Model Save....\n"
     ]
    },
    {
     "name": "stderr",
     "output_type": "stream",
     "text": [
      "100%|██████████| 225/225 [01:41<00:00,  2.22it/s]\n",
      "100%|██████████| 25/25 [00:03<00:00,  7.98it/s]\n"
     ]
    },
    {
     "name": "stdout",
     "output_type": "stream",
     "text": [
      " [ epoch : 004 ] train_acc : 0.926, train_loss : 0.027, val_acc : 0.975, val_loss : 0.014 \n",
      "Deteced New Best Acc, Model Save....\n"
     ]
    },
    {
     "name": "stderr",
     "output_type": "stream",
     "text": [
      "100%|██████████| 225/225 [01:41<00:00,  2.22it/s]\n",
      "100%|██████████| 25/25 [00:03<00:00,  7.98it/s]\n"
     ]
    },
    {
     "name": "stdout",
     "output_type": "stream",
     "text": [
      " [ epoch : 005 ] train_acc : 0.943, train_loss : 0.022, val_acc : 0.980, val_loss : 0.011 \n",
      "Deteced New Best Acc, Model Save....\n"
     ]
    },
    {
     "name": "stderr",
     "output_type": "stream",
     "text": [
      "100%|██████████| 225/225 [01:41<00:00,  2.22it/s]\n",
      "100%|██████████| 25/25 [00:03<00:00,  7.89it/s]\n"
     ]
    },
    {
     "name": "stdout",
     "output_type": "stream",
     "text": [
      " [ epoch : 006 ] train_acc : 0.938, train_loss : 0.022, val_acc : 0.975, val_loss : 0.010 \n"
     ]
    },
    {
     "name": "stderr",
     "output_type": "stream",
     "text": [
      "100%|██████████| 225/225 [01:41<00:00,  2.22it/s]\n",
      "100%|██████████| 25/25 [00:03<00:00,  8.03it/s]\n"
     ]
    },
    {
     "name": "stdout",
     "output_type": "stream",
     "text": [
      " [ epoch : 007 ] train_acc : 0.962, train_loss : 0.013, val_acc : 0.985, val_loss : 0.006 \n",
      "Deteced New Best Acc, Model Save....\n"
     ]
    },
    {
     "name": "stderr",
     "output_type": "stream",
     "text": [
      "100%|██████████| 225/225 [01:40<00:00,  2.23it/s]\n",
      "100%|██████████| 25/25 [00:03<00:00,  7.85it/s]\n"
     ]
    },
    {
     "name": "stdout",
     "output_type": "stream",
     "text": [
      " [ epoch : 008 ] train_acc : 0.978, train_loss : 0.009, val_acc : 0.965, val_loss : 0.008 \n"
     ]
    },
    {
     "name": "stderr",
     "output_type": "stream",
     "text": [
      "100%|██████████| 225/225 [01:41<00:00,  2.22it/s]\n",
      "100%|██████████| 25/25 [00:03<00:00,  7.73it/s]\n"
     ]
    },
    {
     "name": "stdout",
     "output_type": "stream",
     "text": [
      " [ epoch : 009 ] train_acc : 0.981, train_loss : 0.007, val_acc : 0.980, val_loss : 0.007 \n"
     ]
    },
    {
     "name": "stderr",
     "output_type": "stream",
     "text": [
      "100%|██████████| 225/225 [01:41<00:00,  2.22it/s]\n",
      "100%|██████████| 25/25 [00:03<00:00,  7.94it/s]\n"
     ]
    },
    {
     "name": "stdout",
     "output_type": "stream",
     "text": [
      " [ epoch : 010 ] train_acc : 0.983, train_loss : 0.007, val_acc : 0.975, val_loss : 0.009 \n"
     ]
    },
    {
     "name": "stderr",
     "output_type": "stream",
     "text": [
      "100%|██████████| 225/225 [01:41<00:00,  2.22it/s]\n",
      "100%|██████████| 25/25 [00:03<00:00,  8.03it/s]\n"
     ]
    },
    {
     "name": "stdout",
     "output_type": "stream",
     "text": [
      " [ epoch : 011 ] train_acc : 0.981, train_loss : 0.008, val_acc : 0.990, val_loss : 0.005 \n",
      "Deteced New Best Acc, Model Save....\n"
     ]
    },
    {
     "name": "stderr",
     "output_type": "stream",
     "text": [
      "100%|██████████| 225/225 [01:41<00:00,  2.23it/s]\n",
      "100%|██████████| 25/25 [00:03<00:00,  7.86it/s]\n"
     ]
    },
    {
     "name": "stdout",
     "output_type": "stream",
     "text": [
      " [ epoch : 012 ] train_acc : 0.990, train_loss : 0.005, val_acc : 0.980, val_loss : 0.007 \n"
     ]
    },
    {
     "name": "stderr",
     "output_type": "stream",
     "text": [
      "100%|██████████| 225/225 [01:41<00:00,  2.22it/s]\n",
      "100%|██████████| 25/25 [00:03<00:00,  8.00it/s]\n"
     ]
    },
    {
     "name": "stdout",
     "output_type": "stream",
     "text": [
      " [ epoch : 013 ] train_acc : 0.990, train_loss : 0.004, val_acc : 0.985, val_loss : 0.005 \n"
     ]
    },
    {
     "name": "stderr",
     "output_type": "stream",
     "text": [
      "100%|██████████| 225/225 [01:41<00:00,  2.22it/s]\n",
      "100%|██████████| 25/25 [00:03<00:00,  7.97it/s]\n"
     ]
    },
    {
     "name": "stdout",
     "output_type": "stream",
     "text": [
      " [ epoch : 014 ] train_acc : 0.986, train_loss : 0.005, val_acc : 0.985, val_loss : 0.007 \n"
     ]
    },
    {
     "name": "stderr",
     "output_type": "stream",
     "text": [
      "100%|██████████| 225/225 [01:41<00:00,  2.22it/s]\n",
      "100%|██████████| 25/25 [00:03<00:00,  8.01it/s]\n"
     ]
    },
    {
     "name": "stdout",
     "output_type": "stream",
     "text": [
      " [ epoch : 015 ] train_acc : 0.992, train_loss : 0.003, val_acc : 0.985, val_loss : 0.005 \n"
     ]
    },
    {
     "name": "stderr",
     "output_type": "stream",
     "text": [
      "100%|██████████| 225/225 [01:41<00:00,  2.22it/s]\n",
      "100%|██████████| 25/25 [00:03<00:00,  7.82it/s]\n"
     ]
    },
    {
     "name": "stdout",
     "output_type": "stream",
     "text": [
      " [ epoch : 016 ] train_acc : 0.996, train_loss : 0.001, val_acc : 0.990, val_loss : 0.003 \n",
      "Deteced New Best Acc, Model Save....\n"
     ]
    },
    {
     "name": "stderr",
     "output_type": "stream",
     "text": [
      "100%|██████████| 225/225 [01:41<00:00,  2.23it/s]\n",
      "100%|██████████| 25/25 [00:03<00:00,  8.02it/s]\n"
     ]
    },
    {
     "name": "stdout",
     "output_type": "stream",
     "text": [
      " [ epoch : 017 ] train_acc : 0.994, train_loss : 0.002, val_acc : 0.990, val_loss : 0.002 \n",
      "Deteced New Best Acc, Model Save....\n"
     ]
    },
    {
     "name": "stderr",
     "output_type": "stream",
     "text": [
      "100%|██████████| 225/225 [01:41<00:00,  2.23it/s]\n",
      "100%|██████████| 25/25 [00:03<00:00,  7.94it/s]\n"
     ]
    },
    {
     "name": "stdout",
     "output_type": "stream",
     "text": [
      " [ epoch : 018 ] train_acc : 0.997, train_loss : 0.001, val_acc : 0.990, val_loss : 0.004 \n"
     ]
    },
    {
     "name": "stderr",
     "output_type": "stream",
     "text": [
      "100%|██████████| 225/225 [01:42<00:00,  2.21it/s]\n",
      "100%|██████████| 25/25 [00:03<00:00,  8.00it/s]\n"
     ]
    },
    {
     "name": "stdout",
     "output_type": "stream",
     "text": [
      " [ epoch : 019 ] train_acc : 0.997, train_loss : 0.001, val_acc : 0.990, val_loss : 0.004 \n"
     ]
    },
    {
     "name": "stderr",
     "output_type": "stream",
     "text": [
      "100%|██████████| 225/225 [01:41<00:00,  2.21it/s]\n",
      "100%|██████████| 25/25 [00:03<00:00,  7.93it/s]\n"
     ]
    },
    {
     "name": "stdout",
     "output_type": "stream",
     "text": [
      " [ epoch : 020 ] train_acc : 0.996, train_loss : 0.001, val_acc : 0.990, val_loss : 0.004 \n"
     ]
    },
    {
     "name": "stderr",
     "output_type": "stream",
     "text": [
      "100%|██████████| 50/50 [00:06<00:00,  8.24it/s]\n",
      "100%|██████████| 225/225 [01:41<00:00,  2.21it/s]\n",
      "100%|██████████| 25/25 [00:03<00:00,  7.39it/s]\n"
     ]
    },
    {
     "name": "stdout",
     "output_type": "stream",
     "text": [
      " [ epoch : 001 ] train_acc : 0.756, train_loss : 0.067, val_acc : 0.810, val_loss : 0.057 \n",
      "Deteced New Best Acc, Model Save....\n"
     ]
    },
    {
     "name": "stderr",
     "output_type": "stream",
     "text": [
      "100%|██████████| 225/225 [01:41<00:00,  2.22it/s]\n",
      "100%|██████████| 25/25 [00:03<00:00,  8.02it/s]\n"
     ]
    },
    {
     "name": "stdout",
     "output_type": "stream",
     "text": [
      " [ epoch : 002 ] train_acc : 0.833, train_loss : 0.049, val_acc : 0.875, val_loss : 0.039 \n",
      "Deteced New Best Acc, Model Save....\n"
     ]
    },
    {
     "name": "stderr",
     "output_type": "stream",
     "text": [
      "100%|██████████| 225/225 [01:40<00:00,  2.23it/s]\n",
      "100%|██████████| 25/25 [00:03<00:00,  8.04it/s]\n"
     ]
    },
    {
     "name": "stdout",
     "output_type": "stream",
     "text": [
      " [ epoch : 003 ] train_acc : 0.876, train_loss : 0.038, val_acc : 0.950, val_loss : 0.017 \n",
      "Deteced New Best Acc, Model Save....\n"
     ]
    },
    {
     "name": "stderr",
     "output_type": "stream",
     "text": [
      "100%|██████████| 225/225 [01:41<00:00,  2.23it/s]\n",
      "100%|██████████| 25/25 [00:03<00:00,  7.59it/s]\n"
     ]
    },
    {
     "name": "stdout",
     "output_type": "stream",
     "text": [
      " [ epoch : 004 ] train_acc : 0.913, train_loss : 0.028, val_acc : 0.975, val_loss : 0.011 \n",
      "Deteced New Best Acc, Model Save....\n"
     ]
    },
    {
     "name": "stderr",
     "output_type": "stream",
     "text": [
      "100%|██████████| 225/225 [01:41<00:00,  2.22it/s]\n",
      "100%|██████████| 25/25 [00:03<00:00,  8.04it/s]\n"
     ]
    },
    {
     "name": "stdout",
     "output_type": "stream",
     "text": [
      " [ epoch : 005 ] train_acc : 0.934, train_loss : 0.023, val_acc : 0.975, val_loss : 0.009 \n",
      "Deteced New Best Acc, Model Save....\n"
     ]
    },
    {
     "name": "stderr",
     "output_type": "stream",
     "text": [
      "100%|██████████| 225/225 [01:41<00:00,  2.22it/s]\n",
      "100%|██████████| 25/25 [00:03<00:00,  7.97it/s]\n"
     ]
    },
    {
     "name": "stdout",
     "output_type": "stream",
     "text": [
      " [ epoch : 006 ] train_acc : 0.957, train_loss : 0.016, val_acc : 0.975, val_loss : 0.010 \n"
     ]
    },
    {
     "name": "stderr",
     "output_type": "stream",
     "text": [
      "100%|██████████| 225/225 [01:41<00:00,  2.22it/s]\n",
      "100%|██████████| 25/25 [00:03<00:00,  7.89it/s]\n"
     ]
    },
    {
     "name": "stdout",
     "output_type": "stream",
     "text": [
      " [ epoch : 007 ] train_acc : 0.953, train_loss : 0.016, val_acc : 0.955, val_loss : 0.014 \n"
     ]
    },
    {
     "name": "stderr",
     "output_type": "stream",
     "text": [
      "100%|██████████| 225/225 [01:41<00:00,  2.22it/s]\n",
      "100%|██████████| 25/25 [00:03<00:00,  7.96it/s]\n"
     ]
    },
    {
     "name": "stdout",
     "output_type": "stream",
     "text": [
      " [ epoch : 008 ] train_acc : 0.971, train_loss : 0.010, val_acc : 0.925, val_loss : 0.022 \n"
     ]
    },
    {
     "name": "stderr",
     "output_type": "stream",
     "text": [
      "100%|██████████| 225/225 [01:41<00:00,  2.23it/s]\n",
      "100%|██████████| 25/25 [00:03<00:00,  8.07it/s]\n"
     ]
    },
    {
     "name": "stdout",
     "output_type": "stream",
     "text": [
      " [ epoch : 009 ] train_acc : 0.966, train_loss : 0.012, val_acc : 0.970, val_loss : 0.014 \n"
     ]
    },
    {
     "name": "stderr",
     "output_type": "stream",
     "text": [
      "100%|██████████| 225/225 [01:41<00:00,  2.23it/s]\n",
      "100%|██████████| 25/25 [00:03<00:00,  7.62it/s]\n"
     ]
    },
    {
     "name": "stdout",
     "output_type": "stream",
     "text": [
      " [ epoch : 010 ] train_acc : 0.977, train_loss : 0.010, val_acc : 0.980, val_loss : 0.008 \n",
      "Deteced New Best Acc, Model Save....\n"
     ]
    },
    {
     "name": "stderr",
     "output_type": "stream",
     "text": [
      "100%|██████████| 225/225 [01:41<00:00,  2.22it/s]\n",
      "100%|██████████| 25/25 [00:03<00:00,  8.05it/s]\n"
     ]
    },
    {
     "name": "stdout",
     "output_type": "stream",
     "text": [
      " [ epoch : 011 ] train_acc : 0.984, train_loss : 0.007, val_acc : 0.990, val_loss : 0.006 \n",
      "Deteced New Best Acc, Model Save....\n"
     ]
    },
    {
     "name": "stderr",
     "output_type": "stream",
     "text": [
      "100%|██████████| 225/225 [01:41<00:00,  2.23it/s]\n",
      "100%|██████████| 25/25 [00:03<00:00,  7.97it/s]\n"
     ]
    },
    {
     "name": "stdout",
     "output_type": "stream",
     "text": [
      " [ epoch : 012 ] train_acc : 0.990, train_loss : 0.004, val_acc : 0.975, val_loss : 0.006 \n"
     ]
    },
    {
     "name": "stderr",
     "output_type": "stream",
     "text": [
      "100%|██████████| 225/225 [01:41<00:00,  2.22it/s]\n",
      "100%|██████████| 25/25 [00:03<00:00,  7.83it/s]\n"
     ]
    },
    {
     "name": "stdout",
     "output_type": "stream",
     "text": [
      " [ epoch : 013 ] train_acc : 0.992, train_loss : 0.003, val_acc : 0.985, val_loss : 0.005 \n"
     ]
    },
    {
     "name": "stderr",
     "output_type": "stream",
     "text": [
      "100%|██████████| 225/225 [01:41<00:00,  2.22it/s]\n",
      "100%|██████████| 25/25 [00:03<00:00,  8.00it/s]\n"
     ]
    },
    {
     "name": "stdout",
     "output_type": "stream",
     "text": [
      " [ epoch : 014 ] train_acc : 0.994, train_loss : 0.003, val_acc : 0.985, val_loss : 0.005 \n"
     ]
    },
    {
     "name": "stderr",
     "output_type": "stream",
     "text": [
      "100%|██████████| 225/225 [01:41<00:00,  2.22it/s]\n",
      "100%|██████████| 25/25 [00:03<00:00,  8.06it/s]\n"
     ]
    },
    {
     "name": "stdout",
     "output_type": "stream",
     "text": [
      " [ epoch : 015 ] train_acc : 0.993, train_loss : 0.004, val_acc : 0.985, val_loss : 0.006 \n"
     ]
    },
    {
     "name": "stderr",
     "output_type": "stream",
     "text": [
      "100%|██████████| 225/225 [01:41<00:00,  2.22it/s]\n",
      "100%|██████████| 25/25 [00:03<00:00,  7.77it/s]\n"
     ]
    },
    {
     "name": "stdout",
     "output_type": "stream",
     "text": [
      " [ epoch : 016 ] train_acc : 0.992, train_loss : 0.004, val_acc : 0.980, val_loss : 0.010 \n"
     ]
    },
    {
     "name": "stderr",
     "output_type": "stream",
     "text": [
      "100%|██████████| 225/225 [01:41<00:00,  2.22it/s]\n",
      "100%|██████████| 25/25 [00:03<00:00,  7.78it/s]\n"
     ]
    },
    {
     "name": "stdout",
     "output_type": "stream",
     "text": [
      " [ epoch : 017 ] train_acc : 0.994, train_loss : 0.003, val_acc : 0.990, val_loss : 0.005 \n",
      "Deteced New Best Acc, Model Save....\n"
     ]
    },
    {
     "name": "stderr",
     "output_type": "stream",
     "text": [
      "100%|██████████| 225/225 [01:41<00:00,  2.23it/s]\n",
      "100%|██████████| 25/25 [00:03<00:00,  7.99it/s]\n"
     ]
    },
    {
     "name": "stdout",
     "output_type": "stream",
     "text": [
      " [ epoch : 018 ] train_acc : 0.991, train_loss : 0.004, val_acc : 0.985, val_loss : 0.004 \n"
     ]
    },
    {
     "name": "stderr",
     "output_type": "stream",
     "text": [
      "100%|██████████| 225/225 [01:41<00:00,  2.22it/s]\n",
      "100%|██████████| 25/25 [00:03<00:00,  8.06it/s]\n"
     ]
    },
    {
     "name": "stdout",
     "output_type": "stream",
     "text": [
      " [ epoch : 019 ] train_acc : 0.988, train_loss : 0.004, val_acc : 0.990, val_loss : 0.006 \n"
     ]
    },
    {
     "name": "stderr",
     "output_type": "stream",
     "text": [
      "100%|██████████| 225/225 [01:41<00:00,  2.22it/s]\n",
      "100%|██████████| 25/25 [00:03<00:00,  7.73it/s]\n"
     ]
    },
    {
     "name": "stdout",
     "output_type": "stream",
     "text": [
      " [ epoch : 020 ] train_acc : 0.996, train_loss : 0.002, val_acc : 0.970, val_loss : 0.007 \n"
     ]
    },
    {
     "name": "stderr",
     "output_type": "stream",
     "text": [
      "100%|██████████| 50/50 [00:06<00:00,  8.31it/s]\n",
      "100%|██████████| 225/225 [01:41<00:00,  2.22it/s]\n",
      "100%|██████████| 25/25 [00:03<00:00,  8.03it/s]\n"
     ]
    },
    {
     "name": "stdout",
     "output_type": "stream",
     "text": [
      " [ epoch : 001 ] train_acc : 0.766, train_loss : 0.062, val_acc : 0.855, val_loss : 0.042 \n",
      "Deteced New Best Acc, Model Save....\n"
     ]
    },
    {
     "name": "stderr",
     "output_type": "stream",
     "text": [
      "100%|██████████| 225/225 [01:41<00:00,  2.22it/s]\n",
      "100%|██████████| 25/25 [00:03<00:00,  8.06it/s]\n"
     ]
    },
    {
     "name": "stdout",
     "output_type": "stream",
     "text": [
      " [ epoch : 002 ] train_acc : 0.860, train_loss : 0.042, val_acc : 0.905, val_loss : 0.028 \n",
      "Deteced New Best Acc, Model Save....\n"
     ]
    },
    {
     "name": "stderr",
     "output_type": "stream",
     "text": [
      "100%|██████████| 225/225 [01:41<00:00,  2.22it/s]\n",
      "100%|██████████| 25/25 [00:03<00:00,  8.06it/s]\n"
     ]
    },
    {
     "name": "stdout",
     "output_type": "stream",
     "text": [
      " [ epoch : 003 ] train_acc : 0.902, train_loss : 0.032, val_acc : 0.890, val_loss : 0.031 \n"
     ]
    },
    {
     "name": "stderr",
     "output_type": "stream",
     "text": [
      "100%|██████████| 225/225 [01:41<00:00,  2.22it/s]\n",
      "100%|██████████| 25/25 [00:03<00:00,  8.06it/s]\n"
     ]
    },
    {
     "name": "stdout",
     "output_type": "stream",
     "text": [
      " [ epoch : 004 ] train_acc : 0.905, train_loss : 0.029, val_acc : 0.940, val_loss : 0.019 \n",
      "Deteced New Best Acc, Model Save....\n"
     ]
    },
    {
     "name": "stderr",
     "output_type": "stream",
     "text": [
      "100%|██████████| 225/225 [01:41<00:00,  2.22it/s]\n",
      "100%|██████████| 25/25 [00:03<00:00,  7.78it/s]\n"
     ]
    },
    {
     "name": "stdout",
     "output_type": "stream",
     "text": [
      " [ epoch : 005 ] train_acc : 0.931, train_loss : 0.023, val_acc : 0.945, val_loss : 0.015 \n",
      "Deteced New Best Acc, Model Save....\n"
     ]
    },
    {
     "name": "stderr",
     "output_type": "stream",
     "text": [
      "100%|██████████| 225/225 [01:41<00:00,  2.22it/s]\n",
      "100%|██████████| 25/25 [00:03<00:00,  7.97it/s]\n"
     ]
    },
    {
     "name": "stdout",
     "output_type": "stream",
     "text": [
      " [ epoch : 006 ] train_acc : 0.946, train_loss : 0.018, val_acc : 0.980, val_loss : 0.009 \n",
      "Deteced New Best Acc, Model Save....\n"
     ]
    },
    {
     "name": "stderr",
     "output_type": "stream",
     "text": [
      "100%|██████████| 225/225 [01:41<00:00,  2.22it/s]\n",
      "100%|██████████| 25/25 [00:03<00:00,  8.02it/s]\n"
     ]
    },
    {
     "name": "stdout",
     "output_type": "stream",
     "text": [
      " [ epoch : 007 ] train_acc : 0.968, train_loss : 0.013, val_acc : 0.970, val_loss : 0.012 \n"
     ]
    },
    {
     "name": "stderr",
     "output_type": "stream",
     "text": [
      "100%|██████████| 225/225 [01:41<00:00,  2.22it/s]\n",
      "100%|██████████| 25/25 [00:03<00:00,  7.98it/s]\n"
     ]
    },
    {
     "name": "stdout",
     "output_type": "stream",
     "text": [
      " [ epoch : 008 ] train_acc : 0.973, train_loss : 0.011, val_acc : 0.970, val_loss : 0.011 \n"
     ]
    },
    {
     "name": "stderr",
     "output_type": "stream",
     "text": [
      "100%|██████████| 225/225 [01:42<00:00,  2.20it/s]\n",
      "100%|██████████| 25/25 [00:03<00:00,  8.02it/s]\n"
     ]
    },
    {
     "name": "stdout",
     "output_type": "stream",
     "text": [
      " [ epoch : 009 ] train_acc : 0.970, train_loss : 0.011, val_acc : 0.980, val_loss : 0.008 \n",
      "Deteced New Best Acc, Model Save....\n"
     ]
    },
    {
     "name": "stderr",
     "output_type": "stream",
     "text": [
      "100%|██████████| 225/225 [01:41<00:00,  2.22it/s]\n",
      "100%|██████████| 25/25 [00:03<00:00,  7.97it/s]\n"
     ]
    },
    {
     "name": "stdout",
     "output_type": "stream",
     "text": [
      " [ epoch : 010 ] train_acc : 0.985, train_loss : 0.006, val_acc : 0.975, val_loss : 0.008 \n"
     ]
    },
    {
     "name": "stderr",
     "output_type": "stream",
     "text": [
      "100%|██████████| 225/225 [01:41<00:00,  2.22it/s]\n",
      "100%|██████████| 25/25 [00:03<00:00,  8.03it/s]\n"
     ]
    },
    {
     "name": "stdout",
     "output_type": "stream",
     "text": [
      " [ epoch : 011 ] train_acc : 0.987, train_loss : 0.006, val_acc : 0.980, val_loss : 0.008 \n"
     ]
    },
    {
     "name": "stderr",
     "output_type": "stream",
     "text": [
      "100%|██████████| 225/225 [01:41<00:00,  2.22it/s]\n",
      "100%|██████████| 25/25 [00:03<00:00,  7.95it/s]\n"
     ]
    },
    {
     "name": "stdout",
     "output_type": "stream",
     "text": [
      " [ epoch : 012 ] train_acc : 0.984, train_loss : 0.006, val_acc : 0.985, val_loss : 0.008 \n",
      "Deteced New Best Acc, Model Save....\n"
     ]
    },
    {
     "name": "stderr",
     "output_type": "stream",
     "text": [
      "100%|██████████| 225/225 [01:41<00:00,  2.22it/s]\n",
      "100%|██████████| 25/25 [00:03<00:00,  8.05it/s]\n"
     ]
    },
    {
     "name": "stdout",
     "output_type": "stream",
     "text": [
      " [ epoch : 013 ] train_acc : 0.991, train_loss : 0.004, val_acc : 0.975, val_loss : 0.007 \n"
     ]
    },
    {
     "name": "stderr",
     "output_type": "stream",
     "text": [
      "100%|██████████| 225/225 [01:41<00:00,  2.22it/s]\n",
      "100%|██████████| 25/25 [00:03<00:00,  8.03it/s]\n"
     ]
    },
    {
     "name": "stdout",
     "output_type": "stream",
     "text": [
      " [ epoch : 014 ] train_acc : 0.992, train_loss : 0.003, val_acc : 0.980, val_loss : 0.006 \n"
     ]
    },
    {
     "name": "stderr",
     "output_type": "stream",
     "text": [
      "100%|██████████| 225/225 [01:41<00:00,  2.22it/s]\n",
      "100%|██████████| 25/25 [00:03<00:00,  7.79it/s]\n"
     ]
    },
    {
     "name": "stdout",
     "output_type": "stream",
     "text": [
      " [ epoch : 015 ] train_acc : 0.989, train_loss : 0.004, val_acc : 0.980, val_loss : 0.008 \n"
     ]
    },
    {
     "name": "stderr",
     "output_type": "stream",
     "text": [
      "100%|██████████| 225/225 [01:41<00:00,  2.22it/s]\n",
      "100%|██████████| 25/25 [00:03<00:00,  7.67it/s]\n"
     ]
    },
    {
     "name": "stdout",
     "output_type": "stream",
     "text": [
      " [ epoch : 016 ] train_acc : 0.995, train_loss : 0.002, val_acc : 0.985, val_loss : 0.005 \n",
      "Deteced New Best Acc, Model Save....\n"
     ]
    },
    {
     "name": "stderr",
     "output_type": "stream",
     "text": [
      "100%|██████████| 225/225 [01:41<00:00,  2.22it/s]\n",
      "100%|██████████| 25/25 [00:03<00:00,  8.03it/s]\n"
     ]
    },
    {
     "name": "stdout",
     "output_type": "stream",
     "text": [
      " [ epoch : 017 ] train_acc : 0.995, train_loss : 0.001, val_acc : 0.985, val_loss : 0.005 \n",
      "Deteced New Best Acc, Model Save....\n"
     ]
    },
    {
     "name": "stderr",
     "output_type": "stream",
     "text": [
      "100%|██████████| 225/225 [01:41<00:00,  2.22it/s]\n",
      "100%|██████████| 25/25 [00:03<00:00,  7.78it/s]\n"
     ]
    },
    {
     "name": "stdout",
     "output_type": "stream",
     "text": [
      " [ epoch : 018 ] train_acc : 0.994, train_loss : 0.003, val_acc : 0.980, val_loss : 0.006 \n"
     ]
    },
    {
     "name": "stderr",
     "output_type": "stream",
     "text": [
      "100%|██████████| 225/225 [01:41<00:00,  2.22it/s]\n",
      "100%|██████████| 25/25 [00:03<00:00,  8.04it/s]\n"
     ]
    },
    {
     "name": "stdout",
     "output_type": "stream",
     "text": [
      " [ epoch : 019 ] train_acc : 0.993, train_loss : 0.003, val_acc : 0.985, val_loss : 0.004 \n",
      "Deteced New Best Acc, Model Save....\n"
     ]
    },
    {
     "name": "stderr",
     "output_type": "stream",
     "text": [
      "100%|██████████| 225/225 [01:41<00:00,  2.22it/s]\n",
      "100%|██████████| 25/25 [00:03<00:00,  8.05it/s]\n"
     ]
    },
    {
     "name": "stdout",
     "output_type": "stream",
     "text": [
      " [ epoch : 020 ] train_acc : 0.995, train_loss : 0.002, val_acc : 0.980, val_loss : 0.007 \n"
     ]
    },
    {
     "name": "stderr",
     "output_type": "stream",
     "text": [
      "100%|██████████| 50/50 [00:06<00:00,  8.25it/s]\n",
      "100%|██████████| 225/225 [01:41<00:00,  2.22it/s]\n",
      "100%|██████████| 25/25 [00:03<00:00,  8.06it/s]\n"
     ]
    },
    {
     "name": "stdout",
     "output_type": "stream",
     "text": [
      " [ epoch : 001 ] train_acc : 0.803, train_loss : 0.059, val_acc : 0.755, val_loss : 0.068 \n",
      "Deteced New Best Acc, Model Save....\n"
     ]
    },
    {
     "name": "stderr",
     "output_type": "stream",
     "text": [
      "100%|██████████| 225/225 [01:41<00:00,  2.22it/s]\n",
      "100%|██████████| 25/25 [00:03<00:00,  7.98it/s]\n"
     ]
    },
    {
     "name": "stdout",
     "output_type": "stream",
     "text": [
      " [ epoch : 002 ] train_acc : 0.862, train_loss : 0.043, val_acc : 0.865, val_loss : 0.036 \n",
      "Deteced New Best Acc, Model Save....\n"
     ]
    },
    {
     "name": "stderr",
     "output_type": "stream",
     "text": [
      "100%|██████████| 225/225 [01:41<00:00,  2.22it/s]\n",
      "100%|██████████| 25/25 [00:03<00:00,  8.03it/s]\n"
     ]
    },
    {
     "name": "stdout",
     "output_type": "stream",
     "text": [
      " [ epoch : 003 ] train_acc : 0.906, train_loss : 0.032, val_acc : 0.950, val_loss : 0.022 \n",
      "Deteced New Best Acc, Model Save....\n"
     ]
    },
    {
     "name": "stderr",
     "output_type": "stream",
     "text": [
      "100%|██████████| 225/225 [01:41<00:00,  2.22it/s]\n",
      "100%|██████████| 25/25 [00:03<00:00,  8.04it/s]\n"
     ]
    },
    {
     "name": "stdout",
     "output_type": "stream",
     "text": [
      " [ epoch : 004 ] train_acc : 0.924, train_loss : 0.024, val_acc : 0.950, val_loss : 0.021 \n",
      "Deteced New Best Acc, Model Save....\n"
     ]
    },
    {
     "name": "stderr",
     "output_type": "stream",
     "text": [
      "100%|██████████| 225/225 [01:41<00:00,  2.22it/s]\n",
      "100%|██████████| 25/25 [00:03<00:00,  8.02it/s]\n"
     ]
    },
    {
     "name": "stdout",
     "output_type": "stream",
     "text": [
      " [ epoch : 005 ] train_acc : 0.932, train_loss : 0.023, val_acc : 0.915, val_loss : 0.025 \n"
     ]
    },
    {
     "name": "stderr",
     "output_type": "stream",
     "text": [
      "100%|██████████| 225/225 [01:41<00:00,  2.21it/s]\n",
      "100%|██████████| 25/25 [00:03<00:00,  8.06it/s]\n"
     ]
    },
    {
     "name": "stdout",
     "output_type": "stream",
     "text": [
      " [ epoch : 006 ] train_acc : 0.957, train_loss : 0.015, val_acc : 0.965, val_loss : 0.014 \n",
      "Deteced New Best Acc, Model Save....\n"
     ]
    },
    {
     "name": "stderr",
     "output_type": "stream",
     "text": [
      "100%|██████████| 225/225 [01:41<00:00,  2.21it/s]\n",
      "100%|██████████| 25/25 [00:03<00:00,  7.75it/s]\n"
     ]
    },
    {
     "name": "stdout",
     "output_type": "stream",
     "text": [
      " [ epoch : 007 ] train_acc : 0.966, train_loss : 0.014, val_acc : 0.985, val_loss : 0.008 \n",
      "Deteced New Best Acc, Model Save....\n"
     ]
    },
    {
     "name": "stderr",
     "output_type": "stream",
     "text": [
      "100%|██████████| 225/225 [01:41<00:00,  2.22it/s]\n",
      "100%|██████████| 25/25 [00:03<00:00,  8.07it/s]\n"
     ]
    },
    {
     "name": "stdout",
     "output_type": "stream",
     "text": [
      " [ epoch : 008 ] train_acc : 0.970, train_loss : 0.011, val_acc : 0.970, val_loss : 0.008 \n"
     ]
    },
    {
     "name": "stderr",
     "output_type": "stream",
     "text": [
      "100%|██████████| 225/225 [01:41<00:00,  2.22it/s]\n",
      "100%|██████████| 25/25 [00:03<00:00,  7.98it/s]\n"
     ]
    },
    {
     "name": "stdout",
     "output_type": "stream",
     "text": [
      " [ epoch : 009 ] train_acc : 0.982, train_loss : 0.007, val_acc : 0.970, val_loss : 0.007 \n"
     ]
    },
    {
     "name": "stderr",
     "output_type": "stream",
     "text": [
      "100%|██████████| 225/225 [01:41<00:00,  2.21it/s]\n",
      "100%|██████████| 25/25 [00:03<00:00,  8.06it/s]\n"
     ]
    },
    {
     "name": "stdout",
     "output_type": "stream",
     "text": [
      " [ epoch : 010 ] train_acc : 0.986, train_loss : 0.005, val_acc : 0.990, val_loss : 0.004 \n",
      "Deteced New Best Acc, Model Save....\n"
     ]
    },
    {
     "name": "stderr",
     "output_type": "stream",
     "text": [
      "100%|██████████| 225/225 [01:41<00:00,  2.22it/s]\n",
      "100%|██████████| 25/25 [00:03<00:00,  7.54it/s]\n"
     ]
    },
    {
     "name": "stdout",
     "output_type": "stream",
     "text": [
      " [ epoch : 011 ] train_acc : 0.983, train_loss : 0.007, val_acc : 0.980, val_loss : 0.005 \n"
     ]
    },
    {
     "name": "stderr",
     "output_type": "stream",
     "text": [
      "100%|██████████| 225/225 [01:41<00:00,  2.22it/s]\n",
      "100%|██████████| 25/25 [00:03<00:00,  8.04it/s]\n"
     ]
    },
    {
     "name": "stdout",
     "output_type": "stream",
     "text": [
      " [ epoch : 012 ] train_acc : 0.989, train_loss : 0.004, val_acc : 0.980, val_loss : 0.008 \n"
     ]
    },
    {
     "name": "stderr",
     "output_type": "stream",
     "text": [
      "100%|██████████| 225/225 [01:41<00:00,  2.21it/s]\n",
      "100%|██████████| 25/25 [00:03<00:00,  7.99it/s]\n"
     ]
    },
    {
     "name": "stdout",
     "output_type": "stream",
     "text": [
      " [ epoch : 013 ] train_acc : 0.995, train_loss : 0.002, val_acc : 0.975, val_loss : 0.007 \n"
     ]
    },
    {
     "name": "stderr",
     "output_type": "stream",
     "text": [
      "100%|██████████| 225/225 [01:41<00:00,  2.22it/s]\n",
      "100%|██████████| 25/25 [00:03<00:00,  8.02it/s]\n"
     ]
    },
    {
     "name": "stdout",
     "output_type": "stream",
     "text": [
      " [ epoch : 014 ] train_acc : 0.991, train_loss : 0.003, val_acc : 0.990, val_loss : 0.004 \n"
     ]
    },
    {
     "name": "stderr",
     "output_type": "stream",
     "text": [
      "100%|██████████| 225/225 [01:41<00:00,  2.22it/s]\n",
      "100%|██████████| 25/25 [00:03<00:00,  8.03it/s]\n"
     ]
    },
    {
     "name": "stdout",
     "output_type": "stream",
     "text": [
      " [ epoch : 015 ] train_acc : 0.989, train_loss : 0.005, val_acc : 0.990, val_loss : 0.003 \n",
      "Deteced New Best Acc, Model Save....\n"
     ]
    },
    {
     "name": "stderr",
     "output_type": "stream",
     "text": [
      "100%|██████████| 225/225 [01:41<00:00,  2.21it/s]\n",
      "100%|██████████| 25/25 [00:03<00:00,  8.01it/s]\n"
     ]
    },
    {
     "name": "stdout",
     "output_type": "stream",
     "text": [
      " [ epoch : 016 ] train_acc : 0.994, train_loss : 0.002, val_acc : 0.990, val_loss : 0.003 \n",
      "Deteced New Best Acc, Model Save....\n"
     ]
    },
    {
     "name": "stderr",
     "output_type": "stream",
     "text": [
      "100%|██████████| 225/225 [01:41<00:00,  2.21it/s]\n",
      "100%|██████████| 25/25 [00:03<00:00,  8.00it/s]\n"
     ]
    },
    {
     "name": "stdout",
     "output_type": "stream",
     "text": [
      " [ epoch : 017 ] train_acc : 0.994, train_loss : 0.002, val_acc : 0.990, val_loss : 0.003 \n",
      "Deteced New Best Acc, Model Save....\n"
     ]
    },
    {
     "name": "stderr",
     "output_type": "stream",
     "text": [
      "100%|██████████| 225/225 [01:41<00:00,  2.22it/s]\n",
      "100%|██████████| 25/25 [00:03<00:00,  7.94it/s]\n"
     ]
    },
    {
     "name": "stdout",
     "output_type": "stream",
     "text": [
      " [ epoch : 018 ] train_acc : 0.994, train_loss : 0.002, val_acc : 0.995, val_loss : 0.001 \n",
      "Deteced New Best Acc, Model Save....\n"
     ]
    },
    {
     "name": "stderr",
     "output_type": "stream",
     "text": [
      "100%|██████████| 225/225 [01:41<00:00,  2.21it/s]\n",
      "100%|██████████| 25/25 [00:03<00:00,  8.07it/s]\n"
     ]
    },
    {
     "name": "stdout",
     "output_type": "stream",
     "text": [
      " [ epoch : 019 ] train_acc : 0.996, train_loss : 0.002, val_acc : 0.985, val_loss : 0.005 \n"
     ]
    },
    {
     "name": "stderr",
     "output_type": "stream",
     "text": [
      "100%|██████████| 225/225 [01:41<00:00,  2.22it/s]\n",
      "100%|██████████| 25/25 [00:03<00:00,  7.50it/s]\n"
     ]
    },
    {
     "name": "stdout",
     "output_type": "stream",
     "text": [
      " [ epoch : 020 ] train_acc : 0.994, train_loss : 0.002, val_acc : 0.985, val_loss : 0.004 \n"
     ]
    },
    {
     "name": "stderr",
     "output_type": "stream",
     "text": [
      "100%|██████████| 50/50 [00:06<00:00,  8.28it/s]"
     ]
    },
    {
     "name": "stdout",
     "output_type": "stream",
     "text": [
      "(400, 2)\n"
     ]
    },
    {
     "name": "stderr",
     "output_type": "stream",
     "text": [
      "\n"
     ]
    }
   ],
   "source": [
    "\n",
    "full_pred_list = None\n",
    "\n",
    "threshold = 0.98\n",
    "max_idx = 5\n",
    "idx = 1000\n",
    "\n",
    "while True :\n",
    "  SAVE_PATH = os.path.join(_TRAIN_PATH, \"best_model_{:d}.h5\".format(idx))\n",
    "  full_model = Full_Model(seed = idx, save_path = SAVE_PATH, epoch = 20, max_patience = 5)\n",
    "  full_model.train()\n",
    "\n",
    "  if full_model.max_val_acc >= threshold :\n",
    "    max_idx -=1\n",
    "    full_model.predict_soft()\n",
    "    if full_pred_list is None :\n",
    "      full_pred_list = full_model.get_predict_list()\n",
    "    else :\n",
    "      full_pred_list += full_model.get_predict_list()\n",
    "\n",
    "  if not max_idx :\n",
    "    break\n",
    "  idx += 1\n",
    "\n",
    "print(full_pred_list.shape)\n",
    "\n"
   ]
  },
  {
   "cell_type": "code",
   "execution_count": 8,
   "id": "79597afe",
   "metadata": {
    "execution": {
     "iopub.execute_input": "2023-04-04T03:44:34.068816Z",
     "iopub.status.busy": "2023-04-04T03:44:34.068434Z",
     "iopub.status.idle": "2023-04-04T03:44:34.098161Z",
     "shell.execute_reply": "2023-04-04T03:44:34.097078Z"
    },
    "papermill": {
     "duration": 1.611443,
     "end_time": "2023-04-04T03:44:34.100416",
     "exception": false,
     "start_time": "2023-04-04T03:44:32.488973",
     "status": "completed"
    },
    "tags": []
   },
   "outputs": [
    {
     "name": "stdout",
     "output_type": "stream",
     "text": [
      "[[ 32.788155 -34.65986 ]\n",
      " [ 19.186852 -19.254026]\n",
      " [-28.057928  29.373667]\n",
      " [ 30.672955 -31.777313]\n",
      " [-18.158539  19.40971 ]]\n"
     ]
    }
   ],
   "source": [
    "print(full_pred_list[:5])\n",
    "\n",
    "full_pred_list = np.argmax(full_pred_list, axis = 1)\n",
    "full_pred_list = np.where(full_pred_list == 1, \"normal\", \"covid\")\n",
    "\n",
    "SUBMISSION_PATH = os.path.join(DATA_PATH, \"submission.csv\")\n",
    "submission_df = pd.read_csv(SUBMISSION_PATH)\n",
    "submission_df['label']= full_pred_list\n",
    "submission_df.to_csv(\"/kaggle/working/output_submission.csv\",index=False)"
   ]
  }
 ],
 "metadata": {
  "kernelspec": {
   "display_name": "Python 3",
   "language": "python",
   "name": "python3"
  },
  "language_info": {
   "codemirror_mode": {
    "name": "ipython",
    "version": 3
   },
   "file_extension": ".py",
   "mimetype": "text/x-python",
   "name": "python",
   "nbconvert_exporter": "python",
   "pygments_lexer": "ipython3",
   "version": "3.7.12"
  },
  "papermill": {
   "default_parameters": {},
   "duration": 10548.294168,
   "end_time": "2023-04-04T03:44:37.019589",
   "environment_variables": {},
   "exception": null,
   "input_path": "__notebook__.ipynb",
   "output_path": "__notebook__.ipynb",
   "parameters": {},
   "start_time": "2023-04-04T00:48:48.725421",
   "version": "2.4.0"
  }
 },
 "nbformat": 4,
 "nbformat_minor": 5
}
