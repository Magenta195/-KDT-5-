{
 "cells": [
  {
   "attachments": {},
   "cell_type": "markdown",
   "metadata": {},
   "source": [
    "## 필요한 데이터와 의존성 설치, 모듈 Importing\n"
   ]
  },
  {
   "cell_type": "code",
   "execution_count": 23,
   "metadata": {},
   "outputs": [
    {
     "name": "stdout",
     "output_type": "stream",
     "text": [
      "zsh:1: command not found: kaggle\n",
      "unzip:  cannot find or open kdtai-2.zip, kdtai-2.zip.zip or kdtai-2.zip.ZIP.\n"
     ]
    }
   ],
   "source": [
    "!kaggle competitions download - c kdtai-2\n",
    "!unzip kdtai-2.zip - d dataset\n"
   ]
  },
  {
   "cell_type": "code",
   "execution_count": 24,
   "metadata": {},
   "outputs": [
    {
     "name": "stdout",
     "output_type": "stream",
     "text": [
      "Package                       Version\n",
      "----------------------------- ---------\n",
      "appnope                       0.1.3\n",
      "asttokens                     2.2.1\n",
      "backcall                      0.2.0\n",
      "backports.functools-lru-cache 1.6.4\n",
      "certifi                       2022.12.7\n",
      "charset-normalizer            3.1.0\n",
      "click                         8.1.3\n",
      "comm                          0.1.3\n",
      "cosine-annealing-warmup       2.0\n",
      "debugpy                       1.6.7\n",
      "decorator                     5.1.1\n",
      "executing                     1.2.0\n",
      "filelock                      3.12.0\n",
      "future                        0.18.3\n",
      "gensim                        4.3.1\n",
      "idna                          3.4\n",
      "importlib-metadata            6.6.0\n",
      "ipykernel                     6.22.0\n",
      "ipython                       8.12.0\n",
      "jamotools                     0.1.10\n",
      "jedi                          0.18.2\n",
      "Jinja2                        3.1.2\n",
      "joblib                        1.2.0\n",
      "JPype1                        1.4.1\n",
      "jupyter_client                8.2.0\n",
      "jupyter_core                  5.3.0\n",
      "konlpy                        0.6.0\n",
      "lxml                          4.9.2\n",
      "MarkupSafe                    2.1.2\n",
      "matplotlib-inline             0.1.6\n",
      "mpmath                        1.3.0\n",
      "nest-asyncio                  1.5.6\n",
      "networkx                      3.1\n",
      "nltk                          3.8.1\n",
      "numpy                         1.24.3\n",
      "packaging                     23.1\n",
      "pandas                        2.0.1\n",
      "parso                         0.8.3\n",
      "pexpect                       4.8.0\n",
      "pickleshare                   0.7.5\n",
      "pip                           23.1.2\n",
      "platformdirs                  3.4.0\n",
      "prompt-toolkit                3.0.38\n",
      "psutil                        5.9.5\n",
      "ptyprocess                    0.7.0\n",
      "pure-eval                     0.2.2\n",
      "Pygments                      2.15.1\n",
      "python-dateutil               2.8.2\n",
      "pytz                          2023.3\n",
      "pyzmq                         25.0.2\n",
      "regex                         2023.3.23\n",
      "requests                      2.29.0\n",
      "scikit-learn                  1.2.2\n",
      "scipy                         1.10.1\n",
      "setuptools                    67.7.2\n",
      "six                           1.16.0\n",
      "smart-open                    6.3.0\n",
      "soynlp                        0.0.493\n",
      "stack-data                    0.6.2\n",
      "sympy                         1.11.1\n",
      "threadpoolctl                 3.1.0\n",
      "torch                         2.0.0\n",
      "torchdata                     0.6.0\n",
      "torchtext                     0.15.1\n",
      "tornado                       6.3\n",
      "tqdm                          4.65.0\n",
      "traitlets                     5.9.0\n",
      "typing_extensions             4.5.0\n",
      "tzdata                        2023.3\n",
      "urllib3                       1.26.15\n",
      "wcwidth                       0.2.6\n",
      "wheel                         0.40.0\n",
      "zipp                          3.15.0\n"
     ]
    }
   ],
   "source": [
    "!pip list - -format = freeze\n"
   ]
  },
  {
   "cell_type": "code",
   "execution_count": 25,
   "metadata": {},
   "outputs": [
    {
     "name": "stdout",
     "output_type": "stream",
     "text": [
      "\u001b[31mERROR: Invalid requirement: '-'\u001b[0m\u001b[31m\n",
      "\u001b[0mNote: you may need to restart the kernel to use updated packages.\n"
     ]
    }
   ],
   "source": [
    "%pip install - r requirements.txt\n"
   ]
  },
  {
   "cell_type": "code",
   "execution_count": 26,
   "metadata": {},
   "outputs": [
    {
     "name": "stderr",
     "output_type": "stream",
     "text": [
      "[nltk_data] Downloading package punkt to /Users/lee/nltk_data...\n",
      "[nltk_data]   Package punkt is already up-to-date!\n"
     ]
    },
    {
     "data": {
      "text/plain": [
       "True"
      ]
     },
     "execution_count": 26,
     "metadata": {},
     "output_type": "execute_result"
    }
   ],
   "source": [
    "import torch\n",
    "import torch.nn as nn\n",
    "import torch.optim as optim\n",
    "import numpy as np\n",
    "from torch.utils.data import Dataset, DataLoader, BatchSampler, random_split, WeightedRandomSampler, Subset\n",
    "import pandas as pd\n",
    "import os\n",
    "import nltk\n",
    "from konlpy.tag import Okt\n",
    "import jamotools\n",
    "import re\n",
    "from gensim.models import FastText\n",
    "from collections import Counter\n",
    "from cosine_annealing_warmup import CosineAnnealingWarmupRestarts\n",
    "import pickle\n",
    "from sklearn.model_selection import StratifiedKFold\n",
    "from sklearn.metrics import f1_score\n",
    "import gc\n",
    "nltk.download('punkt')\n"
   ]
  },
  {
   "attachments": {},
   "cell_type": "markdown",
   "metadata": {},
   "source": [
    "## FastText Model Training 및 저장\n"
   ]
  },
  {
   "attachments": {},
   "cell_type": "markdown",
   "metadata": {},
   "source": [
    "### Load Corpus\n"
   ]
  },
  {
   "cell_type": "code",
   "execution_count": 27,
   "metadata": {},
   "outputs": [],
   "source": [
    "# okt = Okt()\n",
    "# current_path = os.getcwd()\n",
    "# train_df = pd.read_csv(os.path.join(current_path, \"dataset\", \"train.csv\"))\n",
    "# train_corpus = []\n",
    "# for sentence in train_df[\"text\"]:\n",
    "#     train_corpus.append(okt.morphs(sentence, stem=True))\n",
    "# train_corpus[:3]\n"
   ]
  },
  {
   "attachments": {},
   "cell_type": "markdown",
   "metadata": {},
   "source": [
    "### Preprocess Corpus\n"
   ]
  },
  {
   "cell_type": "code",
   "execution_count": 28,
   "metadata": {},
   "outputs": [],
   "source": [
    "# okt = Okt()\n",
    "# train_corpus = okt.morphs(train_corpus, stem=True)\n",
    "# train_corpus[:5]\n"
   ]
  },
  {
   "cell_type": "code",
   "execution_count": 29,
   "metadata": {},
   "outputs": [],
   "source": [
    "# korean = re.compile('[^1!ㄱ-ㅣ가-힣]+')\n",
    "# jamo_splited_corpus = []\n",
    "\n",
    "\n",
    "# def jamo_split(word):\n",
    "#     return korean.sub('', jamotools.split_syllables(word))\n",
    "\n",
    "\n",
    "# for word in train_corpus:\n",
    "#     jamo_splited_corpus.append(jamo_split(word))\n",
    "\n",
    "# jamo_splited_corpus[:5]\n"
   ]
  },
  {
   "attachments": {},
   "cell_type": "markdown",
   "metadata": {},
   "source": [
    "### Train FastText Model\n"
   ]
  },
  {
   "cell_type": "code",
   "execution_count": 30,
   "metadata": {},
   "outputs": [],
   "source": [
    "# model = FastText(train_corpus, vector_size=300,\n",
    "#                  window=5, min_count=3, workers=4, sg=1)\n"
   ]
  },
  {
   "cell_type": "code",
   "execution_count": 31,
   "metadata": {},
   "outputs": [],
   "source": [
    "# model.save(\"embedding_model/korean_fasttext.bin\")\n"
   ]
  },
  {
   "cell_type": "code",
   "execution_count": 32,
   "metadata": {},
   "outputs": [
    {
     "name": "stdout",
     "output_type": "stream",
     "text": [
      "Using device: cpu\n"
     ]
    }
   ],
   "source": [
    "# device = torch.device(\"mps\")\n",
    "device = torch.device('cuda' if torch.cuda.is_available() else 'cpu')\n",
    "print(f\"Using device: {device}\")\n"
   ]
  },
  {
   "cell_type": "code",
   "execution_count": 63,
   "metadata": {},
   "outputs": [],
   "source": [
    "from enum import Enum\n",
    "from nltk.tokenize import word_tokenize\n",
    "from soynlp.hangle import decompose, character_is_korean\n",
    "import re\n",
    "from tqdm import tqdm\n",
    "from konlpy.tag import Okt\n",
    "\n",
    "\n",
    "class Dataset_type(Enum):\n",
    "    TRAIN = 0\n",
    "    TEST = 1\n",
    "\n",
    "\n",
    "class Korean_dataset(Dataset):\n",
    "    def __init__(self, file_path, dataset_type: Dataset_type,\n",
    "                 embedding_model, use_jamo_split=False,\n",
    "                 exclude_stopwords=False, max_length=None):\n",
    "        super().__init__()\n",
    "        self.file_path = file_path\n",
    "        # self.transform = transform\n",
    "        self.dataset_type = dataset_type\n",
    "        self.data_df = pd.read_csv(self.file_path)\n",
    "        self.embedding_model = embedding_model\n",
    "        self.word2idx = embedding_model.wv.key_to_index\n",
    "        self.use_jamo_split = use_jamo_split\n",
    "        self.exclude_stopwords = exclude_stopwords\n",
    "        self.max_length = max_length\n",
    "        current_path = os.getcwd()\n",
    "        stopwords_path = os.path.join(\n",
    "            current_path, \"utils\", \"StopWordKorean.csv\")\n",
    "        self.stopwords = pd.read_csv(stopwords_path, index_col=False)\n",
    "        self.preprocessed_src_list = self._preprocessing(self.data_df)\n",
    "\n",
    "    def __len__(self):\n",
    "        return len(self.preprocessed_src_list)\n",
    "\n",
    "    def __getitem__(self, idx):\n",
    "        src = self.preprocessed_src_list[idx]\n",
    "        if self.dataset_type == Dataset_type.TRAIN:\n",
    "            trg = torch.tensor(self.data_df.loc[idx, \"label\"]).to(device)\n",
    "            return src, trg\n",
    "        else:\n",
    "            return src\n",
    "\n",
    "    def _preprocessing(self, df):\n",
    "        src_list = []\n",
    "        rows_to_drop = []\n",
    "        okt = Okt()\n",
    "\n",
    "        # 중복 제거 (Only Training)\n",
    "        if self.dataset_type == Dataset_type.TRAIN:\n",
    "            df.drop_duplicates(subset=['text'], inplace=True)\n",
    "\n",
    "        # 한글, 영어, 공백, 숫자 빼고 전부 제거\n",
    "        df[\"text\"] = df[\"text\"].apply(\n",
    "            lambda x: re.sub(r'[^ㄱ-ㅎㅏ-ㅣ가-힣a-zA-Z0-9\\s]', '', x))\n",
    "\n",
    "        # null 값 제거\n",
    "        df.dropna(subset=[\"text\"], inplace=True)\n",
    "        df.reset_index(drop=True, inplace=True)\n",
    "\n",
    "        for idx, text in tqdm(enumerate(df.loc[:, \"text\"])):\n",
    "            # 형태소 분리\n",
    "            tokens_per_sentence = okt.morphs(text, stem=True)\n",
    "\n",
    "            # 불용어 제거 (Optional)\n",
    "            if self.exclude_stopwords:\n",
    "                tokens_per_sentence_ = self._remove_stopwords(\n",
    "                    tokens_per_sentence)\n",
    "\n",
    "                if len(tokens_per_sentence_) == 0:\n",
    "                    if self.dataset_type == Dataset_type.TRAIN:\n",
    "                        rows_to_drop.append(idx)\n",
    "                        continue\n",
    "                    # else:\n",
    "                    #     src_list.append((torch.tensor(np.array(\n",
    "                    #         [-1] * max_length)), torch.tensor(np.array([[-1] * 300 for _ in range(max_length)]))))\n",
    "                    #     continue\n",
    "                else:\n",
    "                    tokens_per_sentence = tokens_per_sentence_\n",
    "\n",
    "            # 자모 분리 (Optional)\n",
    "            if self.use_jamo_split:\n",
    "                tokens_per_sentence = self._split_jamo(tokens_per_sentence)\n",
    "\n",
    "            # fastText 초기 model 기반 정수 인코딩\n",
    "            encodings_of_tokens = self._indexing(\n",
    "                tokens_per_sentence, self.max_length, self.embedding_model)\n",
    "\n",
    "            # subwords 활용을 위한 초기 모델 기반 임베딩 벡터\n",
    "            vectors_of_tokens = self._embedding(\n",
    "                tokens_per_sentence, self.max_length, self.embedding_model)\n",
    "\n",
    "            # src -> preprocessed_src_list[idx] =\n",
    "            # ([encoding * max_vocab] , [[embeddingvector] * max_vocab]\n",
    "            src = (encodings_of_tokens, vectors_of_tokens)\n",
    "            src_list.append(src)\n",
    "\n",
    "        if self.dataset_type == Dataset_type.TRAIN:\n",
    "            df.drop(rows_to_drop, inplace=True)\n",
    "\n",
    "        df.reset_index(drop=True, inplace=True)\n",
    "\n",
    "        return src_list\n",
    "\n",
    "    def _remove_stopwords(self, tokens_per_sentence):\n",
    "        return [token for token in tokens_per_sentence\n",
    "                if token not in self.stopwords[\"text\"].values]\n",
    "\n",
    "    def _split_jamo(self, tokens_per_sentence):\n",
    "        korean = re.compile('[^1!ㄱ-ㅣ가-힣]+')\n",
    "        return [korean.sub('', jamotools.split_syllables(\n",
    "            token)) for token in tokens_per_sentence]\n",
    "\n",
    "    def _indexing(self, tokens_per_sentence, max_length, embedding_model):\n",
    "        padding_index = 0\n",
    "        indexes_of_tokens = [padding_index] * max_length\n",
    "        # 정수 인코딩 + padding\n",
    "        for idx, token in enumerate(tokens_per_sentence):\n",
    "            if idx == max_length:\n",
    "                break\n",
    "            if token in embedding_model.wv.key_to_index:\n",
    "                token_id = self.word2idx[token]\n",
    "            else:\n",
    "                token_id = 0\n",
    "\n",
    "            indexes_of_tokens[idx] = token_id\n",
    "        return torch.tensor(np.array(indexes_of_tokens))\n",
    "\n",
    "    def _embedding(self, tokens_per_sentence, max_length, embedding_model):\n",
    "        padding_vector = embedding_model.wv['<pad>']\n",
    "        vectors_of_tokens = [padding_vector] * max_length\n",
    "        # 임베딩 + padding\n",
    "        for idx, token in enumerate(tokens_per_sentence):\n",
    "            if idx == max_length:\n",
    "                break\n",
    "            vectors_of_tokens[idx] = embedding_model.wv[token]\n",
    "        return torch.tensor(np.array(vectors_of_tokens))\n"
   ]
  },
  {
   "cell_type": "code",
   "execution_count": 15,
   "metadata": {},
   "outputs": [],
   "source": [
    "current_path = os.getcwd()\n",
    "model_file_path = os.path.join(\n",
    "    current_path, \"embedding_model\", \"korean_fasttext.bin\")\n",
    "embedding_model = FastText.load(model_file_path)\n"
   ]
  },
  {
   "cell_type": "code",
   "execution_count": 64,
   "metadata": {},
   "outputs": [
    {
     "name": "stderr",
     "output_type": "stream",
     "text": [
      "/var/folders/3_/19vyqy_n009677wdd2xcl_xh0000gn/T/ipykernel_4983/4113194596.py:31: ParserWarning: Length of header or names does not match length of data. This leads to a loss of data with index_col=False.\n",
      "  self.stopwords = pd.read_csv(stopwords_path, index_col=False)\n",
      "65334it [01:56, 562.40it/s]\n",
      "/var/folders/3_/19vyqy_n009677wdd2xcl_xh0000gn/T/ipykernel_4983/4113194596.py:31: ParserWarning: Length of header or names does not match length of data. This leads to a loss of data with index_col=False.\n",
      "  self.stopwords = pd.read_csv(stopwords_path, index_col=False)\n",
      "13491it [00:26, 502.86it/s]\n"
     ]
    }
   ],
   "source": [
    "import gc\n",
    "gc.collect()\n",
    "current_path = os.getcwd()\n",
    "train_file_path = os.path.join(current_path, \"dataset\", \"train.csv\")\n",
    "test_file_path = os.path.join(current_path, \"dataset\", \"test.csv\")\n",
    "\n",
    "train_set = Korean_dataset(file_path=train_file_path,\n",
    "                           dataset_type=Dataset_type.TRAIN,\n",
    "                           use_jamo_split=False,\n",
    "                           exclude_stopwords=False,\n",
    "                           embedding_model=embedding_model,\n",
    "                           max_length=20)\n",
    "test_set = Korean_dataset(file_path=test_file_path,\n",
    "                          dataset_type=Dataset_type.TEST,\n",
    "                          use_jamo_split=False,\n",
    "                          exclude_stopwords=False,\n",
    "                          embedding_model=embedding_model,\n",
    "                          max_length=20)\n"
   ]
  },
  {
   "cell_type": "code",
   "execution_count": 65,
   "metadata": {},
   "outputs": [],
   "source": [
    "with open(\"dataset/trainset.pickle\", \"wb\") as fw:\n",
    "    pickle.dump(train_set, fw)\n"
   ]
  },
  {
   "cell_type": "code",
   "execution_count": 37,
   "metadata": {},
   "outputs": [],
   "source": [
    "with open(\"dataset/trainset.pickle\", \"rb\") as fr:\n",
    "    train_set = pickle.load(fr)\n"
   ]
  },
  {
   "cell_type": "code",
   "execution_count": 38,
   "metadata": {},
   "outputs": [
    {
     "data": {
      "text/plain": [
       "((tensor([9517, 1018,  282,  174,    0,    0,    0,    0,    0,    0,    0,    0,\n",
       "             0,    0,    0,    0,    0,    0,    0,    0]),\n",
       "  tensor([[-0.0094,  0.0447, -0.0309,  ...,  0.0317,  0.0436,  0.0030],\n",
       "          [-0.0326,  0.1954, -0.3129,  ...,  0.0973, -0.0473, -0.0439],\n",
       "          [-0.2051, -0.1395,  0.1422,  ...,  0.0236, -0.0012,  0.0843],\n",
       "          ...,\n",
       "          [-0.0004,  0.0006,  0.0003,  ..., -0.0005, -0.0005,  0.0009],\n",
       "          [-0.0004,  0.0006,  0.0003,  ..., -0.0005, -0.0005,  0.0009],\n",
       "          [-0.0004,  0.0006,  0.0003,  ..., -0.0005, -0.0005,  0.0009]])),\n",
       " tensor(1))"
      ]
     },
     "execution_count": 38,
     "metadata": {},
     "output_type": "execute_result"
    }
   ],
   "source": [
    "train_set[0]\n"
   ]
  },
  {
   "attachments": {},
   "cell_type": "markdown",
   "metadata": {},
   "source": []
  },
  {
   "cell_type": "code",
   "execution_count": 39,
   "metadata": {},
   "outputs": [],
   "source": [
    "# class_sample_counts = [0] * 7\n",
    "# for src, trg in train_set:\n",
    "#     class_sample_counts[trg] += 1\n",
    "# class_sample_counts\n"
   ]
  },
  {
   "cell_type": "code",
   "execution_count": 40,
   "metadata": {},
   "outputs": [],
   "source": [
    "# total_count = sum(class_sample_counts)\n",
    "# class_weights = [total_count /\n",
    "#                  class_sample_count for class_sample_count in class_sample_counts]\n",
    "# class_weights_tensor = torch.tensor(class_weights).to(device)\n",
    "# class_weights_tensor\n"
   ]
  },
  {
   "cell_type": "code",
   "execution_count": 41,
   "metadata": {},
   "outputs": [],
   "source": [
    "# samples_weight = torch.tensor(samples_weight)\n"
   ]
  },
  {
   "cell_type": "code",
   "execution_count": 42,
   "metadata": {},
   "outputs": [
    {
     "name": "stdout",
     "output_type": "stream",
     "text": [
      "65288\n"
     ]
    }
   ],
   "source": [
    "print(len(train_set))\n"
   ]
  },
  {
   "cell_type": "code",
   "execution_count": 102,
   "metadata": {},
   "outputs": [],
   "source": [
    "from torch.nn.utils.rnn import pad_sequence\n",
    "\n",
    "\n",
    "# class LSTM_Net(nn.Module):\n",
    "#     def __init__(self, input_dim, hidden_dim, output_dim, embedding_model, max_length, num_layers=1, reverse=True):\n",
    "#         super(LSTM_Net, self).__init__()\n",
    "#         self.hidden_dim = hidden_dim\n",
    "#         self.num_layers = num_layers\n",
    "#         self.embedding_model = embedding_model\n",
    "#         self.word_vectors = self.embedding_model.wv\n",
    "#         self.embedding = nn.Embedding.from_pretrained(\n",
    "#             torch.from_numpy(self.word_vectors.vectors), padding_idx=0)\n",
    "#         self.reverse = reverse\n",
    "#         self.lstm = nn.LSTM(input_dim, hidden_dim,\n",
    "#                             num_layers, batch_first=True, dropout=0.3)\n",
    "#         self.fc1 = nn.Linear(2*input_dim, input_dim)\n",
    "#         self.fc2 = nn.Linear((max_length + 1) * hidden_dim, hidden_dim)\n",
    "#         self.fc3 = nn.Linear(hidden_dim, output_dim)\n",
    "\n",
    "#     def forward(self, encoding, vector_1):\n",
    "#         h0 = torch.zeros(self.num_layers, encoding.size(0),\n",
    "#                          self.hidden_dim).to(encoding.device)\n",
    "#         c0 = torch.zeros(self.num_layers, encoding.size(0),\n",
    "#                          self.hidden_dim).to(encoding.device)\n",
    "#         vector_1 = vector_1.flip(dims=[1]) if self.reverse else vector_1\n",
    "#         encoding = encoding.flip(dims=[1]) if self.reverse else encoding\n",
    "#         vector_2 = self.embedding(encoding)\n",
    "#         x = torch.cat([vector_1, vector_2], dim=2)\n",
    "#         x = self.fc1(x)\n",
    "#         out, (hn, cn) = self.lstm(x, (h0, c0))\n",
    "#         h_last = hn[num_layers-1]\n",
    "#         score = (out @ h_last.unsqueeze(-1)).squeeze(-1)\n",
    "#         a = nn.functional.softmax(score)\n",
    "#         c = out * a.unsqueeze(-1)\n",
    "#         h_tilde = torch.cat((c, h_last.unsqueeze(1)), dim=1)\n",
    "#         h_tilde = nn.functional.tanh(\n",
    "#             self.fc2(h_tilde.view(encoding.size(0), -1)))\n",
    "#         x = self.fc3(h_tilde)\n",
    "#         return x\n",
    "\n",
    "class LSTM_Net(nn.Module):\n",
    "    def __init__(self, input_dim, hidden_dim, output_dim, max_length, embedding_model, num_layers=1, reverse=True):\n",
    "        super(LSTM_Net, self).__init__()\n",
    "        self.hidden_dim = hidden_dim\n",
    "        self.num_layers = num_layers\n",
    "        self.embedding_model = embedding_model\n",
    "        self.word_vectors = self.embedding_model.wv\n",
    "        self.embedding = nn.Embedding.from_pretrained(\n",
    "            torch.from_numpy(self.word_vectors.vectors), padding_idx=0)\n",
    "        self.lstm = nn.LSTM(input_dim, hidden_dim,\n",
    "                            num_layers, batch_first=True, dropout=0.3)\n",
    "        self.fc1 = nn.Linear(2*input_dim, input_dim)\n",
    "        self.fc2 = nn.Linear(hidden_dim, output_dim)\n",
    "        self.reverse = reverse\n",
    "\n",
    "    def forward(self, encoding, vector_1):\n",
    "        h0 = torch.zeros(self.num_layers, encoding.size(0),\n",
    "                         self.hidden_dim).to(encoding.device)\n",
    "        c0 = torch.zeros(self.num_layers, encoding.size(0),\n",
    "                         self.hidden_dim).to(encoding\n",
    "                                             .device)\n",
    "        vector_1 = vector_1.flip(dims=[1]) if self.reverse else vector_1\n",
    "        encoding = encoding.flip(dims=[1]) if self.reverse else encoding\n",
    "        vector_2 = self.embedding(encoding)\n",
    "        x = torch.cat([vector_1, vector_2], dim=2)\n",
    "        x = self.fc1(x)\n",
    "        out, (hn, cn) = self.lstm(x, (h0, c0))\n",
    "        output = out[:, -1, :]\n",
    "        x = self.fc2(output)\n",
    "        return x\n",
    "\n",
    "\n",
    "class CNN_1D_Net(nn.Module):\n",
    "    def __init__(self, input_dim, hidden_dim, output_dim, embedding_model, max_length):\n",
    "        super(CNN_1D_Net, self).__init__()\n",
    "        self.hidden_dim = hidden_dim\n",
    "        self.num_layers = num_layers\n",
    "        self.embedding_model = embedding_model\n",
    "        self.word_vectors = self.embedding_model.wv\n",
    "        self.embedding = nn.Embedding.from_pretrained(\n",
    "            torch.from_numpy(self.word_vectors.vectors), padding_idx=0)\n",
    "        self.fc1 = nn.Linear(2*input_dim, input_dim)\n",
    "        self.conv1 = nn.Conv1d(in_channels=input_dim,\n",
    "                               out_channels=128, kernel_size=3)\n",
    "        self.dropout = nn.Dropout(0.2)\n",
    "        self.pool = nn.MaxPool1d(kernel_size=3)\n",
    "        self.conv2 = nn.Conv1d(in_channels=128, out_channels=32, kernel_size=4)\n",
    "        self.fc2 = nn.Linear(32, output_dim)\n",
    "\n",
    "    def forward(self, encoding, vector_1):\n",
    "        h0 = torch.zeros(self.num_layers, encoding.size(0),\n",
    "                         self.hidden_dim).to(encoding.device)\n",
    "        c0 = torch.zeros(self.num_layers, encoding.size(0),\n",
    "                         self.hidden_dim).to(encoding.device)\n",
    "        # vector_1 = vector_1.flip(dims=[1]) if self.reverse else vector_1\n",
    "        # encoding = encoding.flip(dims=[1]) if self.reverse else encoding\n",
    "        vector_2 = self.embedding(encoding)\n",
    "        x = torch.cat([vector_1, vector_2], dim=2)\n",
    "        x = self.fc1(x)\n",
    "        x = x.permute(0, 2, 1)  # batch_size x 128 x 32\n",
    "        x = self.conv1(x)  # batch_size x 128 x 30\n",
    "        x = nn.ReLU()(x)\n",
    "        x = self.dropout(x)\n",
    "        x = self.pool(x)  # batch_size x 128 x 10\n",
    "        x = self.conv2(x)  # batch_size x 32 x 7\n",
    "        x = nn.ReLU()(x)\n",
    "        x = nn.MaxPool1d(kernel_size=x.size(2))(x)  # batch_size x 32 x 1\n",
    "        x = x.view(x.size(0), -1)  # batch_size x 32\n",
    "        x = self.fc2(x)  # batch_size x 1\n",
    "        return x\n",
    "\n",
    "\n",
    "input_dim = 300\n",
    "hidden_dim = 128\n",
    "output_dim = 7\n",
    "num_layers = 4\n",
    "batch_size = 64\n",
    "num_of_epoch = 10\n",
    "max_length = 20\n",
    "learning_rate = 0.0005\n",
    "\n",
    "# model = LSTM_Net(input_dim=input_dim, hidden_dim=hidden_dim,\n",
    "#                  output_dim=output_dim, num_layers=num_layers, embedding_model=embedding_model, max_length=max_length).to(device)\n",
    "\n",
    "model = CNN_1D_Net(input_dim=input_dim, hidden_dim=hidden_dim,\n",
    "                   output_dim=output_dim, embedding_model=embedding_model, max_length=max_length)\n",
    "# 손실 함수와 최적화 알고리즘을 정의합니다.\n",
    "optimizer = optim.Adam(model.parameters(), lr=learning_rate)\n",
    "scheduler = CosineAnnealingWarmupRestarts(\n",
    "    optimizer, first_cycle_steps=4000, cycle_mult=1.0, max_lr=0.001, min_lr=0.0001, warmup_steps=500, gamma=1)\n",
    "criterion = nn.CrossEntropyLoss().to(device)\n",
    "\n",
    "\n",
    "def train(dataset, k_fold_split, batch_size, optimizer, scheduler, criterion, num_of_epoch, valid_random_seed=None, patience=3):\n",
    "    # train_set_count = int(len(dataset) * valid_rate)\n",
    "    # val_set_count = len(dataset) - train_set_count\n",
    "\n",
    "    if valid_random_seed is not None:\n",
    "        torch.manual_seed(valid_random_seed)\n",
    "\n",
    "    # train_set, val_set = random_split(\n",
    "    #     dataset, [train_set_count, val_set_count])\n",
    "\n",
    "    # # sampler = WeightedRandomSampler(samples_weight.type(\n",
    "    # #     'torch.DoubleTensor'), len(train_set), replacement=False)\n",
    "\n",
    "    # train_loader = DataLoader(train_set, batch_size=batch_size,\n",
    "    #                           shuffle=True)\n",
    "    # val_loader = DataLoader(val_set, batch_size=batch_size,\n",
    "    #                         shuffle=True)\n",
    "\n",
    "    optimizer = optimizer\n",
    "    criterion = nn.CrossEntropyLoss().to(device)\n",
    "\n",
    "    skf = StratifiedKFold(n_splits=k_fold_split,\n",
    "                          shuffle=True, random_state=valid_random_seed)\n",
    "\n",
    "    labels = np.array(dataset.data_df.loc[:, \"label\"])\n",
    "\n",
    "    for fold, (train_index, val_index) in enumerate(skf.split(np.zeros(len(dataset)), labels)):\n",
    "        print(\"New Fold Start!!\")\n",
    "        print(f\"Fold: {fold + 1}\")\n",
    "\n",
    "        if fold > 0:\n",
    "            model.load_state_dict(torch.load('model/model_cnn.pt'))\n",
    "\n",
    "        train_set = Subset(dataset, train_index)\n",
    "        val_set = Subset(dataset, val_index)\n",
    "\n",
    "        train_loader = DataLoader(\n",
    "            train_set, batch_size=batch_size, shuffle=True)\n",
    "        val_loader = DataLoader(\n",
    "            val_set, batch_size=batch_size, shuffle=True)\n",
    "\n",
    "        train_losses = []\n",
    "        train_accs = []\n",
    "        val_losses = []\n",
    "        val_accs = []\n",
    "        lrs = []\n",
    "        preds = []\n",
    "        targets = []\n",
    "        is_early_stopping = False\n",
    "        best_val_accuracy = 0\n",
    "        best_f1_score = 0\n",
    "\n",
    "        for epoch in tqdm(range(num_of_epoch)):\n",
    "            model.train()\n",
    "            correct_train = 0\n",
    "            for batch_idx, (data, target) in tqdm(enumerate(train_loader)):\n",
    "                encoding = data[0]\n",
    "                vector_1 = data[1]\n",
    "                encoding, vector_1, target = encoding.to(\n",
    "                    device), vector_1.to(device), target.to(device)\n",
    "                optimizer.zero_grad()\n",
    "                output = model(encoding, vector_1)\n",
    "                loss = criterion(output, target)\n",
    "                loss.backward()\n",
    "                optimizer.step()\n",
    "                lrs.append(optimizer.param_groups[0][\"lr\"])\n",
    "                scheduler.step()\n",
    "                _, pred = torch.max(output.data, 1)\n",
    "                preds.extend(pred.tolist())\n",
    "                targets.extend(target.tolist())\n",
    "                correct_train += pred.eq(target.view_as(pred)).sum().item()\n",
    "\n",
    "                if batch_idx % 100 == 0:\n",
    "                    print('Train Epoch: {} [{}/{} ({:.0f}%)]\\tLoss: {:.6f}, lrs: {}'.format(\n",
    "                        epoch + 1, batch_idx *\n",
    "                        len(data[0]), len(train_loader.dataset),\n",
    "                        100. * batch_idx / len(train_loader), loss.item(), lrs[-1]))\n",
    "\n",
    "            train_accuracy = 100. * (correct_train / len(train_set))\n",
    "            train_losses.append(loss.item())\n",
    "            train_accs.append(train_accuracy)\n",
    "            train_f1_score = f1_score(targets, preds, average=\"macro\")\n",
    "            print(correct_train)\n",
    "            print(\n",
    "                f\"Epoch: {epoch + 1} - train accuracy: {train_accuracy}, train f1 score: {train_f1_score}\")\n",
    "\n",
    "            gc.collect()\n",
    "\n",
    "            model.eval()\n",
    "            preds = []\n",
    "            targets = []\n",
    "            correct_val = 0\n",
    "            print(len(val_set))\n",
    "\n",
    "            with torch.no_grad():\n",
    "                for batch_idx, (data, target) in tqdm(enumerate(val_loader)):\n",
    "                    encoding = data[0]\n",
    "                    vector_1 = data[1]\n",
    "                    encoding, vector_1, target = encoding.to(\n",
    "                        device), vector_1.to(device), target.to(device)\n",
    "                    output = model(encoding, vector_1)\n",
    "                    loss = criterion(output, target)\n",
    "                    _, pred = torch.max(output.data, 1)\n",
    "                    preds.extend(pred.tolist())\n",
    "                    targets.extend(target.tolist())\n",
    "                    correct_val += pred.eq(target.view_as(pred)).sum().item()\n",
    "                    # gc.collect()\n",
    "\n",
    "                val_accuracy = 100. * (correct_val / len(val_set))\n",
    "                val_losses.append(loss.item())\n",
    "                val_accs.append(val_accuracy)\n",
    "                val_f1_score = f1_score(targets, preds, average=\"macro\")\n",
    "\n",
    "                if val_f1_score > best_f1_score:\n",
    "                    current_patience = patience\n",
    "                    best_f1_score = val_f1_score\n",
    "                    best_model = model.state_dict()\n",
    "                    torch.save(best_model, 'model/model_cnn.pt')\n",
    "                else:\n",
    "                    current_patience -= 1\n",
    "                    if current_patience < 0:\n",
    "                        print(\"Early Stopping!\")\n",
    "                        is_early_stopping = True\n",
    "\n",
    "                print('Epoch {} finished: train loss = {}, val loss = {}'.format(epoch + 1,\n",
    "                                                                                 train_losses[-1], val_losses[-1]))\n",
    "                print(\n",
    "                    f\"Epoch: {epoch + 1} - Validation accuracy: {val_accuracy} - Validation F1 Score: {val_f1_score}\")\n",
    "\n",
    "                if is_early_stopping:\n",
    "                    break\n"
   ]
  },
  {
   "attachments": {},
   "cell_type": "markdown",
   "metadata": {},
   "source": [
    "기존 사전학습된 FaxtText 임베딩 모델\n"
   ]
  },
  {
   "attachments": {},
   "cell_type": "markdown",
   "metadata": {},
   "source": [
    "주어진 데이터로 만들어진 FastText 임베딩 모델\n"
   ]
  },
  {
   "cell_type": "code",
   "execution_count": 103,
   "metadata": {},
   "outputs": [
    {
     "name": "stdout",
     "output_type": "stream",
     "text": [
      "New Fold Start!!\n",
      "Fold: 1\n"
     ]
    },
    {
     "name": "stderr",
     "output_type": "stream",
     "text": [
      "  0%|          | 0/10 [00:00<?, ?it/s]"
     ]
    },
    {
     "name": "stdout",
     "output_type": "stream",
     "text": [
      "Train Epoch: 1 [0/49000 (0%)]\tLoss: 1.964710, lrs: 0.0001\n"
     ]
    },
    {
     "name": "stderr",
     "output_type": "stream",
     "text": []
    },
    {
     "name": "stdout",
     "output_type": "stream",
     "text": [
      "Train Epoch: 1 [6400/49000 (13%)]\tLoss: 1.599041, lrs: 0.00028\n"
     ]
    },
    {
     "name": "stderr",
     "output_type": "stream",
     "text": []
    },
    {
     "name": "stdout",
     "output_type": "stream",
     "text": [
      "Train Epoch: 1 [12800/49000 (26%)]\tLoss: 1.344424, lrs: 0.00045999999999999996\n"
     ]
    },
    {
     "name": "stderr",
     "output_type": "stream",
     "text": []
    },
    {
     "name": "stdout",
     "output_type": "stream",
     "text": [
      "Train Epoch: 1 [19200/49000 (39%)]\tLoss: 1.176938, lrs: 0.00064\n"
     ]
    },
    {
     "name": "stderr",
     "output_type": "stream",
     "text": []
    },
    {
     "name": "stdout",
     "output_type": "stream",
     "text": [
      "Train Epoch: 1 [25600/49000 (52%)]\tLoss: 1.121142, lrs: 0.00082\n"
     ]
    },
    {
     "name": "stderr",
     "output_type": "stream",
     "text": []
    },
    {
     "name": "stdout",
     "output_type": "stream",
     "text": [
      "Train Epoch: 1 [32000/49000 (65%)]\tLoss: 0.774874, lrs: 0.001\n"
     ]
    },
    {
     "name": "stderr",
     "output_type": "stream",
     "text": []
    },
    {
     "name": "stdout",
     "output_type": "stream",
     "text": [
      "Train Epoch: 1 [38400/49000 (78%)]\tLoss: 1.004623, lrs: 0.0009981884322978576\n"
     ]
    },
    {
     "name": "stderr",
     "output_type": "stream",
     "text": []
    },
    {
     "name": "stdout",
     "output_type": "stream",
     "text": [
      "Train Epoch: 1 [44800/49000 (91%)]\tLoss: 0.800910, lrs: 0.0009927683148693834\n"
     ]
    },
    {
     "name": "stderr",
     "output_type": "stream",
     "text": [
      "766it [00:28, 26.86it/s]\n"
     ]
    },
    {
     "name": "stdout",
     "output_type": "stream",
     "text": [
      "29243\n",
      "Epoch: 1 - train accuracy: 59.679591836734694, train f1 score: 0.4992413588648141\n",
      "16334\n"
     ]
    },
    {
     "name": "stderr",
     "output_type": "stream",
     "text": [
      "256it [00:04, 55.48it/s]\n",
      " 10%|█         | 1/10 [00:33<04:59, 33.31s/it]"
     ]
    },
    {
     "name": "stdout",
     "output_type": "stream",
     "text": [
      "Epoch 1 finished: train loss = 0.744529128074646, val loss = 1.0549594163894653\n",
      "Epoch: 1 - Validation accuracy: 70.97465409575119 - Validation F1 Score: 0.6685187741644282\n"
     ]
    },
    {
     "name": "stderr",
     "output_type": "stream",
     "text": []
    },
    {
     "name": "stdout",
     "output_type": "stream",
     "text": [
      "Train Epoch: 2 [0/49000 (0%)]\tLoss: 0.573763, lrs: 0.0009872342798116032\n"
     ]
    },
    {
     "name": "stderr",
     "output_type": "stream",
     "text": []
    },
    {
     "name": "stdout",
     "output_type": "stream",
     "text": [
      "Train Epoch: 2 [6400/49000 (13%)]\tLoss: 0.798356, lrs: 0.0009759342801535756\n"
     ]
    },
    {
     "name": "stderr",
     "output_type": "stream",
     "text": []
    },
    {
     "name": "stdout",
     "output_type": "stream",
     "text": [
      "Train Epoch: 2 [12800/49000 (26%)]\tLoss: 0.846982, lrs: 0.0009612049081170523\n"
     ]
    },
    {
     "name": "stderr",
     "output_type": "stream",
     "text": []
    },
    {
     "name": "stdout",
     "output_type": "stream",
     "text": [
      "Train Epoch: 2 [19200/49000 (39%)]\tLoss: 1.009896, lrs: 0.0009431647559449408\n"
     ]
    },
    {
     "name": "stderr",
     "output_type": "stream",
     "text": []
    },
    {
     "name": "stdout",
     "output_type": "stream",
     "text": [
      "Train Epoch: 2 [25600/49000 (52%)]\tLoss: 0.931067, lrs: 0.0009219590723350936\n"
     ]
    },
    {
     "name": "stderr",
     "output_type": "stream",
     "text": []
    },
    {
     "name": "stdout",
     "output_type": "stream",
     "text": [
      "Train Epoch: 2 [32000/49000 (65%)]\tLoss: 0.915163, lrs: 0.0008977585929831972\n"
     ]
    },
    {
     "name": "stderr",
     "output_type": "stream",
     "text": []
    },
    {
     "name": "stdout",
     "output_type": "stream",
     "text": [
      "Train Epoch: 2 [38400/49000 (78%)]\tLoss: 0.769492, lrs: 0.0008707581659193411\n"
     ]
    },
    {
     "name": "stderr",
     "output_type": "stream",
     "text": []
    },
    {
     "name": "stdout",
     "output_type": "stream",
     "text": [
      "Train Epoch: 2 [44800/49000 (91%)]\tLoss: 0.789706, lrs: 0.00084117518270625\n"
     ]
    },
    {
     "name": "stderr",
     "output_type": "stream",
     "text": [
      "766it [00:29, 25.83it/s]\n"
     ]
    },
    {
     "name": "stdout",
     "output_type": "stream",
     "text": [
      "34861\n",
      "Epoch: 2 - train accuracy: 71.14489795918367, train f1 score: 0.6635937739774136\n",
      "16334\n"
     ]
    },
    {
     "name": "stderr",
     "output_type": "stream",
     "text": [
      "256it [00:04, 57.05it/s]\n",
      " 20%|██        | 2/10 [01:07<04:31, 33.91s/it]"
     ]
    },
    {
     "name": "stdout",
     "output_type": "stream",
     "text": [
      "Epoch 2 finished: train loss = 0.47122541069984436, val loss = 0.4041213393211365\n",
      "Epoch: 2 - Validation accuracy: 72.1133831272193 - Validation F1 Score: 0.6785468937802442\n"
     ]
    },
    {
     "name": "stderr",
     "output_type": "stream",
     "text": []
    },
    {
     "name": "stdout",
     "output_type": "stream",
     "text": [
      "Train Epoch: 3 [0/49000 (0%)]\tLoss: 0.937690, lrs: 0.0008203505781163766\n"
     ]
    },
    {
     "name": "stderr",
     "output_type": "stream",
     "text": []
    },
    {
     "name": "stdout",
     "output_type": "stream",
     "text": [
      "Train Epoch: 3 [6400/49000 (13%)]\tLoss: 0.730182, lrs: 0.0007870156680766441\n"
     ]
    },
    {
     "name": "stderr",
     "output_type": "stream",
     "text": []
    },
    {
     "name": "stdout",
     "output_type": "stream",
     "text": [
      "Train Epoch: 3 [12800/49000 (26%)]\tLoss: 0.636866, lrs: 0.0007517724472405145\n"
     ]
    },
    {
     "name": "stderr",
     "output_type": "stream",
     "text": []
    },
    {
     "name": "stdout",
     "output_type": "stream",
     "text": [
      "Train Epoch: 3 [19200/49000 (39%)]\tLoss: 0.912946, lrs: 0.0007149046732994821\n"
     ]
    },
    {
     "name": "stderr",
     "output_type": "stream",
     "text": []
    },
    {
     "name": "stdout",
     "output_type": "stream",
     "text": [
      "Train Epoch: 3 [25600/49000 (52%)]\tLoss: 0.743506, lrs: 0.0006767091838914198\n"
     ]
    },
    {
     "name": "stderr",
     "output_type": "stream",
     "text": []
    },
    {
     "name": "stdout",
     "output_type": "stream",
     "text": [
      "Train Epoch: 3 [32000/49000 (65%)]\tLoss: 0.816518, lrs: 0.0006374935066384577\n"
     ]
    },
    {
     "name": "stderr",
     "output_type": "stream",
     "text": []
    },
    {
     "name": "stdout",
     "output_type": "stream",
     "text": [
      "Train Epoch: 3 [38400/49000 (78%)]\tLoss: 1.022670, lrs: 0.0005975733831153912\n"
     ]
    },
    {
     "name": "stderr",
     "output_type": "stream",
     "text": []
    },
    {
     "name": "stdout",
     "output_type": "stream",
     "text": [
      "Train Epoch: 3 [44800/49000 (91%)]\tLoss: 0.948617, lrs: 0.0005572702266841759\n"
     ]
    },
    {
     "name": "stderr",
     "output_type": "stream",
     "text": [
      "766it [00:29, 26.07it/s]\n"
     ]
    },
    {
     "name": "stdout",
     "output_type": "stream",
     "text": [
      "35636\n",
      "Epoch: 3 - train accuracy: 72.7265306122449, train f1 score: 0.6812645019699428\n",
      "16334\n"
     ]
    },
    {
     "name": "stderr",
     "output_type": "stream",
     "text": [
      "256it [00:04, 56.43it/s]\n",
      " 30%|███       | 3/10 [01:41<03:57, 34.00s/it]"
     ]
    },
    {
     "name": "stdout",
     "output_type": "stream",
     "text": [
      "Epoch 3 finished: train loss = 0.9654343724250793, val loss = 0.6690987944602966\n",
      "Epoch: 3 - Validation accuracy: 72.76845843026815 - Validation F1 Score: 0.6995308189981413\n"
     ]
    },
    {
     "name": "stderr",
     "output_type": "stream",
     "text": []
    },
    {
     "name": "stdout",
     "output_type": "stream",
     "text": [
      "Train Epoch: 4 [0/49000 (0%)]\tLoss: 0.869789, lrs: 0.0005306178831125968\n"
     ]
    },
    {
     "name": "stderr",
     "output_type": "stream",
     "text": []
    },
    {
     "name": "stdout",
     "output_type": "stream",
     "text": [
      "Train Epoch: 4 [6400/49000 (13%)]\tLoss: 0.632984, lrs: 0.0004903956542700078\n"
     ]
    },
    {
     "name": "stderr",
     "output_type": "stream",
     "text": []
    },
    {
     "name": "stdout",
     "output_type": "stream",
     "text": [
      "Train Epoch: 4 [12800/49000 (26%)]\tLoss: 0.654673, lrs: 0.00045065332457244875\n"
     ]
    },
    {
     "name": "stderr",
     "output_type": "stream",
     "text": []
    },
    {
     "name": "stdout",
     "output_type": "stream",
     "text": [
      "Train Epoch: 4 [19200/49000 (39%)]\tLoss: 0.793167, lrs: 0.00041171087589053314\n"
     ]
    },
    {
     "name": "stderr",
     "output_type": "stream",
     "text": []
    },
    {
     "name": "stdout",
     "output_type": "stream",
     "text": [
      "Train Epoch: 4 [25600/49000 (52%)]\tLoss: 0.795170, lrs: 0.0003738818499232589\n"
     ]
    },
    {
     "name": "stderr",
     "output_type": "stream",
     "text": []
    },
    {
     "name": "stdout",
     "output_type": "stream",
     "text": [
      "Train Epoch: 4 [32000/49000 (65%)]\tLoss: 0.814450, lrs: 0.0003374708237446074\n"
     ]
    },
    {
     "name": "stderr",
     "output_type": "stream",
     "text": []
    },
    {
     "name": "stdout",
     "output_type": "stream",
     "text": [
      "Train Epoch: 4 [38400/49000 (78%)]\tLoss: 0.667068, lrs: 0.0003027709575280323\n"
     ]
    },
    {
     "name": "stderr",
     "output_type": "stream",
     "text": []
    },
    {
     "name": "stdout",
     "output_type": "stream",
     "text": [
      "Train Epoch: 4 [44800/49000 (91%)]\tLoss: 0.839946, lrs: 0.00027006163419311836\n"
     ]
    },
    {
     "name": "stderr",
     "output_type": "stream",
     "text": [
      "766it [00:29, 26.09it/s]\n"
     ]
    },
    {
     "name": "stdout",
     "output_type": "stream",
     "text": [
      "36314\n",
      "Epoch: 4 - train accuracy: 74.11020408163266, train f1 score: 0.7000166491341545\n",
      "16334\n"
     ]
    },
    {
     "name": "stderr",
     "output_type": "stream",
     "text": [
      "256it [00:04, 56.79it/s]\n",
      " 40%|████      | 4/10 [02:15<03:24, 34.01s/it]"
     ]
    },
    {
     "name": "stdout",
     "output_type": "stream",
     "text": [
      "Epoch 4 finished: train loss = 0.5786927342414856, val loss = 0.7154859304428101\n",
      "Epoch: 4 - Validation accuracy: 73.20925676502999 - Validation F1 Score: 0.6939956079704845\n"
     ]
    },
    {
     "name": "stderr",
     "output_type": "stream",
     "text": []
    },
    {
     "name": "stdout",
     "output_type": "stream",
     "text": [
      "Train Epoch: 5 [0/49000 (0%)]\tLoss: 0.644738, lrs: 0.0002496925432267381\n"
     ]
    },
    {
     "name": "stderr",
     "output_type": "stream",
     "text": []
    },
    {
     "name": "stdout",
     "output_type": "stream",
     "text": [
      "Train Epoch: 5 [6400/49000 (13%)]\tLoss: 0.567470, lrs: 0.00022086022789337287\n"
     ]
    },
    {
     "name": "stderr",
     "output_type": "stream",
     "text": []
    },
    {
     "name": "stdout",
     "output_type": "stream",
     "text": [
      "Train Epoch: 5 [12800/49000 (26%)]\tLoss: 0.798713, lrs: 0.0001946779524739583\n"
     ]
    },
    {
     "name": "stderr",
     "output_type": "stream",
     "text": []
    },
    {
     "name": "stdout",
     "output_type": "stream",
     "text": [
      "Train Epoch: 5 [19200/49000 (39%)]\tLoss: 0.567548, lrs: 0.00017135652125524286\n"
     ]
    },
    {
     "name": "stderr",
     "output_type": "stream",
     "text": []
    },
    {
     "name": "stdout",
     "output_type": "stream",
     "text": [
      "Train Epoch: 5 [25600/49000 (52%)]\tLoss: 0.706761, lrs: 0.00015108370468862008\n"
     ]
    },
    {
     "name": "stderr",
     "output_type": "stream",
     "text": []
    },
    {
     "name": "stdout",
     "output_type": "stream",
     "text": [
      "Train Epoch: 5 [32000/49000 (65%)]\tLoss: 0.676995, lrs: 0.00013402272757286141\n"
     ]
    },
    {
     "name": "stderr",
     "output_type": "stream",
     "text": []
    },
    {
     "name": "stdout",
     "output_type": "stream",
     "text": [
      "Train Epoch: 5 [38400/49000 (78%)]\tLoss: 0.678542, lrs: 0.00012031095486401073\n"
     ]
    },
    {
     "name": "stderr",
     "output_type": "stream",
     "text": []
    },
    {
     "name": "stdout",
     "output_type": "stream",
     "text": [
      "Train Epoch: 5 [44800/49000 (91%)]\tLoss: 0.556619, lrs: 0.0001100587856935279\n"
     ]
    },
    {
     "name": "stderr",
     "output_type": "stream",
     "text": [
      "766it [00:29, 26.15it/s]\n"
     ]
    },
    {
     "name": "stdout",
     "output_type": "stream",
     "text": [
      "36758\n",
      "Epoch: 5 - train accuracy: 75.01632653061225, train f1 score: 0.7060052787217211\n",
      "16334\n"
     ]
    },
    {
     "name": "stderr",
     "output_type": "stream",
     "text": [
      "256it [00:04, 57.03it/s]\n",
      " 50%|█████     | 5/10 [02:49<02:49, 33.99s/it]"
     ]
    },
    {
     "name": "stdout",
     "output_type": "stream",
     "text": [
      "Epoch 5 finished: train loss = 0.5652986764907837, val loss = 0.4872744679450989\n",
      "Epoch: 5 - Validation accuracy: 73.36843394147178 - Validation F1 Score: 0.7010680310351898\n"
     ]
    },
    {
     "name": "stderr",
     "output_type": "stream",
     "text": []
    },
    {
     "name": "stdout",
     "output_type": "stream",
     "text": [
      "Train Epoch: 6 [0/49000 (0%)]\tLoss: 0.707908, lrs: 0.0001052287896437062\n"
     ]
    },
    {
     "name": "stderr",
     "output_type": "stream",
     "text": []
    },
    {
     "name": "stdout",
     "output_type": "stream",
     "text": [
      "Train Epoch: 6 [6400/49000 (13%)]\tLoss: 0.652607, lrs: 0.0001008879722072778\n"
     ]
    },
    {
     "name": "stderr",
     "output_type": "stream",
     "text": []
    },
    {
     "name": "stdout",
     "output_type": "stream",
     "text": [
      "Train Epoch: 6 [12800/49000 (26%)]\tLoss: 0.671538, lrs: 0.000154\n"
     ]
    },
    {
     "name": "stderr",
     "output_type": "stream",
     "text": []
    },
    {
     "name": "stdout",
     "output_type": "stream",
     "text": [
      "Train Epoch: 6 [19200/49000 (39%)]\tLoss: 0.504807, lrs: 0.000334\n"
     ]
    },
    {
     "name": "stderr",
     "output_type": "stream",
     "text": []
    },
    {
     "name": "stdout",
     "output_type": "stream",
     "text": [
      "Train Epoch: 6 [25600/49000 (52%)]\tLoss: 0.608022, lrs: 0.000514\n"
     ]
    },
    {
     "name": "stderr",
     "output_type": "stream",
     "text": []
    },
    {
     "name": "stdout",
     "output_type": "stream",
     "text": [
      "Train Epoch: 6 [32000/49000 (65%)]\tLoss: 0.796933, lrs: 0.0006940000000000001\n"
     ]
    },
    {
     "name": "stderr",
     "output_type": "stream",
     "text": []
    },
    {
     "name": "stdout",
     "output_type": "stream",
     "text": [
      "Train Epoch: 6 [38400/49000 (78%)]\tLoss: 0.837070, lrs: 0.0008740000000000001\n"
     ]
    },
    {
     "name": "stderr",
     "output_type": "stream",
     "text": []
    },
    {
     "name": "stdout",
     "output_type": "stream",
     "text": [
      "Train Epoch: 6 [44800/49000 (91%)]\tLoss: 0.733553, lrs: 0.0009998368592549595\n"
     ]
    },
    {
     "name": "stderr",
     "output_type": "stream",
     "text": [
      "766it [00:29, 25.91it/s]\n"
     ]
    },
    {
     "name": "stdout",
     "output_type": "stream",
     "text": [
      "36581\n",
      "Epoch: 6 - train accuracy: 74.65510204081632, train f1 score: 0.7055242272239094\n",
      "16334\n"
     ]
    },
    {
     "name": "stderr",
     "output_type": "stream",
     "text": [
      "256it [00:04, 58.55it/s]\n",
      " 60%|██████    | 6/10 [03:23<02:16, 34.03s/it]"
     ]
    },
    {
     "name": "stdout",
     "output_type": "stream",
     "text": [
      "Epoch 6 finished: train loss = 0.626266360282898, val loss = 0.3419738709926605\n",
      "Epoch: 6 - Validation accuracy: 72.76233623117425 - Validation F1 Score: 0.6873547775868503\n"
     ]
    },
    {
     "name": "stderr",
     "output_type": "stream",
     "text": []
    },
    {
     "name": "stdout",
     "output_type": "stream",
     "text": [
      "Train Epoch: 7 [0/49000 (0%)]\tLoss: 0.699189, lrs: 0.0009983303713109468\n"
     ]
    },
    {
     "name": "stderr",
     "output_type": "stream",
     "text": []
    },
    {
     "name": "stdout",
     "output_type": "stream",
     "text": [
      "Train Epoch: 7 [6400/49000 (13%)]\tLoss: 0.734899, lrs: 0.0009930539505381424\n"
     ]
    },
    {
     "name": "stderr",
     "output_type": "stream",
     "text": []
    },
    {
     "name": "stdout",
     "output_type": "stream",
     "text": [
      "Train Epoch: 7 [12800/49000 (26%)]\tLoss: 0.938445, lrs: 0.000984210319867109\n"
     ]
    },
    {
     "name": "stderr",
     "output_type": "stream",
     "text": []
    },
    {
     "name": "stdout",
     "output_type": "stream",
     "text": [
      "Train Epoch: 7 [19200/49000 (39%)]\tLoss: 0.807036, lrs: 0.0009718706830120393\n"
     ]
    },
    {
     "name": "stderr",
     "output_type": "stream",
     "text": []
    },
    {
     "name": "stdout",
     "output_type": "stream",
     "text": [
      "Train Epoch: 7 [25600/49000 (52%)]\tLoss: 0.668958, lrs: 0.0009561343914733012\n"
     ]
    },
    {
     "name": "stderr",
     "output_type": "stream",
     "text": []
    },
    {
     "name": "stdout",
     "output_type": "stream",
     "text": [
      "Train Epoch: 7 [32000/49000 (65%)]\tLoss: 0.825701, lrs: 0.0009371281446175751\n"
     ]
    },
    {
     "name": "stderr",
     "output_type": "stream",
     "text": []
    },
    {
     "name": "stdout",
     "output_type": "stream",
     "text": [
      "Train Epoch: 7 [38400/49000 (78%)]\tLoss: 0.705126, lrs: 0.0009150049695690511\n"
     ]
    },
    {
     "name": "stderr",
     "output_type": "stream",
     "text": []
    },
    {
     "name": "stdout",
     "output_type": "stream",
     "text": [
      "Train Epoch: 7 [44800/49000 (91%)]\tLoss: 0.896014, lrs: 0.0008899429891250035\n"
     ]
    },
    {
     "name": "stderr",
     "output_type": "stream",
     "text": [
      "766it [00:29, 26.07it/s]\n"
     ]
    },
    {
     "name": "stdout",
     "output_type": "stream",
     "text": [
      "36214\n",
      "Epoch: 7 - train accuracy: 73.90612244897959, train f1 score: 0.6952364668425174\n",
      "16334\n"
     ]
    },
    {
     "name": "stderr",
     "output_type": "stream",
     "text": [
      "256it [00:04, 54.41it/s]\n",
      " 70%|███████   | 7/10 [03:58<01:42, 34.11s/it]"
     ]
    },
    {
     "name": "stdout",
     "output_type": "stream",
     "text": [
      "Epoch 7 finished: train loss = 0.6959197521209717, val loss = 1.2758890390396118\n",
      "Epoch: 7 - Validation accuracy: 73.00722419493081 - Validation F1 Score: 0.6917329770231211\n"
     ]
    },
    {
     "name": "stderr",
     "output_type": "stream",
     "text": []
    },
    {
     "name": "stdout",
     "output_type": "stream",
     "text": [
      "Train Epoch: 8 [0/49000 (0%)]\tLoss: 0.702906, lrs: 0.0008718892852972497\n"
     ]
    },
    {
     "name": "stderr",
     "output_type": "stream",
     "text": []
    },
    {
     "name": "stdout",
     "output_type": "stream",
     "text": [
      "Train Epoch: 8 [6400/49000 (13%)]\tLoss: 0.749472, lrs: 0.0008424051635403904\n"
     ]
    },
    {
     "name": "stderr",
     "output_type": "stream",
     "text": []
    },
    {
     "name": "stdout",
     "output_type": "stream",
     "text": [
      "Train Epoch: 8 [12800/49000 (26%)]\tLoss: 0.586645, lrs: 0.0008105667673381558\n"
     ]
    },
    {
     "name": "stderr",
     "output_type": "stream",
     "text": []
    },
    {
     "name": "stdout",
     "output_type": "stream",
     "text": [
      "Train Epoch: 8 [19200/49000 (39%)]\tLoss: 0.626994, lrs: 0.0007766304407360924\n"
     ]
    },
    {
     "name": "stderr",
     "output_type": "stream",
     "text": []
    },
    {
     "name": "stdout",
     "output_type": "stream",
     "text": [
      "Train Epoch: 8 [25600/49000 (52%)]\tLoss: 0.739882, lrs: 0.0007408694190817632\n"
     ]
    },
    {
     "name": "stderr",
     "output_type": "stream",
     "text": []
    },
    {
     "name": "stdout",
     "output_type": "stream",
     "text": [
      "Train Epoch: 8 [32000/49000 (65%)]\tLoss: 0.617700, lrs: 0.0007035716290943887\n"
     ]
    },
    {
     "name": "stderr",
     "output_type": "stream",
     "text": []
    },
    {
     "name": "stdout",
     "output_type": "stream",
     "text": [
      "Train Epoch: 8 [38400/49000 (78%)]\tLoss: 0.524171, lrs: 0.0006650373706482017\n"
     ]
    },
    {
     "name": "stderr",
     "output_type": "stream",
     "text": []
    },
    {
     "name": "stdout",
     "output_type": "stream",
     "text": [
      "Train Epoch: 8 [44800/49000 (91%)]\tLoss: 0.811764, lrs: 0.0006255768989344338\n"
     ]
    },
    {
     "name": "stderr",
     "output_type": "stream",
     "text": [
      "766it [00:29, 26.14it/s]\n"
     ]
    },
    {
     "name": "stdout",
     "output_type": "stream",
     "text": [
      "36666\n",
      "Epoch: 8 - train accuracy: 74.82857142857144, train f1 score: 0.7051043244428845\n",
      "16334\n"
     ]
    },
    {
     "name": "stderr",
     "output_type": "stream",
     "text": [
      "256it [00:04, 56.50it/s]\n",
      " 80%|████████  | 8/10 [04:32<01:08, 34.07s/it]"
     ]
    },
    {
     "name": "stdout",
     "output_type": "stream",
     "text": [
      "Epoch 8 finished: train loss = 0.8562375903129578, val loss = 0.9297993779182434\n",
      "Epoch: 8 - Validation accuracy: 73.47863352516224 - Validation F1 Score: 0.6951385423842115\n"
     ]
    },
    {
     "name": "stderr",
     "output_type": "stream",
     "text": []
    },
    {
     "name": "stdout",
     "output_type": "stream",
     "text": [
      "Train Epoch: 9 [0/49000 (0%)]\tLoss: 0.909675, lrs: 0.0005991796951394463\n"
     ]
    },
    {
     "name": "stderr",
     "output_type": "stream",
     "text": []
    },
    {
     "name": "stdout",
     "output_type": "stream",
     "text": [
      "Train Epoch: 9 [6400/49000 (13%)]\tLoss: 0.705078, lrs: 0.0005588856417010923\n"
     ]
    },
    {
     "name": "stderr",
     "output_type": "stream",
     "text": []
    },
    {
     "name": "stdout",
     "output_type": "stream",
     "text": [
      "Train Epoch: 9 [12800/49000 (26%)]\tLoss: 0.478757, lrs: 0.0005185200463004337\n"
     ]
    },
    {
     "name": "stderr",
     "output_type": "stream",
     "text": []
    },
    {
     "name": "stdout",
     "output_type": "stream",
     "text": [
      "Train Epoch: 9 [19200/49000 (39%)]\tLoss: 0.812957, lrs: 0.00047840790897705094\n"
     ]
    },
    {
     "name": "stderr",
     "output_type": "stream",
     "text": []
    },
    {
     "name": "stdout",
     "output_type": "stream",
     "text": [
      "Train Epoch: 9 [25600/49000 (52%)]\tLoss: 0.782328, lrs: 0.0004388721890751173\n"
     ]
    },
    {
     "name": "stderr",
     "output_type": "stream",
     "text": []
    },
    {
     "name": "stdout",
     "output_type": "stream",
     "text": [
      "Train Epoch: 9 [32000/49000 (65%)]\tLoss: 0.470162, lrs: 0.000400231204964656\n"
     ]
    },
    {
     "name": "stderr",
     "output_type": "stream",
     "text": []
    },
    {
     "name": "stdout",
     "output_type": "stream",
     "text": [
      "Train Epoch: 9 [38400/49000 (78%)]\tLoss: 0.732471, lrs: 0.000362796071129194\n"
     ]
    },
    {
     "name": "stderr",
     "output_type": "stream",
     "text": []
    },
    {
     "name": "stdout",
     "output_type": "stream",
     "text": [
      "Train Epoch: 9 [44800/49000 (91%)]\tLoss: 0.907307, lrs: 0.00032686819325487214\n"
     ]
    },
    {
     "name": "stderr",
     "output_type": "stream",
     "text": [
      "766it [00:29, 26.02it/s]\n"
     ]
    },
    {
     "name": "stdout",
     "output_type": "stream",
     "text": [
      "37363\n",
      "Epoch: 9 - train accuracy: 76.25102040816326, train f1 score: 0.719472398092157\n",
      "16334\n"
     ]
    },
    {
     "name": "stderr",
     "output_type": "stream",
     "text": [
      "256it [00:04, 56.58it/s]\n",
      " 90%|█████████ | 9/10 [05:06<00:34, 34.10s/it]"
     ]
    },
    {
     "name": "stdout",
     "output_type": "stream",
     "text": [
      "Epoch 9 finished: train loss = 0.5135471224784851, val loss = 0.6193107962608337\n",
      "Epoch: 9 - Validation accuracy: 73.23986776049956 - Validation F1 Score: 0.7022613128341056\n"
     ]
    },
    {
     "name": "stderr",
     "output_type": "stream",
     "text": []
    },
    {
     "name": "stdout",
     "output_type": "stream",
     "text": [
      "Train Epoch: 10 [0/49000 (0%)]\tLoss: 0.623304, lrs: 0.00030412254396957895\n"
     ]
    },
    {
     "name": "stderr",
     "output_type": "stream",
     "text": []
    },
    {
     "name": "stdout",
     "output_type": "stream",
     "text": [
      "Train Epoch: 10 [6400/49000 (13%)]\tLoss: 0.531029, lrs: 0.0002713284287072748\n"
     ]
    },
    {
     "name": "stderr",
     "output_type": "stream",
     "text": []
    },
    {
     "name": "stdout",
     "output_type": "stream",
     "text": [
      "Train Epoch: 10 [12800/49000 (26%)]\tLoss: 0.648221, lrs: 0.00024077801308078925\n"
     ]
    },
    {
     "name": "stderr",
     "output_type": "stream",
     "text": []
    },
    {
     "name": "stdout",
     "output_type": "stream",
     "text": [
      "Train Epoch: 10 [19200/49000 (39%)]\tLoss: 0.409335, lrs: 0.00021271727107339335\n"
     ]
    },
    {
     "name": "stderr",
     "output_type": "stream",
     "text": []
    },
    {
     "name": "stdout",
     "output_type": "stream",
     "text": [
      "Train Epoch: 10 [25600/49000 (52%)]\tLoss: 0.610386, lrs: 0.0001873721312802815\n"
     ]
    },
    {
     "name": "stderr",
     "output_type": "stream",
     "text": []
    },
    {
     "name": "stdout",
     "output_type": "stream",
     "text": [
      "Train Epoch: 10 [32000/49000 (65%)]\tLoss: 0.787150, lrs: 0.0001649466578643667\n"
     ]
    },
    {
     "name": "stderr",
     "output_type": "stream",
     "text": []
    },
    {
     "name": "stdout",
     "output_type": "stream",
     "text": [
      "Train Epoch: 10 [38400/49000 (78%)]\tLoss: 0.460053, lrs: 0.00014562140755162946\n"
     ]
    },
    {
     "name": "stderr",
     "output_type": "stream",
     "text": []
    },
    {
     "name": "stdout",
     "output_type": "stream",
     "text": [
      "Train Epoch: 10 [44800/49000 (91%)]\tLoss: 0.647667, lrs: 0.00012955197589452458\n"
     ]
    },
    {
     "name": "stderr",
     "output_type": "stream",
     "text": [
      "766it [00:29, 26.09it/s]\n"
     ]
    },
    {
     "name": "stdout",
     "output_type": "stream",
     "text": [
      "37939\n",
      "Epoch: 10 - train accuracy: 77.42653061224489, train f1 score: 0.7309339243687151\n",
      "16334\n"
     ]
    },
    {
     "name": "stderr",
     "output_type": "stream",
     "text": [
      "256it [00:04, 56.84it/s]\n",
      "100%|██████████| 10/10 [05:40<00:00, 34.03s/it]\n"
     ]
    },
    {
     "name": "stdout",
     "output_type": "stream",
     "text": [
      "Epoch 10 finished: train loss = 0.5279632806777954, val loss = 0.43208715319633484\n",
      "Epoch: 10 - Validation accuracy: 73.65617729888577 - Validation F1 Score: 0.6920532456742643\n",
      "New Fold Start!!\n",
      "Fold: 2\n"
     ]
    },
    {
     "name": "stderr",
     "output_type": "stream",
     "text": [
      "  0%|          | 0/10 [00:00<?, ?it/s]"
     ]
    },
    {
     "name": "stdout",
     "output_type": "stream",
     "text": [
      "Train Epoch: 1 [0/49000 (0%)]\tLoss: 0.798860, lrs: 0.00012079364639198862\n"
     ]
    },
    {
     "name": "stderr",
     "output_type": "stream",
     "text": []
    },
    {
     "name": "stdout",
     "output_type": "stream",
     "text": [
      "Train Epoch: 1 [6400/49000 (13%)]\tLoss: 0.654170, lrs: 0.00011040132035590855\n"
     ]
    },
    {
     "name": "stderr",
     "output_type": "stream",
     "text": []
    },
    {
     "name": "stdout",
     "output_type": "stream",
     "text": [
      "Train Epoch: 1 [12800/49000 (26%)]\tLoss: 0.667866, lrs: 0.00010354838440848496\n"
     ]
    },
    {
     "name": "stderr",
     "output_type": "stream",
     "text": []
    },
    {
     "name": "stdout",
     "output_type": "stream",
     "text": [
      "Train Epoch: 1 [19200/49000 (39%)]\tLoss: 0.539759, lrs: 0.0001002900143605054\n"
     ]
    },
    {
     "name": "stderr",
     "output_type": "stream",
     "text": []
    },
    {
     "name": "stdout",
     "output_type": "stream",
     "text": [
      "Train Epoch: 1 [25600/49000 (52%)]\tLoss: 0.517813, lrs: 0.00020800000000000001\n"
     ]
    },
    {
     "name": "stderr",
     "output_type": "stream",
     "text": []
    },
    {
     "name": "stdout",
     "output_type": "stream",
     "text": [
      "Train Epoch: 1 [32000/49000 (65%)]\tLoss: 0.933153, lrs: 0.00038799999999999994\n"
     ]
    },
    {
     "name": "stderr",
     "output_type": "stream",
     "text": []
    },
    {
     "name": "stdout",
     "output_type": "stream",
     "text": [
      "Train Epoch: 1 [38400/49000 (78%)]\tLoss: 0.869925, lrs: 0.000568\n"
     ]
    },
    {
     "name": "stderr",
     "output_type": "stream",
     "text": []
    },
    {
     "name": "stdout",
     "output_type": "stream",
     "text": [
      "Train Epoch: 1 [44800/49000 (91%)]\tLoss: 0.776408, lrs: 0.0007480000000000001\n"
     ]
    },
    {
     "name": "stderr",
     "output_type": "stream",
     "text": [
      "766it [00:29, 25.61it/s]\n"
     ]
    },
    {
     "name": "stdout",
     "output_type": "stream",
     "text": [
      "37201\n",
      "Epoch: 1 - train accuracy: 75.92040816326531, train f1 score: 0.7240810430332794\n",
      "16334\n"
     ]
    },
    {
     "name": "stderr",
     "output_type": "stream",
     "text": [
      "256it [00:04, 56.47it/s]\n",
      " 10%|█         | 1/10 [00:34<05:11, 34.62s/it]"
     ]
    },
    {
     "name": "stdout",
     "output_type": "stream",
     "text": [
      "Epoch 1 finished: train loss = 0.8810685276985168, val loss = 0.5375967025756836\n",
      "Epoch: 1 - Validation accuracy: 76.2030121219542 - Validation F1 Score: 0.7152666928681272\n"
     ]
    },
    {
     "name": "stderr",
     "output_type": "stream",
     "text": []
    },
    {
     "name": "stdout",
     "output_type": "stream",
     "text": [
      "Train Epoch: 2 [0/49000 (0%)]\tLoss: 0.645667, lrs: 0.0008667999999999999\n"
     ]
    },
    {
     "name": "stderr",
     "output_type": "stream",
     "text": []
    },
    {
     "name": "stdout",
     "output_type": "stream",
     "text": [
      "Train Epoch: 2 [6400/49000 (13%)]\tLoss: 0.738228, lrs: 0.0009998774613308118\n"
     ]
    },
    {
     "name": "stderr",
     "output_type": "stream",
     "text": []
    },
    {
     "name": "stdout",
     "output_type": "stream",
     "text": [
      "Train Epoch: 2 [12800/49000 (26%)]\tLoss: 0.863108, lrs: 0.0009971250897340038\n"
     ]
    },
    {
     "name": "stderr",
     "output_type": "stream",
     "text": []
    },
    {
     "name": "stdout",
     "output_type": "stream",
     "text": [
      "Train Epoch: 2 [19200/49000 (39%)]\tLoss: 1.136779, lrs: 0.0009907727298199527\n"
     ]
    },
    {
     "name": "stderr",
     "output_type": "stream",
     "text": []
    },
    {
     "name": "stdout",
     "output_type": "stream",
     "text": [
      "Train Epoch: 2 [25600/49000 (52%)]\tLoss: 0.760849, lrs: 0.0009808715270555597\n"
     ]
    },
    {
     "name": "stderr",
     "output_type": "stream",
     "text": []
    },
    {
     "name": "stdout",
     "output_type": "stream",
     "text": [
      "Train Epoch: 2 [32000/49000 (65%)]\tLoss: 0.717184, lrs: 0.0009675012001036706\n"
     ]
    },
    {
     "name": "stderr",
     "output_type": "stream",
     "text": []
    },
    {
     "name": "stdout",
     "output_type": "stream",
     "text": [
      "Train Epoch: 2 [38400/49000 (78%)]\tLoss: 0.885392, lrs: 0.0009507693989752767\n"
     ]
    },
    {
     "name": "stderr",
     "output_type": "stream",
     "text": []
    },
    {
     "name": "stdout",
     "output_type": "stream",
     "text": [
      "Train Epoch: 2 [44800/49000 (91%)]\tLoss: 0.996520, lrs: 0.0009308108382949246\n"
     ]
    },
    {
     "name": "stderr",
     "output_type": "stream",
     "text": [
      "766it [00:29, 26.02it/s]\n"
     ]
    },
    {
     "name": "stdout",
     "output_type": "stream",
     "text": [
      "36631\n",
      "Epoch: 2 - train accuracy: 74.75714285714285, train f1 score: 0.711911083532428\n",
      "16334\n"
     ]
    },
    {
     "name": "stderr",
     "output_type": "stream",
     "text": [
      "256it [00:04, 55.17it/s]\n",
      " 20%|██        | 2/10 [01:08<04:35, 34.41s/it]"
     ]
    },
    {
     "name": "stdout",
     "output_type": "stream",
     "text": [
      "Epoch 2 finished: train loss = 0.6039837002754211, val loss = 0.23675398528575897\n",
      "Epoch: 2 - Validation accuracy: 75.11938288233134 - Validation F1 Score: 0.7059792647668777\n"
     ]
    },
    {
     "name": "stderr",
     "output_type": "stream",
     "text": []
    },
    {
     "name": "stdout",
     "output_type": "stream",
     "text": [
      "Train Epoch: 3 [0/49000 (0%)]\tLoss: 0.734648, lrs: 0.0009159475864275353\n"
     ]
    },
    {
     "name": "stderr",
     "output_type": "stream",
     "text": []
    },
    {
     "name": "stdout",
     "output_type": "stream",
     "text": [
      "Train Epoch: 3 [6400/49000 (13%)]\tLoss: 0.612548, lrs: 0.0008909994363779757\n"
     ]
    },
    {
     "name": "stderr",
     "output_type": "stream",
     "text": []
    },
    {
     "name": "stdout",
     "output_type": "stream",
     "text": [
      "Train Epoch: 3 [12800/49000 (26%)]\tLoss: 0.597738, lrs: 0.0008633057593711226\n"
     ]
    },
    {
     "name": "stderr",
     "output_type": "stream",
     "text": []
    },
    {
     "name": "stdout",
     "output_type": "stream",
     "text": [
      "Train Epoch: 3 [19200/49000 (39%)]\tLoss: 1.041543, lrs: 0.0008330895286106164\n"
     ]
    },
    {
     "name": "stderr",
     "output_type": "stream",
     "text": []
    },
    {
     "name": "stdout",
     "output_type": "stream",
     "text": [
      "Train Epoch: 3 [25600/49000 (52%)]\tLoss: 0.585651, lrs: 0.0008005940274196845\n"
     ]
    },
    {
     "name": "stderr",
     "output_type": "stream",
     "text": []
    },
    {
     "name": "stdout",
     "output_type": "stream",
     "text": [
      "Train Epoch: 3 [32000/49000 (65%)]\tLoss: 0.644335, lrs: 0.0007660808904668716\n"
     ]
    },
    {
     "name": "stderr",
     "output_type": "stream",
     "text": []
    },
    {
     "name": "stdout",
     "output_type": "stream",
     "text": [
      "Train Epoch: 3 [38400/49000 (78%)]\tLoss: 0.546278, lrs: 0.0007298279972375255\n"
     ]
    },
    {
     "name": "stderr",
     "output_type": "stream",
     "text": []
    },
    {
     "name": "stdout",
     "output_type": "stream",
     "text": [
      "Train Epoch: 3 [44800/49000 (91%)]\tLoss: 0.685249, lrs: 0.0006921272347115728\n"
     ]
    },
    {
     "name": "stderr",
     "output_type": "stream",
     "text": [
      "766it [00:29, 25.91it/s]\n"
     ]
    },
    {
     "name": "stdout",
     "output_type": "stream",
     "text": [
      "37019\n",
      "Epoch: 3 - train accuracy: 75.54897959183674, train f1 score: 0.7164134641647462\n",
      "16334\n"
     ]
    },
    {
     "name": "stderr",
     "output_type": "stream",
     "text": [
      "256it [00:04, 59.82it/s]\n",
      " 30%|███       | 3/10 [01:42<03:59, 34.23s/it]"
     ]
    },
    {
     "name": "stdout",
     "output_type": "stream",
     "text": [
      "Epoch 3 finished: train loss = 0.8075426816940308, val loss = 0.9274699091911316\n",
      "Epoch: 3 - Validation accuracy: 75.87241337088282 - Validation F1 Score: 0.7084334036563862\n"
     ]
    },
    {
     "name": "stderr",
     "output_type": "stream",
     "text": []
    },
    {
     "name": "stdout",
     "output_type": "stream",
     "text": [
      "Train Epoch: 4 [0/49000 (0%)]\tLoss: 0.672246, lrs: 0.0006665986170301815\n"
     ]
    },
    {
     "name": "stderr",
     "output_type": "stream",
     "text": []
    },
    {
     "name": "stdout",
     "output_type": "stream",
     "text": [
      "Train Epoch: 4 [6400/49000 (13%)]\tLoss: 0.478188, lrs: 0.0006271691351263798\n"
     ]
    },
    {
     "name": "stderr",
     "output_type": "stream",
     "text": []
    },
    {
     "name": "stdout",
     "output_type": "stream",
     "text": [
      "Train Epoch: 4 [12800/49000 (26%)]\tLoss: 0.460243, lrs: 0.0005871183327212571\n"
     ]
    },
    {
     "name": "stderr",
     "output_type": "stream",
     "text": []
    },
    {
     "name": "stdout",
     "output_type": "stream",
     "text": [
      "Train Epoch: 4 [19200/49000 (39%)]\tLoss: 0.927498, lrs: 0.0005467686753262891\n"
     ]
    },
    {
     "name": "stderr",
     "output_type": "stream",
     "text": []
    },
    {
     "name": "stdout",
     "output_type": "stream",
     "text": [
      "Train Epoch: 4 [25600/49000 (52%)]\tLoss: 0.806615, lrs: 0.0005064450346576057\n"
     ]
    },
    {
     "name": "stderr",
     "output_type": "stream",
     "text": []
    },
    {
     "name": "stdout",
     "output_type": "stream",
     "text": [
      "Train Epoch: 4 [32000/49000 (65%)]\tLoss: 0.875073, lrs: 0.00046647207295995427\n"
     ]
    },
    {
     "name": "stderr",
     "output_type": "stream",
     "text": []
    },
    {
     "name": "stdout",
     "output_type": "stream",
     "text": [
      "Train Epoch: 4 [38400/49000 (78%)]\tLoss: 0.658649, lrs: 0.0004271716290172037\n"
     ]
    },
    {
     "name": "stderr",
     "output_type": "stream",
     "text": []
    },
    {
     "name": "stdout",
     "output_type": "stream",
     "text": [
      "Train Epoch: 4 [44800/49000 (91%)]\tLoss: 0.786572, lrs: 0.0003888601268956939\n"
     ]
    },
    {
     "name": "stderr",
     "output_type": "stream",
     "text": [
      "766it [00:29, 25.92it/s]\n"
     ]
    },
    {
     "name": "stdout",
     "output_type": "stream",
     "text": [
      "37719\n",
      "Epoch: 4 - train accuracy: 76.97755102040816, train f1 score: 0.7305362159280147\n",
      "16334\n"
     ]
    },
    {
     "name": "stderr",
     "output_type": "stream",
     "text": [
      "256it [00:04, 56.63it/s]\n",
      " 40%|████      | 4/10 [02:17<03:25, 34.24s/it]"
     ]
    },
    {
     "name": "stdout",
     "output_type": "stream",
     "text": [
      "Epoch 4 finished: train loss = 0.6998432874679565, val loss = 0.7022753953933716\n",
      "Epoch: 4 - Validation accuracy: 75.95200195910371 - Validation F1 Score: 0.7255429483110918\n"
     ]
    },
    {
     "name": "stderr",
     "output_type": "stream",
     "text": []
    },
    {
     "name": "stdout",
     "output_type": "stream",
     "text": [
      "Train Epoch: 5 [0/49000 (0%)]\tLoss: 0.612485, lrs: 0.0003642665069155872\n"
     ]
    },
    {
     "name": "stderr",
     "output_type": "stream",
     "text": []
    },
    {
     "name": "stdout",
     "output_type": "stream",
     "text": [
      "Train Epoch: 5 [6400/49000 (13%)]\tLoss: 0.900350, lrs: 0.00032827269630326885\n"
     ]
    },
    {
     "name": "stderr",
     "output_type": "stream",
     "text": []
    },
    {
     "name": "stdout",
     "output_type": "stream",
     "text": [
      "Train Epoch: 5 [12800/49000 (26%)]\tLoss: 0.528574, lrs: 0.0002940641035667732\n"
     ]
    },
    {
     "name": "stderr",
     "output_type": "stream",
     "text": []
    },
    {
     "name": "stdout",
     "output_type": "stream",
     "text": [
      "Train Epoch: 5 [19200/49000 (39%)]\tLoss: 0.709310, lrs: 0.00026191615618048776\n"
     ]
    },
    {
     "name": "stderr",
     "output_type": "stream",
     "text": []
    },
    {
     "name": "stdout",
     "output_type": "stream",
     "text": [
      "Train Epoch: 5 [25600/49000 (52%)]\tLoss: 0.664244, lrs: 0.00023208769051408\n"
     ]
    },
    {
     "name": "stderr",
     "output_type": "stream",
     "text": []
    },
    {
     "name": "stdout",
     "output_type": "stream",
     "text": [
      "Train Epoch: 5 [32000/49000 (65%)]\tLoss: 0.606889, lrs: 0.0002048188678342421\n"
     ]
    },
    {
     "name": "stderr",
     "output_type": "stream",
     "text": []
    },
    {
     "name": "stdout",
     "output_type": "stream",
     "text": [
      "Train Epoch: 5 [38400/49000 (78%)]\tLoss: 0.705737, lrs: 0.00018032924066738388\n"
     ]
    },
    {
     "name": "stderr",
     "output_type": "stream",
     "text": []
    },
    {
     "name": "stdout",
     "output_type": "stream",
     "text": [
      "Train Epoch: 5 [44800/49000 (91%)]\tLoss: 0.899137, lrs: 0.00015881598509178546\n"
     ]
    },
    {
     "name": "stderr",
     "output_type": "stream",
     "text": [
      "766it [00:29, 25.95it/s]\n"
     ]
    },
    {
     "name": "stdout",
     "output_type": "stream",
     "text": [
      "38597\n",
      "Epoch: 5 - train accuracy: 78.76938775510204, train f1 score: 0.7498847103938768\n",
      "16334\n"
     ]
    },
    {
     "name": "stderr",
     "output_type": "stream",
     "text": [
      "256it [00:04, 56.11it/s]\n",
      " 50%|█████     | 5/10 [02:51<02:51, 34.25s/it]"
     ]
    },
    {
     "name": "stdout",
     "output_type": "stream",
     "text": [
      "Epoch 5 finished: train loss = 0.7045267820358276, val loss = 0.36528971791267395\n",
      "Epoch: 5 - Validation accuracy: 76.45402228480471 - Validation F1 Score: 0.7303224023147672\n"
     ]
    },
    {
     "name": "stderr",
     "output_type": "stream",
     "text": []
    },
    {
     "name": "stdout",
     "output_type": "stream",
     "text": [
      "Train Epoch: 6 [0/49000 (0%)]\tLoss: 0.325862, lrs: 0.0001463328575258641\n"
     ]
    },
    {
     "name": "stderr",
     "output_type": "stream",
     "text": []
    },
    {
     "name": "stdout",
     "output_type": "stream",
     "text": [
      "Train Epoch: 6 [6400/49000 (13%)]\tLoss: 0.444429, lrs: 0.0001301305308312501\n"
     ]
    },
    {
     "name": "stderr",
     "output_type": "stream",
     "text": []
    },
    {
     "name": "stdout",
     "output_type": "stream",
     "text": [
      "Train Epoch: 6 [12800/49000 (26%)]\tLoss: 0.613955, lrs: 0.00011730874622313302\n"
     ]
    },
    {
     "name": "stderr",
     "output_type": "stream",
     "text": []
    },
    {
     "name": "stdout",
     "output_type": "stream",
     "text": [
      "Train Epoch: 6 [19200/49000 (39%)]\tLoss: 0.525481, lrs: 0.00010797073717209013\n"
     ]
    },
    {
     "name": "stderr",
     "output_type": "stream",
     "text": []
    },
    {
     "name": "stdout",
     "output_type": "stream",
     "text": [
      "Train Epoch: 6 [25600/49000 (52%)]\tLoss: 0.656532, lrs: 0.00010219168783633995\n"
     ]
    },
    {
     "name": "stderr",
     "output_type": "stream",
     "text": []
    },
    {
     "name": "stdout",
     "output_type": "stream",
     "text": [
      "Train Epoch: 6 [32000/49000 (65%)]\tLoss: 0.520309, lrs: 0.00010001812772310801\n"
     ]
    },
    {
     "name": "stderr",
     "output_type": "stream",
     "text": []
    },
    {
     "name": "stdout",
     "output_type": "stream",
     "text": [
      "Train Epoch: 6 [38400/49000 (78%)]\tLoss: 0.538200, lrs: 0.000262\n"
     ]
    },
    {
     "name": "stderr",
     "output_type": "stream",
     "text": []
    },
    {
     "name": "stdout",
     "output_type": "stream",
     "text": [
      "Train Epoch: 6 [44800/49000 (91%)]\tLoss: 0.431732, lrs: 0.00044199999999999996\n"
     ]
    },
    {
     "name": "stderr",
     "output_type": "stream",
     "text": [
      "766it [00:29, 26.06it/s]\n"
     ]
    },
    {
     "name": "stdout",
     "output_type": "stream",
     "text": [
      "38955\n",
      "Epoch: 6 - train accuracy: 79.5, train f1 score: 0.7577744689979777\n",
      "16334\n"
     ]
    },
    {
     "name": "stderr",
     "output_type": "stream",
     "text": [
      "256it [00:04, 57.04it/s]\n",
      " 60%|██████    | 6/10 [03:25<02:16, 34.18s/it]"
     ]
    },
    {
     "name": "stdout",
     "output_type": "stream",
     "text": [
      "Epoch 6 finished: train loss = 0.6039561033248901, val loss = 0.8820049166679382\n",
      "Epoch: 6 - Validation accuracy: 75.73160279172278 - Validation F1 Score: 0.7246380481598784\n"
     ]
    },
    {
     "name": "stderr",
     "output_type": "stream",
     "text": []
    },
    {
     "name": "stdout",
     "output_type": "stream",
     "text": [
      "Train Epoch: 7 [0/49000 (0%)]\tLoss: 0.547930, lrs: 0.0005608\n"
     ]
    },
    {
     "name": "stderr",
     "output_type": "stream",
     "text": []
    },
    {
     "name": "stdout",
     "output_type": "stream",
     "text": [
      "Train Epoch: 7 [6400/49000 (13%)]\tLoss: 0.627166, lrs: 0.0007408000000000001\n"
     ]
    },
    {
     "name": "stderr",
     "output_type": "stream",
     "text": []
    },
    {
     "name": "stdout",
     "output_type": "stream",
     "text": [
      "Train Epoch: 7 [12800/49000 (26%)]\tLoss: 0.548984, lrs: 0.0009208\n"
     ]
    },
    {
     "name": "stderr",
     "output_type": "stream",
     "text": []
    },
    {
     "name": "stdout",
     "output_type": "stream",
     "text": [
      "Train Epoch: 7 [19200/49000 (39%)]\tLoss: 0.753051, lrs: 0.000999431630472708\n"
     ]
    },
    {
     "name": "stderr",
     "output_type": "stream",
     "text": []
    },
    {
     "name": "stdout",
     "output_type": "stream",
     "text": [
      "Train Epoch: 7 [25600/49000 (52%)]\tLoss: 0.488116, lrs: 0.0009955956111781029\n"
     ]
    },
    {
     "name": "stderr",
     "output_type": "stream",
     "text": []
    },
    {
     "name": "stdout",
     "output_type": "stream",
     "text": [
      "Train Epoch: 7 [32000/49000 (65%)]\tLoss: 0.563768, lrs: 0.0009881719180282683\n"
     ]
    },
    {
     "name": "stderr",
     "output_type": "stream",
     "text": []
    },
    {
     "name": "stdout",
     "output_type": "stream",
     "text": [
      "Train Epoch: 7 [38400/49000 (78%)]\tLoss: 0.741764, lrs: 0.0009772203222353857\n"
     ]
    },
    {
     "name": "stderr",
     "output_type": "stream",
     "text": []
    },
    {
     "name": "stdout",
     "output_type": "stream",
     "text": [
      "Train Epoch: 7 [44800/49000 (91%)]\tLoss: 0.679047, lrs: 0.0009628289996093452\n"
     ]
    },
    {
     "name": "stderr",
     "output_type": "stream",
     "text": [
      "766it [00:29, 26.06it/s]\n"
     ]
    },
    {
     "name": "stdout",
     "output_type": "stream",
     "text": [
      "37845\n",
      "Epoch: 7 - train accuracy: 77.23469387755102, train f1 score: 0.736605615854214\n",
      "16334\n"
     ]
    },
    {
     "name": "stderr",
     "output_type": "stream",
     "text": [
      "256it [00:04, 56.74it/s]\n",
      " 70%|███████   | 7/10 [03:59<01:42, 34.15s/it]"
     ]
    },
    {
     "name": "stdout",
     "output_type": "stream",
     "text": [
      "Epoch 7 finished: train loss = 0.620517909526825, val loss = 0.4407999515533447\n",
      "Epoch: 7 - Validation accuracy: 74.84388392310518 - Validation F1 Score: 0.7135665818024339\n"
     ]
    },
    {
     "name": "stderr",
     "output_type": "stream",
     "text": []
    },
    {
     "name": "stdout",
     "output_type": "stream",
     "text": [
      "Train Epoch: 8 [0/49000 (0%)]\tLoss: 0.575584, lrs: 0.0009515016077798137\n"
     ]
    },
    {
     "name": "stderr",
     "output_type": "stream",
     "text": []
    },
    {
     "name": "stdout",
     "output_type": "stream",
     "text": [
      "Train Epoch: 8 [6400/49000 (13%)]\tLoss: 0.746627, lrs: 0.0009316692011202599\n"
     ]
    },
    {
     "name": "stderr",
     "output_type": "stream",
     "text": []
    },
    {
     "name": "stdout",
     "output_type": "stream",
     "text": [
      "Train Epoch: 8 [12800/49000 (26%)]\tLoss: 0.651727, lrs: 0.0009087638184711418\n"
     ]
    },
    {
     "name": "stderr",
     "output_type": "stream",
     "text": []
    },
    {
     "name": "stdout",
     "output_type": "stream",
     "text": [
      "Train Epoch: 8 [19200/49000 (39%)]\tLoss: 0.557157, lrs: 0.0008829698805054031\n"
     ]
    },
    {
     "name": "stderr",
     "output_type": "stream",
     "text": []
    },
    {
     "name": "stdout",
     "output_type": "stream",
     "text": [
      "Train Epoch: 8 [25600/49000 (52%)]\tLoss: 0.667530, lrs: 0.0008544950648449542\n"
     ]
    },
    {
     "name": "stderr",
     "output_type": "stream",
     "text": []
    },
    {
     "name": "stdout",
     "output_type": "stream",
     "text": [
      "Train Epoch: 8 [32000/49000 (65%)]\tLoss: 0.765941, lrs: 0.0008235686339625725\n"
     ]
    },
    {
     "name": "stderr",
     "output_type": "stream",
     "text": []
    },
    {
     "name": "stdout",
     "output_type": "stream",
     "text": [
      "Train Epoch: 8 [38400/49000 (78%)]\tLoss: 0.817356, lrs: 0.000790439589295276\n"
     ]
    },
    {
     "name": "stderr",
     "output_type": "stream",
     "text": []
    },
    {
     "name": "stdout",
     "output_type": "stream",
     "text": [
      "Train Epoch: 8 [44800/49000 (91%)]\tLoss: 0.787820, lrs: 0.0007553746664311629\n"
     ]
    },
    {
     "name": "stderr",
     "output_type": "stream",
     "text": [
      "766it [00:29, 26.11it/s]\n"
     ]
    },
    {
     "name": "stdout",
     "output_type": "stream",
     "text": [
      "37995\n",
      "Epoch: 8 - train accuracy: 77.54081632653062, train f1 score: 0.7359227121987286\n",
      "16334\n"
     ]
    },
    {
     "name": "stderr",
     "output_type": "stream",
     "text": [
      "256it [00:04, 57.44it/s]\n",
      " 80%|████████  | 8/10 [04:33<01:08, 34.09s/it]"
     ]
    },
    {
     "name": "stdout",
     "output_type": "stream",
     "text": [
      "Epoch 8 finished: train loss = 0.7112328410148621, val loss = 0.9245001077651978\n",
      "Epoch: 8 - Validation accuracy: 74.94796130770173 - Validation F1 Score: 0.7170125530968782\n"
     ]
    },
    {
     "name": "stderr",
     "output_type": "stream",
     "text": []
    },
    {
     "name": "stdout",
     "output_type": "stream",
     "text": [
      "Train Epoch: 9 [0/49000 (0%)]\tLoss: 0.457164, lrs: 0.0007313078960711482\n"
     ]
    },
    {
     "name": "stderr",
     "output_type": "stream",
     "text": []
    },
    {
     "name": "stdout",
     "output_type": "stream",
     "text": [
      "Train Epoch: 9 [6400/49000 (13%)]\tLoss: 0.556710, lrs: 0.0006936592899980557\n"
     ]
    },
    {
     "name": "stderr",
     "output_type": "stream",
     "text": []
    },
    {
     "name": "stdout",
     "output_type": "stream",
     "text": [
      "Train Epoch: 9 [12800/49000 (26%)]\tLoss: 0.470164, lrs: 0.0006548540237921938\n"
     ]
    },
    {
     "name": "stderr",
     "output_type": "stream",
     "text": []
    },
    {
     "name": "stdout",
     "output_type": "stream",
     "text": [
      "Train Epoch: 9 [19200/49000 (39%)]\tLoss: 0.577090, lrs: 0.0006152045346399244\n"
     ]
    },
    {
     "name": "stderr",
     "output_type": "stream",
     "text": []
    },
    {
     "name": "stdout",
     "output_type": "stream",
     "text": [
      "Train Epoch: 9 [25600/49000 (52%)]\tLoss: 0.668559, lrs: 0.0005750300569143798\n"
     ]
    },
    {
     "name": "stderr",
     "output_type": "stream",
     "text": []
    },
    {
     "name": "stdout",
     "output_type": "stream",
     "text": [
      "Train Epoch: 9 [32000/49000 (65%)]\tLoss: 0.440980, lrs: 0.000534654051887996\n"
     ]
    },
    {
     "name": "stderr",
     "output_type": "stream",
     "text": []
    },
    {
     "name": "stdout",
     "output_type": "stream",
     "text": [
      "Train Epoch: 9 [38400/49000 (78%)]\tLoss: 0.650172, lrs: 0.0004944016034125384\n"
     ]
    },
    {
     "name": "stderr",
     "output_type": "stream",
     "text": []
    },
    {
     "name": "stdout",
     "output_type": "stream",
     "text": [
      "Train Epoch: 9 [44800/49000 (91%)]\tLoss: 0.745036, lrs: 0.0004545968005350754\n"
     ]
    },
    {
     "name": "stderr",
     "output_type": "stream",
     "text": [
      "766it [00:29, 26.18it/s]\n"
     ]
    },
    {
     "name": "stdout",
     "output_type": "stream",
     "text": [
      "38689\n",
      "Epoch: 9 - train accuracy: 78.95714285714286, train f1 score: 0.749100577929897\n",
      "16334\n"
     ]
    },
    {
     "name": "stderr",
     "output_type": "stream",
     "text": [
      "256it [00:04, 57.07it/s]\n",
      " 80%|████████  | 8/10 [05:07<01:16, 38.43s/it]\n"
     ]
    },
    {
     "name": "stdout",
     "output_type": "stream",
     "text": [
      "Early Stopping!\n",
      "Epoch 9 finished: train loss = 0.6685541868209839, val loss = 0.5616942644119263\n",
      "Epoch: 9 - Validation accuracy: 75.17448267417657 - Validation F1 Score: 0.7064510713948504\n",
      "New Fold Start!!\n",
      "Fold: 3\n"
     ]
    },
    {
     "name": "stderr",
     "output_type": "stream",
     "text": [
      "  0%|          | 0/10 [00:00<?, ?it/s]"
     ]
    },
    {
     "name": "stdout",
     "output_type": "stream",
     "text": [
      "Train Epoch: 1 [0/49001 (0%)]\tLoss: 0.542751, lrs: 0.00042872674259550287\n"
     ]
    },
    {
     "name": "stderr",
     "output_type": "stream",
     "text": []
    },
    {
     "name": "stdout",
     "output_type": "stream",
     "text": [
      "Train Epoch: 1 [6400/49001 (13%)]\tLoss: 0.719468, lrs: 0.00039036969914058007\n"
     ]
    },
    {
     "name": "stderr",
     "output_type": "stream",
     "text": []
    },
    {
     "name": "stdout",
     "output_type": "stream",
     "text": [
      "Train Epoch: 1 [12800/49001 (26%)]\tLoss: 0.633170, lrs: 0.00035329790500708026\n"
     ]
    },
    {
     "name": "stderr",
     "output_type": "stream",
     "text": []
    },
    {
     "name": "stdout",
     "output_type": "stream",
     "text": [
      "Train Epoch: 1 [19200/49001 (39%)]\tLoss: 0.546133, lrs: 0.00031780984048350463\n"
     ]
    },
    {
     "name": "stderr",
     "output_type": "stream",
     "text": []
    },
    {
     "name": "stdout",
     "output_type": "stream",
     "text": [
      "Train Epoch: 1 [25600/49001 (52%)]\tLoss: 0.666945, lrs: 0.00028419123459875274\n"
     ]
    },
    {
     "name": "stderr",
     "output_type": "stream",
     "text": []
    },
    {
     "name": "stdout",
     "output_type": "stream",
     "text": [
      "Train Epoch: 1 [32000/49001 (65%)]\tLoss: 0.487289, lrs: 0.000252712764599989\n"
     ]
    },
    {
     "name": "stderr",
     "output_type": "stream",
     "text": []
    },
    {
     "name": "stdout",
     "output_type": "stream",
     "text": [
      "Train Epoch: 1 [38400/49001 (78%)]\tLoss: 0.361475, lrs: 0.00022362787661860226\n"
     ]
    },
    {
     "name": "stderr",
     "output_type": "stream",
     "text": []
    },
    {
     "name": "stdout",
     "output_type": "stream",
     "text": [
      "Train Epoch: 1 [44800/49001 (91%)]\tLoss: 0.559702, lrs: 0.00019717074507098162\n"
     ]
    },
    {
     "name": "stderr",
     "output_type": "stream",
     "text": [
      "766it [00:29, 26.04it/s]\n"
     ]
    },
    {
     "name": "stdout",
     "output_type": "stream",
     "text": [
      "37911\n",
      "Epoch: 1 - train accuracy: 77.36780882022816, train f1 score: 0.7397248963127497\n",
      "16333\n"
     ]
    },
    {
     "name": "stderr",
     "output_type": "stream",
     "text": [
      "256it [00:04, 59.84it/s]\n",
      " 10%|█         | 1/10 [00:33<05:04, 33.87s/it]"
     ]
    },
    {
     "name": "stdout",
     "output_type": "stream",
     "text": [
      "Epoch 1 finished: train loss = 0.6455918550491333, val loss = 0.39205843210220337\n",
      "Epoch: 1 - Validation accuracy: 81.03838853854161 - Validation F1 Score: 0.7875685250038039\n"
     ]
    },
    {
     "name": "stderr",
     "output_type": "stream",
     "text": []
    },
    {
     "name": "stdout",
     "output_type": "stream",
     "text": [
      "Train Epoch: 2 [0/49001 (0%)]\tLoss: 0.619831, lrs: 0.00018125291565562065\n"
     ]
    },
    {
     "name": "stderr",
     "output_type": "stream",
     "text": []
    },
    {
     "name": "stdout",
     "output_type": "stream",
     "text": [
      "Train Epoch: 2 [6400/49001 (13%)]\tLoss: 0.756144, lrs: 0.0001596171152270271\n"
     ]
    },
    {
     "name": "stderr",
     "output_type": "stream",
     "text": []
    },
    {
     "name": "stdout",
     "output_type": "stream",
     "text": [
      "Train Epoch: 2 [12800/49001 (26%)]\tLoss: 0.564662, lrs: 0.0001411244482452066\n"
     ]
    },
    {
     "name": "stderr",
     "output_type": "stream",
     "text": []
    },
    {
     "name": "stdout",
     "output_type": "stream",
     "text": [
      "Train Epoch: 2 [19200/49001 (39%)]\tLoss: 0.738473, lrs: 0.00012592380679118443\n"
     ]
    },
    {
     "name": "stderr",
     "output_type": "stream",
     "text": []
    },
    {
     "name": "stdout",
     "output_type": "stream",
     "text": [
      "Train Epoch: 2 [25600/49001 (52%)]\tLoss: 0.759725, lrs: 0.00011413757749211603\n"
     ]
    },
    {
     "name": "stderr",
     "output_type": "stream",
     "text": []
    },
    {
     "name": "stdout",
     "output_type": "stream",
     "text": [
      "Train Epoch: 2 [32000/49001 (65%)]\tLoss: 0.722641, lrs: 0.00010586065613612695\n"
     ]
    },
    {
     "name": "stderr",
     "output_type": "stream",
     "text": []
    },
    {
     "name": "stdout",
     "output_type": "stream",
     "text": [
      "Train Epoch: 2 [38400/49001 (78%)]\tLoss: 0.695845, lrs: 0.00010115968362722468\n"
     ]
    },
    {
     "name": "stderr",
     "output_type": "stream",
     "text": []
    },
    {
     "name": "stdout",
     "output_type": "stream",
     "text": [
      "Train Epoch: 2 [44800/49001 (91%)]\tLoss: 0.563124, lrs: 0.000136\n"
     ]
    },
    {
     "name": "stderr",
     "output_type": "stream",
     "text": [
      "766it [00:29, 26.03it/s]\n"
     ]
    },
    {
     "name": "stdout",
     "output_type": "stream",
     "text": [
      "38592\n",
      "Epoch: 2 - train accuracy: 78.75757637599233, train f1 score: 0.7648890322400067\n",
      "16333\n"
     ]
    },
    {
     "name": "stderr",
     "output_type": "stream",
     "text": [
      "256it [00:04, 56.22it/s]\n",
      " 20%|██        | 2/10 [01:08<04:32, 34.03s/it]"
     ]
    },
    {
     "name": "stdout",
     "output_type": "stream",
     "text": [
      "Epoch 2 finished: train loss = 0.8116919994354248, val loss = 0.43452924489974976\n",
      "Epoch: 2 - Validation accuracy: 80.82409845098879 - Validation F1 Score: 0.7843584497559701\n"
     ]
    },
    {
     "name": "stderr",
     "output_type": "stream",
     "text": []
    },
    {
     "name": "stdout",
     "output_type": "stream",
     "text": [
      "Train Epoch: 3 [0/49001 (0%)]\tLoss: 0.624521, lrs: 0.0002548\n"
     ]
    },
    {
     "name": "stderr",
     "output_type": "stream",
     "text": []
    },
    {
     "name": "stdout",
     "output_type": "stream",
     "text": [
      "Train Epoch: 3 [6400/49001 (13%)]\tLoss: 0.628859, lrs: 0.0004348\n"
     ]
    },
    {
     "name": "stderr",
     "output_type": "stream",
     "text": []
    },
    {
     "name": "stdout",
     "output_type": "stream",
     "text": [
      "Train Epoch: 3 [12800/49001 (26%)]\tLoss: 0.575999, lrs: 0.0006148000000000001\n"
     ]
    },
    {
     "name": "stderr",
     "output_type": "stream",
     "text": []
    },
    {
     "name": "stdout",
     "output_type": "stream",
     "text": [
      "Train Epoch: 3 [19200/49001 (39%)]\tLoss: 0.563568, lrs: 0.0007948\n"
     ]
    },
    {
     "name": "stderr",
     "output_type": "stream",
     "text": []
    },
    {
     "name": "stdout",
     "output_type": "stream",
     "text": [
      "Train Epoch: 3 [25600/49001 (52%)]\tLoss: 0.727335, lrs: 0.0009748000000000001\n"
     ]
    },
    {
     "name": "stderr",
     "output_type": "stream",
     "text": []
    },
    {
     "name": "stdout",
     "output_type": "stream",
     "text": [
      "Train Epoch: 3 [32000/49001 (65%)]\tLoss: 0.725600, lrs: 0.0009986599302322036\n"
     ]
    },
    {
     "name": "stderr",
     "output_type": "stream",
     "text": []
    },
    {
     "name": "stdout",
     "output_type": "stream",
     "text": [
      "Train Epoch: 3 [38400/49001 (78%)]\tLoss: 0.904653, lrs: 0.000993743044622227\n"
     ]
    },
    {
     "name": "stderr",
     "output_type": "stream",
     "text": []
    },
    {
     "name": "stdout",
     "output_type": "stream",
     "text": [
      "Train Epoch: 3 [44800/49001 (91%)]\tLoss: 0.928143, lrs: 0.0009852534009336374\n"
     ]
    },
    {
     "name": "stderr",
     "output_type": "stream",
     "text": [
      "766it [00:29, 26.10it/s]\n"
     ]
    },
    {
     "name": "stdout",
     "output_type": "stream",
     "text": [
      "37745\n",
      "Epoch: 3 - train accuracy: 77.02904022366891, train f1 score: 0.7490130173782611\n",
      "16333\n"
     ]
    },
    {
     "name": "stderr",
     "output_type": "stream",
     "text": [
      "256it [00:04, 56.48it/s]\n",
      " 30%|███       | 3/10 [01:42<03:58, 34.04s/it]"
     ]
    },
    {
     "name": "stdout",
     "output_type": "stream",
     "text": [
      "Epoch 3 finished: train loss = 0.8279162049293518, val loss = 0.5477648377418518\n",
      "Epoch: 3 - Validation accuracy: 77.45668278944468 - Validation F1 Score: 0.7372264708013276\n"
     ]
    },
    {
     "name": "stderr",
     "output_type": "stream",
     "text": []
    },
    {
     "name": "stdout",
     "output_type": "stream",
     "text": [
      "Train Epoch: 4 [0/49001 (0%)]\tLoss: 0.584321, lrs: 0.0009777251071379123\n"
     ]
    },
    {
     "name": "stderr",
     "output_type": "stream",
     "text": []
    },
    {
     "name": "stdout",
     "output_type": "stream",
     "text": [
      "Train Epoch: 4 [6400/49001 (13%)]\tLoss: 0.963135, lrs: 0.0009634693304574807\n"
     ]
    },
    {
     "name": "stderr",
     "output_type": "stream",
     "text": []
    },
    {
     "name": "stdout",
     "output_type": "stream",
     "text": [
      "Train Epoch: 4 [12800/49001 (26%)]\tLoss: 0.659939, lrs: 0.0009458845418442347\n"
     ]
    },
    {
     "name": "stderr",
     "output_type": "stream",
     "text": []
    },
    {
     "name": "stdout",
     "output_type": "stream",
     "text": [
      "Train Epoch: 4 [19200/49001 (39%)]\tLoss: 0.817813, lrs: 0.0009251123236764\n"
     ]
    },
    {
     "name": "stderr",
     "output_type": "stream",
     "text": []
    },
    {
     "name": "stdout",
     "output_type": "stream",
     "text": [
      "Train Epoch: 4 [25600/49001 (52%)]\tLoss: 0.930936, lrs: 0.0009013199216407975\n"
     ]
    },
    {
     "name": "stderr",
     "output_type": "stream",
     "text": []
    },
    {
     "name": "stdout",
     "output_type": "stream",
     "text": [
      "Train Epoch: 4 [32000/49001 (65%)]\tLoss: 0.785530, lrs: 0.0008746988981689118\n"
     ]
    },
    {
     "name": "stderr",
     "output_type": "stream",
     "text": []
    },
    {
     "name": "stdout",
     "output_type": "stream",
     "text": [
      "Train Epoch: 4 [38400/49001 (78%)]\tLoss: 0.679858, lrs: 0.0008454635900888304\n"
     ]
    },
    {
     "name": "stderr",
     "output_type": "stream",
     "text": []
    },
    {
     "name": "stdout",
     "output_type": "stream",
     "text": [
      "Train Epoch: 4 [44800/49001 (91%)]\tLoss: 0.762354, lrs: 0.0008138493829111314\n"
     ]
    },
    {
     "name": "stderr",
     "output_type": "stream",
     "text": [
      "766it [00:29, 25.93it/s]\n"
     ]
    },
    {
     "name": "stdout",
     "output_type": "stream",
     "text": [
      "37539\n",
      "Epoch: 4 - train accuracy: 76.60864063998693, train f1 score: 0.7327929887331344\n",
      "16333\n"
     ]
    },
    {
     "name": "stderr",
     "output_type": "stream",
     "text": [
      "256it [00:04, 55.75it/s]\n",
      " 40%|████      | 4/10 [02:16<03:24, 34.14s/it]"
     ]
    },
    {
     "name": "stdout",
     "output_type": "stream",
     "text": [
      "Epoch 4 finished: train loss = 0.6531679630279541, val loss = 0.7380910515785217\n",
      "Epoch: 4 - Validation accuracy: 77.44443764158451 - Validation F1 Score: 0.7411460940317776\n"
     ]
    },
    {
     "name": "stderr",
     "output_type": "stream",
     "text": []
    },
    {
     "name": "stdout",
     "output_type": "stream",
     "text": [
      "Train Epoch: 5 [0/49001 (0%)]\tLoss: 0.477996, lrs: 0.0007918037491152307\n"
     ]
    },
    {
     "name": "stderr",
     "output_type": "stream",
     "text": []
    },
    {
     "name": "stdout",
     "output_type": "stream",
     "text": [
      "Train Epoch: 5 [6400/49001 (13%)]\tLoss: 0.752469, lrs: 0.0007568109372796697\n"
     ]
    },
    {
     "name": "stderr",
     "output_type": "stream",
     "text": []
    },
    {
     "name": "stdout",
     "output_type": "stream",
     "text": [
      "Train Epoch: 5 [12800/49001 (26%)]\tLoss: 0.754589, lrs: 0.0007201530053799945\n"
     ]
    },
    {
     "name": "stderr",
     "output_type": "stream",
     "text": []
    },
    {
     "name": "stdout",
     "output_type": "stream",
     "text": [
      "Train Epoch: 5 [19200/49001 (39%)]\tLoss: 0.713605, lrs: 0.0006821251015293467\n"
     ]
    },
    {
     "name": "stderr",
     "output_type": "stream",
     "text": []
    },
    {
     "name": "stdout",
     "output_type": "stream",
     "text": [
      "Train Epoch: 5 [25600/49001 (52%)]\tLoss: 0.799782, lrs: 0.000643033404049486\n"
     ]
    },
    {
     "name": "stderr",
     "output_type": "stream",
     "text": []
    },
    {
     "name": "stdout",
     "output_type": "stream",
     "text": [
      "Train Epoch: 5 [32000/49001 (65%)]\tLoss: 0.848527, lrs: 0.0006031926563029749\n"
     ]
    },
    {
     "name": "stderr",
     "output_type": "stream",
     "text": []
    },
    {
     "name": "stdout",
     "output_type": "stream",
     "text": [
      "Train Epoch: 5 [38400/49001 (78%)]\tLoss: 0.603415, lrs: 0.0005629236325646875\n"
     ]
    },
    {
     "name": "stderr",
     "output_type": "stream",
     "text": []
    },
    {
     "name": "stdout",
     "output_type": "stream",
     "text": [
      "Train Epoch: 5 [44800/49001 (91%)]\tLoss: 0.580413, lrs: 0.000522550555335962\n"
     ]
    },
    {
     "name": "stderr",
     "output_type": "stream",
     "text": [
      "766it [00:29, 26.10it/s]\n"
     ]
    },
    {
     "name": "stdout",
     "output_type": "stream",
     "text": [
      "38235\n",
      "Epoch: 5 - train accuracy: 78.02901981592213, train f1 score: 0.7470362906927052\n",
      "16333\n"
     ]
    },
    {
     "name": "stderr",
     "output_type": "stream",
     "text": [
      "256it [00:04, 56.46it/s]\n",
      " 40%|████      | 4/10 [02:50<04:15, 42.60s/it]\n"
     ]
    },
    {
     "name": "stdout",
     "output_type": "stream",
     "text": [
      "Early Stopping!\n",
      "Epoch 5 finished: train loss = 0.40679916739463806, val loss = 0.6396503448486328\n",
      "Epoch: 5 - Validation accuracy: 77.58525684197637 - Validation F1 Score: 0.7362502246783992\n",
      "New Fold Start!!\n",
      "Fold: 4\n"
     ]
    },
    {
     "name": "stderr",
     "output_type": "stream",
     "text": [
      "  0%|          | 0/10 [00:00<?, ?it/s]"
     ]
    },
    {
     "name": "stdout",
     "output_type": "stream",
     "text": [
      "Train Epoch: 1 [0/49001 (0%)]\tLoss: 0.600862, lrs: 0.0004960052553970857\n"
     ]
    },
    {
     "name": "stderr",
     "output_type": "stream",
     "text": []
    },
    {
     "name": "stdout",
     "output_type": "stream",
     "text": [
      "Train Epoch: 1 [6400/49001 (13%)]\tLoss: 0.612667, lrs: 0.00045617636092880424\n"
     ]
    },
    {
     "name": "stderr",
     "output_type": "stream",
     "text": []
    },
    {
     "name": "stdout",
     "output_type": "stream",
     "text": [
      "Train Epoch: 1 [12800/49001 (26%)]\tLoss: 0.506302, lrs: 0.00041710287923491744\n"
     ]
    },
    {
     "name": "stderr",
     "output_type": "stream",
     "text": []
    },
    {
     "name": "stdout",
     "output_type": "stream",
     "text": [
      "Train Epoch: 1 [19200/49001 (39%)]\tLoss: 0.432259, lrs: 0.00037909940701518944\n"
     ]
    },
    {
     "name": "stderr",
     "output_type": "stream",
     "text": []
    },
    {
     "name": "stdout",
     "output_type": "stream",
     "text": [
      "Train Epoch: 1 [25600/49001 (52%)]\tLoss: 0.557313, lrs: 0.00034247192588225407\n"
     ]
    },
    {
     "name": "stderr",
     "output_type": "stream",
     "text": []
    },
    {
     "name": "stdout",
     "output_type": "stream",
     "text": [
      "Train Epoch: 1 [32000/49001 (65%)]\tLoss: 0.609944, lrs: 0.0003075153387775829\n"
     ]
    },
    {
     "name": "stderr",
     "output_type": "stream",
     "text": []
    },
    {
     "name": "stdout",
     "output_type": "stream",
     "text": [
      "Train Epoch: 1 [38400/49001 (78%)]\tLoss: 0.746652, lrs: 0.0002745110955864029\n"
     ]
    },
    {
     "name": "stderr",
     "output_type": "stream",
     "text": []
    },
    {
     "name": "stdout",
     "output_type": "stream",
     "text": [
      "Train Epoch: 1 [44800/49001 (91%)]\tLoss: 0.643393, lrs: 0.00024372492706870876\n"
     ]
    },
    {
     "name": "stderr",
     "output_type": "stream",
     "text": [
      "766it [00:29, 25.90it/s]\n"
     ]
    },
    {
     "name": "stdout",
     "output_type": "stream",
     "text": [
      "37963\n",
      "Epoch: 1 - train accuracy: 77.47392910348768, train f1 score: 0.7409381063700754\n",
      "16333\n"
     ]
    },
    {
     "name": "stderr",
     "output_type": "stream",
     "text": [
      "256it [00:04, 55.10it/s]\n",
      " 10%|█         | 1/10 [00:34<05:09, 34.39s/it]"
     ]
    },
    {
     "name": "stdout",
     "output_type": "stream",
     "text": [
      "Epoch 1 finished: train loss = 0.6332008838653564, val loss = 0.6851562857627869\n",
      "Epoch: 1 - Validation accuracy: 81.6873813751301 - Validation F1 Score: 0.791077657404878\n"
     ]
    },
    {
     "name": "stderr",
     "output_type": "stream",
     "text": []
    },
    {
     "name": "stdout",
     "output_type": "stream",
     "text": [
      "Train Epoch: 2 [0/49001 (0%)]\tLoss: 0.900738, lrs: 0.00022474231127767383\n"
     ]
    },
    {
     "name": "stderr",
     "output_type": "stream",
     "text": []
    },
    {
     "name": "stdout",
     "output_type": "stream",
     "text": [
      "Train Epoch: 2 [6400/49001 (13%)]\tLoss: 0.701893, lrs: 0.00019817583288938672\n"
     ]
    },
    {
     "name": "stderr",
     "output_type": "stream",
     "text": []
    },
    {
     "name": "stdout",
     "output_type": "stream",
     "text": [
      "Train Epoch: 2 [12800/49001 (26%)]\tLoss: 0.563575, lrs: 0.0001744420358254138\n"
     ]
    },
    {
     "name": "stderr",
     "output_type": "stream",
     "text": []
    },
    {
     "name": "stdout",
     "output_type": "stream",
     "text": [
      "Train Epoch: 2 [19200/49001 (39%)]\tLoss: 0.708738, lrs: 0.0001537320106644679\n"
     ]
    },
    {
     "name": "stderr",
     "output_type": "stream",
     "text": []
    },
    {
     "name": "stdout",
     "output_type": "stream",
     "text": [
      "Train Epoch: 2 [25600/49001 (52%)]\tLoss: 0.645770, lrs: 0.00013621250235184724\n"
     ]
    },
    {
     "name": "stderr",
     "output_type": "stream",
     "text": []
    },
    {
     "name": "stdout",
     "output_type": "stream",
     "text": [
      "Train Epoch: 2 [32000/49001 (65%)]\tLoss: 0.577918, lrs: 0.00012202456766718092\n"
     ]
    },
    {
     "name": "stderr",
     "output_type": "stream",
     "text": []
    },
    {
     "name": "stdout",
     "output_type": "stream",
     "text": [
      "Train Epoch: 2 [38400/49001 (78%)]\tLoss: 0.468666, lrs: 0.00011128243951817938\n"
     ]
    },
    {
     "name": "stderr",
     "output_type": "stream",
     "text": []
    },
    {
     "name": "stdout",
     "output_type": "stream",
     "text": [
      "Train Epoch: 2 [44800/49001 (91%)]\tLoss: 0.413521, lrs: 0.00010407260720442934\n"
     ]
    },
    {
     "name": "stderr",
     "output_type": "stream",
     "text": [
      "766it [00:29, 26.16it/s]\n"
     ]
    },
    {
     "name": "stdout",
     "output_type": "stream",
     "text": [
      "38603\n",
      "Epoch: 2 - train accuracy: 78.78002489745107, train f1 score: 0.7659524363428692\n",
      "16333\n"
     ]
    },
    {
     "name": "stderr",
     "output_type": "stream",
     "text": [
      "256it [00:04, 57.18it/s]\n",
      " 20%|██        | 2/10 [01:08<04:32, 34.12s/it]"
     ]
    },
    {
     "name": "stdout",
     "output_type": "stream",
     "text": [
      "Epoch 2 finished: train loss = 0.4798281192779541, val loss = 0.7334544062614441\n",
      "Epoch: 2 - Validation accuracy: 81.33227208718546 - Validation F1 Score: 0.7893363231948084\n"
     ]
    },
    {
     "name": "stderr",
     "output_type": "stream",
     "text": []
    },
    {
     "name": "stdout",
     "output_type": "stream",
     "text": [
      "Train Epoch: 3 [0/49001 (0%)]\tLoss: 0.627221, lrs: 0.00010127849488272374\n"
     ]
    },
    {
     "name": "stderr",
     "output_type": "stream",
     "text": []
    },
    {
     "name": "stdout",
     "output_type": "stream",
     "text": [
      "Train Epoch: 3 [6400/49001 (13%)]\tLoss: 0.306992, lrs: 0.00012880000000000001\n"
     ]
    },
    {
     "name": "stderr",
     "output_type": "stream",
     "text": []
    },
    {
     "name": "stdout",
     "output_type": "stream",
     "text": [
      "Train Epoch: 3 [12800/49001 (26%)]\tLoss: 0.563280, lrs: 0.00030879999999999997\n"
     ]
    },
    {
     "name": "stderr",
     "output_type": "stream",
     "text": []
    },
    {
     "name": "stdout",
     "output_type": "stream",
     "text": [
      "Train Epoch: 3 [19200/49001 (39%)]\tLoss: 0.769381, lrs: 0.0004888\n"
     ]
    },
    {
     "name": "stderr",
     "output_type": "stream",
     "text": []
    },
    {
     "name": "stdout",
     "output_type": "stream",
     "text": [
      "Train Epoch: 3 [25600/49001 (52%)]\tLoss: 0.614078, lrs: 0.0006688\n"
     ]
    },
    {
     "name": "stderr",
     "output_type": "stream",
     "text": []
    },
    {
     "name": "stdout",
     "output_type": "stream",
     "text": [
      "Train Epoch: 3 [32000/49001 (65%)]\tLoss: 0.696458, lrs: 0.0008488\n"
     ]
    },
    {
     "name": "stderr",
     "output_type": "stream",
     "text": []
    },
    {
     "name": "stdout",
     "output_type": "stream",
     "text": [
      "Train Epoch: 3 [38400/49001 (78%)]\tLoss: 0.653659, lrs: 0.0009999535935149024\n"
     ]
    },
    {
     "name": "stderr",
     "output_type": "stream",
     "text": []
    },
    {
     "name": "stdout",
     "output_type": "stream",
     "text": [
      "Train Epoch: 3 [44800/49001 (91%)]\tLoss: 0.656852, lrs: 0.0009975629201459753\n"
     ]
    },
    {
     "name": "stderr",
     "output_type": "stream",
     "text": [
      "766it [00:29, 26.08it/s]\n"
     ]
    },
    {
     "name": "stdout",
     "output_type": "stream",
     "text": [
      "38236\n",
      "Epoch: 3 - train accuracy: 78.03106059060019, train f1 score: 0.7577253866770811\n",
      "16333\n"
     ]
    },
    {
     "name": "stderr",
     "output_type": "stream",
     "text": [
      "256it [00:04, 58.28it/s]\n",
      " 30%|███       | 3/10 [01:42<03:58, 34.03s/it]"
     ]
    },
    {
     "name": "stdout",
     "output_type": "stream",
     "text": [
      "Epoch 3 finished: train loss = 0.5646651387214661, val loss = 0.6565231680870056\n",
      "Epoch: 3 - Validation accuracy: 78.38731402681688 - Validation F1 Score: 0.7460865395951167\n"
     ]
    },
    {
     "name": "stderr",
     "output_type": "stream",
     "text": []
    },
    {
     "name": "stdout",
     "output_type": "stream",
     "text": [
      "Train Epoch: 4 [0/49001 (0%)]\tLoss: 0.883083, lrs: 0.0009940086748935406\n"
     ]
    },
    {
     "name": "stderr",
     "output_type": "stream",
     "text": []
    },
    {
     "name": "stdout",
     "output_type": "stream",
     "text": [
      "Train Epoch: 4 [6400/49001 (13%)]\tLoss: 0.635273, lrs: 0.0009856608191143184\n"
     ]
    },
    {
     "name": "stderr",
     "output_type": "stream",
     "text": []
    },
    {
     "name": "stdout",
     "output_type": "stream",
     "text": [
      "Train Epoch: 4 [12800/49001 (26%)]\tLoss: 0.573050, lrs: 0.000973805278584001\n"
     ]
    },
    {
     "name": "stderr",
     "output_type": "stream",
     "text": []
    },
    {
     "name": "stdout",
     "output_type": "stream",
     "text": [
      "Train Epoch: 4 [19200/49001 (39%)]\tLoss: 0.683010, lrs: 0.0009585375071439937\n"
     ]
    },
    {
     "name": "stderr",
     "output_type": "stream",
     "text": []
    },
    {
     "name": "stdout",
     "output_type": "stream",
     "text": [
      "Train Epoch: 4 [25600/49001 (52%)]\tLoss: 0.778593, lrs: 0.000939980431912627\n"
     ]
    },
    {
     "name": "stderr",
     "output_type": "stream",
     "text": []
    },
    {
     "name": "stdout",
     "output_type": "stream",
     "text": [
      "Train Epoch: 4 [32000/49001 (65%)]\tLoss: 0.811870, lrs: 0.0009182834635482804\n"
     ]
    },
    {
     "name": "stderr",
     "output_type": "stream",
     "text": []
    },
    {
     "name": "stdout",
     "output_type": "stream",
     "text": [
      "Train Epoch: 4 [38400/49001 (78%)]\tLoss: 0.551293, lrs: 0.0008936212932826128\n"
     ]
    },
    {
     "name": "stderr",
     "output_type": "stream",
     "text": []
    },
    {
     "name": "stdout",
     "output_type": "stream",
     "text": [
      "Train Epoch: 4 [44800/49001 (91%)]\tLoss: 0.718561, lrs: 0.0008661924864094822\n"
     ]
    },
    {
     "name": "stderr",
     "output_type": "stream",
     "text": [
      "766it [00:29, 26.18it/s]\n"
     ]
    },
    {
     "name": "stdout",
     "output_type": "stream",
     "text": [
      "37593\n",
      "Epoch: 4 - train accuracy: 76.7188424726026, train f1 score: 0.7360630377505137\n",
      "16333\n"
     ]
    },
    {
     "name": "stderr",
     "output_type": "stream",
     "text": [
      "256it [00:04, 57.05it/s]\n",
      " 40%|████      | 4/10 [02:16<03:23, 33.98s/it]"
     ]
    },
    {
     "name": "stdout",
     "output_type": "stream",
     "text": [
      "Epoch 4 finished: train loss = 0.9586219787597656, val loss = 0.803368330001831\n",
      "Epoch: 4 - Validation accuracy: 77.21790240617156 - Validation F1 Score: 0.7427016379691115\n"
     ]
    },
    {
     "name": "stderr",
     "output_type": "stream",
     "text": []
    },
    {
     "name": "stdout",
     "output_type": "stream",
     "text": [
      "Train Epoch: 5 [0/49001 (0%)]\tLoss: 0.848998, lrs: 0.0008466803090962774\n"
     ]
    },
    {
     "name": "stderr",
     "output_type": "stream",
     "text": []
    },
    {
     "name": "stdout",
     "output_type": "stream",
     "text": [
      "Train Epoch: 5 [6400/49001 (13%)]\tLoss: 0.758938, lrs: 0.0008151564917299362\n"
     ]
    },
    {
     "name": "stderr",
     "output_type": "stream",
     "text": []
    },
    {
     "name": "stdout",
     "output_type": "stream",
     "text": [
      "Train Epoch: 5 [12800/49001 (26%)]\tLoss: 0.644044, lrs: 0.0007814977902016779\n"
     ]
    },
    {
     "name": "stderr",
     "output_type": "stream",
     "text": []
    },
    {
     "name": "stdout",
     "output_type": "stream",
     "text": [
      "Train Epoch: 5 [19200/49001 (39%)]\tLoss: 0.597002, lrs: 0.0007459752045852122\n"
     ]
    },
    {
     "name": "stderr",
     "output_type": "stream",
     "text": []
    },
    {
     "name": "stdout",
     "output_type": "stream",
     "text": [
      "Train Epoch: 5 [25600/49001 (52%)]\tLoss: 0.469134, lrs: 0.0007088747418529804\n"
     ]
    },
    {
     "name": "stderr",
     "output_type": "stream",
     "text": []
    },
    {
     "name": "stdout",
     "output_type": "stream",
     "text": [
      "Train Epoch: 5 [32000/49001 (65%)]\tLoss: 0.740557, lrs: 0.0006704951131161839\n"
     ]
    },
    {
     "name": "stderr",
     "output_type": "stream",
     "text": []
    },
    {
     "name": "stdout",
     "output_type": "stream",
     "text": [
      "Train Epoch: 5 [38400/49001 (78%)]\tLoss: 0.583850, lrs: 0.000631145328578555\n"
     ]
    },
    {
     "name": "stderr",
     "output_type": "stream",
     "text": []
    },
    {
     "name": "stdout",
     "output_type": "stream",
     "text": [
      "Train Epoch: 5 [44800/49001 (91%)]\tLoss: 0.730655, lrs: 0.0005911422095678922\n"
     ]
    },
    {
     "name": "stderr",
     "output_type": "stream",
     "text": [
      "766it [00:29, 26.29it/s]\n"
     ]
    },
    {
     "name": "stdout",
     "output_type": "stream",
     "text": [
      "38132\n",
      "Epoch: 5 - train accuracy: 77.81882002408113, train f1 score: 0.7452656562201568\n",
      "16333\n"
     ]
    },
    {
     "name": "stderr",
     "output_type": "stream",
     "text": [
      "256it [00:04, 56.74it/s]\n",
      " 40%|████      | 4/10 [02:49<04:14, 42.49s/it]"
     ]
    },
    {
     "name": "stdout",
     "output_type": "stream",
     "text": [
      "Early Stopping!\n",
      "Epoch 5 finished: train loss = 0.4442235827445984, val loss = 0.5677328109741211\n",
      "Epoch: 5 - Validation accuracy: 78.19751423498438 - Validation F1 Score: 0.7525937940746786\n"
     ]
    },
    {
     "name": "stderr",
     "output_type": "stream",
     "text": [
      "\n"
     ]
    }
   ],
   "source": [
    "gc.collect()\n",
    "train(dataset=train_set, k_fold_split=4, batch_size=batch_size, criterion=criterion,\n",
    "      optimizer=optimizer, scheduler=scheduler, num_of_epoch=num_of_epoch, valid_random_seed=42)\n"
   ]
  },
  {
   "cell_type": "code",
   "execution_count": 104,
   "metadata": {},
   "outputs": [
    {
     "data": {
      "text/plain": [
       "<All keys matched successfully>"
      ]
     },
     "execution_count": 104,
     "metadata": {},
     "output_type": "execute_result"
    }
   ],
   "source": [
    "model.load_state_dict(torch.load('model/model_cnn.pt'))\n"
   ]
  },
  {
   "cell_type": "code",
   "execution_count": 105,
   "metadata": {},
   "outputs": [],
   "source": [
    "def test(dataset, batch_size):\n",
    "\n",
    "    test_loader = DataLoader(dataset, batch_size=batch_size,\n",
    "                             shuffle=False)\n",
    "    pred_list = []\n",
    "    model.eval()\n",
    "    with torch.no_grad():\n",
    "        for data in tqdm(test_loader):\n",
    "            encoding = data[0]\n",
    "            vector_1 = data[1]\n",
    "            encoding, vector_1 = encoding.to(\n",
    "                device), vector_1.to(device)\n",
    "            output = model(encoding, vector_1)\n",
    "            _, pred = torch.max(output.data, 1)\n",
    "            pred_list.extend(list(map(int, pred.cpu())))\n",
    "    return pred_list\n"
   ]
  },
  {
   "cell_type": "code",
   "execution_count": 106,
   "metadata": {},
   "outputs": [
    {
     "name": "stderr",
     "output_type": "stream",
     "text": [
      "100%|██████████| 211/211 [00:03<00:00, 57.59it/s]\n"
     ]
    }
   ],
   "source": [
    "df_path = os.path.join(\"dataset\", \"submission.csv\")\n",
    "result = test(test_set, 64)\n"
   ]
  },
  {
   "cell_type": "code",
   "execution_count": 50,
   "metadata": {},
   "outputs": [
    {
     "data": {
      "text/plain": [
       "13491"
      ]
     },
     "execution_count": 50,
     "metadata": {},
     "output_type": "execute_result"
    }
   ],
   "source": [
    "len(result)\n"
   ]
  },
  {
   "cell_type": "code",
   "execution_count": 107,
   "metadata": {},
   "outputs": [
    {
     "data": {
      "text/html": [
       "<div>\n",
       "<style scoped>\n",
       "    .dataframe tbody tr th:only-of-type {\n",
       "        vertical-align: middle;\n",
       "    }\n",
       "\n",
       "    .dataframe tbody tr th {\n",
       "        vertical-align: top;\n",
       "    }\n",
       "\n",
       "    .dataframe thead th {\n",
       "        text-align: right;\n",
       "    }\n",
       "</style>\n",
       "<table border=\"1\" class=\"dataframe\">\n",
       "  <thead>\n",
       "    <tr style=\"text-align: right;\">\n",
       "      <th></th>\n",
       "      <th>ID</th>\n",
       "      <th>label</th>\n",
       "    </tr>\n",
       "  </thead>\n",
       "  <tbody>\n",
       "    <tr>\n",
       "      <th>0</th>\n",
       "      <td>0</td>\n",
       "      <td>NaN</td>\n",
       "    </tr>\n",
       "    <tr>\n",
       "      <th>1</th>\n",
       "      <td>1</td>\n",
       "      <td>NaN</td>\n",
       "    </tr>\n",
       "    <tr>\n",
       "      <th>2</th>\n",
       "      <td>2</td>\n",
       "      <td>NaN</td>\n",
       "    </tr>\n",
       "    <tr>\n",
       "      <th>3</th>\n",
       "      <td>3</td>\n",
       "      <td>NaN</td>\n",
       "    </tr>\n",
       "    <tr>\n",
       "      <th>4</th>\n",
       "      <td>4</td>\n",
       "      <td>NaN</td>\n",
       "    </tr>\n",
       "    <tr>\n",
       "      <th>...</th>\n",
       "      <td>...</td>\n",
       "      <td>...</td>\n",
       "    </tr>\n",
       "    <tr>\n",
       "      <th>13486</th>\n",
       "      <td>13486</td>\n",
       "      <td>NaN</td>\n",
       "    </tr>\n",
       "    <tr>\n",
       "      <th>13487</th>\n",
       "      <td>13487</td>\n",
       "      <td>NaN</td>\n",
       "    </tr>\n",
       "    <tr>\n",
       "      <th>13488</th>\n",
       "      <td>13488</td>\n",
       "      <td>NaN</td>\n",
       "    </tr>\n",
       "    <tr>\n",
       "      <th>13489</th>\n",
       "      <td>13489</td>\n",
       "      <td>NaN</td>\n",
       "    </tr>\n",
       "    <tr>\n",
       "      <th>13490</th>\n",
       "      <td>13490</td>\n",
       "      <td>NaN</td>\n",
       "    </tr>\n",
       "  </tbody>\n",
       "</table>\n",
       "<p>13491 rows × 2 columns</p>\n",
       "</div>"
      ],
      "text/plain": [
       "          ID  label\n",
       "0          0    NaN\n",
       "1          1    NaN\n",
       "2          2    NaN\n",
       "3          3    NaN\n",
       "4          4    NaN\n",
       "...      ...    ...\n",
       "13486  13486    NaN\n",
       "13487  13487    NaN\n",
       "13488  13488    NaN\n",
       "13489  13489    NaN\n",
       "13490  13490    NaN\n",
       "\n",
       "[13491 rows x 2 columns]"
      ]
     },
     "execution_count": 107,
     "metadata": {},
     "output_type": "execute_result"
    }
   ],
   "source": [
    "df = pd.read_csv(df_path)\n",
    "df\n"
   ]
  },
  {
   "cell_type": "code",
   "execution_count": 108,
   "metadata": {},
   "outputs": [
    {
     "data": {
      "text/html": [
       "<div>\n",
       "<style scoped>\n",
       "    .dataframe tbody tr th:only-of-type {\n",
       "        vertical-align: middle;\n",
       "    }\n",
       "\n",
       "    .dataframe tbody tr th {\n",
       "        vertical-align: top;\n",
       "    }\n",
       "\n",
       "    .dataframe thead th {\n",
       "        text-align: right;\n",
       "    }\n",
       "</style>\n",
       "<table border=\"1\" class=\"dataframe\">\n",
       "  <thead>\n",
       "    <tr style=\"text-align: right;\">\n",
       "      <th></th>\n",
       "      <th>ID</th>\n",
       "      <th>label</th>\n",
       "    </tr>\n",
       "  </thead>\n",
       "  <tbody>\n",
       "    <tr>\n",
       "      <th>0</th>\n",
       "      <td>0</td>\n",
       "      <td>4</td>\n",
       "    </tr>\n",
       "    <tr>\n",
       "      <th>1</th>\n",
       "      <td>1</td>\n",
       "      <td>4</td>\n",
       "    </tr>\n",
       "    <tr>\n",
       "      <th>2</th>\n",
       "      <td>2</td>\n",
       "      <td>3</td>\n",
       "    </tr>\n",
       "    <tr>\n",
       "      <th>3</th>\n",
       "      <td>3</td>\n",
       "      <td>6</td>\n",
       "    </tr>\n",
       "    <tr>\n",
       "      <th>4</th>\n",
       "      <td>4</td>\n",
       "      <td>2</td>\n",
       "    </tr>\n",
       "    <tr>\n",
       "      <th>5</th>\n",
       "      <td>5</td>\n",
       "      <td>0</td>\n",
       "    </tr>\n",
       "    <tr>\n",
       "      <th>6</th>\n",
       "      <td>6</td>\n",
       "      <td>4</td>\n",
       "    </tr>\n",
       "  </tbody>\n",
       "</table>\n",
       "</div>"
      ],
      "text/plain": [
       "   ID  label\n",
       "0   0      4\n",
       "1   1      4\n",
       "2   2      3\n",
       "3   3      6\n",
       "4   4      2\n",
       "5   5      0\n",
       "6   6      4"
      ]
     },
     "execution_count": 108,
     "metadata": {},
     "output_type": "execute_result"
    }
   ],
   "source": [
    "for idx, pred in enumerate(result):\n",
    "    df.loc[idx, \"label\"] = pred\n",
    "df[\"label\"] = df[\"label\"].astype(int)\n",
    "df.head(7)\n"
   ]
  },
  {
   "cell_type": "code",
   "execution_count": 109,
   "metadata": {},
   "outputs": [],
   "source": [
    "df.to_csv(\"submission_result.csv\", index=False)\n"
   ]
  }
 ],
 "metadata": {
  "kernelspec": {
   "display_name": "Python 3",
   "language": "python",
   "name": "python3"
  },
  "language_info": {
   "codemirror_mode": {
    "name": "ipython",
    "version": 3
   },
   "file_extension": ".py",
   "mimetype": "text/x-python",
   "name": "python",
   "nbconvert_exporter": "python",
   "pygments_lexer": "ipython3",
   "version": "3.11.3"
  },
  "orig_nbformat": 4
 },
 "nbformat": 4,
 "nbformat_minor": 2
}
